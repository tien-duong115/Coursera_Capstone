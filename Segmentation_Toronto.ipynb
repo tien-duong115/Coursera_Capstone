{
 "cells": [
  {
   "cell_type": "code",
   "execution_count": 1,
   "metadata": {},
   "outputs": [],
   "source": [
    "import pandas as pd\n",
    "import io\n",
    "import requests\n",
    "import lxml\n",
    "import numpy as np\n",
    "import folium\n",
    "from sklearn.cluster import KMeans\n",
    "from pandas.io.json import json_normalize # tranform JSON file into a pandas dataframe\n",
    "import matplotlib.cm as cm\n",
    "import matplotlib.colors as colors\n",
    "url=\"https://en.wikipedia.org/wiki/List_of_postal_codes_of_Canada:_M\"\n",
    "dfs = pd.read_html(url)"
   ]
  },
  {
   "cell_type": "code",
   "execution_count": 17,
   "metadata": {},
   "outputs": [
    {
     "name": "stdout",
     "output_type": "stream",
     "text": [
      "Collecting package metadata (current_repodata.json): done\n",
      "Solving environment: done\n",
      "\n",
      "## Package Plan ##\n",
      "\n",
      "  environment location: /Users/mac/miniconda3\n",
      "\n",
      "  added / updated specs:\n",
      "    - geopy\n",
      "\n",
      "\n",
      "The following packages will be downloaded:\n",
      "\n",
      "    package                    |            build\n",
      "    ---------------------------|-----------------\n",
      "    geographiclib-1.50         |             py_0          34 KB  conda-forge\n",
      "    geopy-2.0.0                |     pyh9f0ad1d_0          63 KB  conda-forge\n",
      "    openssl-1.1.1i             |       h35c211d_0         1.9 MB  conda-forge\n",
      "    ------------------------------------------------------------\n",
      "                                           Total:         2.0 MB\n",
      "\n",
      "The following NEW packages will be INSTALLED:\n",
      "\n",
      "  geographiclib      conda-forge/noarch::geographiclib-1.50-py_0\n",
      "  geopy              conda-forge/noarch::geopy-2.0.0-pyh9f0ad1d_0\n",
      "\n",
      "The following packages will be UPDATED:\n",
      "\n",
      "  openssl                                 1.1.1h-haf1e3a3_0 --> 1.1.1i-h35c211d_0\n",
      "\n",
      "\n",
      "\n",
      "Downloading and Extracting Packages\n",
      "openssl-1.1.1i       | 1.9 MB    | ##################################### | 100% \n",
      "geographiclib-1.50   | 34 KB     | ##################################### | 100% \n",
      "geopy-2.0.0          | 63 KB     | ##################################### | 100% \n",
      "Preparing transaction: done\n",
      "Verifying transaction: done\n",
      "Executing transaction: done\n"
     ]
    }
   ],
   "source": [
    "import numpy as np # library to handle data in a vectorized manner\n",
    "\n",
    "import pandas as pd # library for data analsysis\n",
    "pd.set_option('display.max_columns', None)\n",
    "pd.set_option('display.max_rows', None)\n",
    "\n",
    "import json # library to handle JSON files\n",
    "\n",
    "# !conda install -c conda-forge geopy --yes # uncomment this line if you haven't completed the Foursquare API lab\n",
    "from geopy.geocoders import Nominatim # convert an address into latitude and longitude values\n",
    "\n",
    "import requests # library to handle requests\n",
    "from pandas.io.json import json_normalize # tranform JSON file into a pandas dataframe\n",
    "\n",
    "# Matplotlib and associated plotting modules\n",
    "import matplotlib.cm as cm\n",
    "import matplotlib.colors as colors\n",
    "\n",
    "# import k-means from clustering stage\n",
    "from sklearn.cluster import KMeans\n",
    "\n",
    "# !conda install -c conda-forge folium=0.5.0 --yes # uncomment this line if you haven't completed the Foursquare API lab\n",
    "import folium # map rendering library"
   ]
  },
  {
   "cell_type": "code",
   "execution_count": 2,
   "metadata": {},
   "outputs": [
    {
     "name": "stdout",
     "output_type": "stream",
     "text": [
      "3\n",
      "<class 'pandas.core.frame.DataFrame'>\n",
      "RangeIndex: 180 entries, 0 to 179\n",
      "Data columns (total 3 columns):\n",
      " #   Column         Non-Null Count  Dtype \n",
      "---  ------         --------------  ----- \n",
      " 0   Postal Code    180 non-null    object\n",
      " 1   Borough        180 non-null    object\n",
      " 2   Neighbourhood  180 non-null    object\n",
      "dtypes: object(3)\n",
      "memory usage: 4.3+ KB\n"
     ]
    }
   ],
   "source": [
    "print(len(dfs))\n",
    "df = dfs[0]\n",
    "df.info()"
   ]
  },
  {
   "cell_type": "markdown",
   "metadata": {},
   "source": [
    "- The dataframe will consist of three columns: PostalCode, Borough, and Neighborhood  \n",
    "\n",
    "- Only process the cells that have an assigned borough. Ignore cells with a borough that is Not assigned.     \n",
    "\n",
    "- More than one neighborhood can exist in one postal code area. For example, in the table on the Wikipedia page, you will notice that M5A is listed   twice and has two neighborhoods: Harbourfront and Regent Park. These two rows will be combined into one row with the neighborhoods separated with a comma as shown in row 11  in the above table.\n",
    "\n",
    "- If a cell has a borough but a Not assigned  neighborhood, then the neighborhood will be the same as the borough.\n",
    "\n",
    "- Clean your Notebook and add Markdown cells to explain your work and any assumptions you are making.\n",
    "\n",
    "- In the last cell of your notebook, use the .shape method to print the number of rows of your dataframe."
   ]
  },
  {
   "cell_type": "code",
   "execution_count": 3,
   "metadata": {},
   "outputs": [],
   "source": [
    "# Dropping row within Borough that's not assigned\n",
    "df['Borough'] =df['Borough'][~df.Borough.str.contains(\"Not assigned\")]"
   ]
  },
  {
   "cell_type": "code",
   "execution_count": 4,
   "metadata": {},
   "outputs": [],
   "source": [
    "# Group by postal code and combined neightbourhood if sharing same postal code\n",
    "df = df.groupby(['Postal Code', 'Borough'], sort=False).agg(', '.join)\n",
    "df.reset_index(inplace=True)"
   ]
  },
  {
   "cell_type": "code",
   "execution_count": 5,
   "metadata": {},
   "outputs": [],
   "source": [
    "# If neightbourhood not assigned, then assigned it with borough\n",
    "df['Neighbourhood'] = np.where(df['Neighbourhood'] == 'Not assigned', df['Borough'], df['Neighbourhood'])"
   ]
  },
  {
   "cell_type": "code",
   "execution_count": 6,
   "metadata": {},
   "outputs": [
    {
     "data": {
      "text/html": [
       "<div>\n",
       "<style scoped>\n",
       "    .dataframe tbody tr th:only-of-type {\n",
       "        vertical-align: middle;\n",
       "    }\n",
       "\n",
       "    .dataframe tbody tr th {\n",
       "        vertical-align: top;\n",
       "    }\n",
       "\n",
       "    .dataframe thead th {\n",
       "        text-align: right;\n",
       "    }\n",
       "</style>\n",
       "<table border=\"1\" class=\"dataframe\">\n",
       "  <thead>\n",
       "    <tr style=\"text-align: right;\">\n",
       "      <th></th>\n",
       "      <th>Postal Code</th>\n",
       "      <th>Borough</th>\n",
       "      <th>Neighbourhood</th>\n",
       "    </tr>\n",
       "  </thead>\n",
       "  <tbody>\n",
       "    <tr>\n",
       "      <th>0</th>\n",
       "      <td>M3A</td>\n",
       "      <td>North York</td>\n",
       "      <td>Parkwoods</td>\n",
       "    </tr>\n",
       "    <tr>\n",
       "      <th>1</th>\n",
       "      <td>M4A</td>\n",
       "      <td>North York</td>\n",
       "      <td>Victoria Village</td>\n",
       "    </tr>\n",
       "    <tr>\n",
       "      <th>2</th>\n",
       "      <td>M5A</td>\n",
       "      <td>Downtown Toronto</td>\n",
       "      <td>Regent Park, Harbourfront</td>\n",
       "    </tr>\n",
       "    <tr>\n",
       "      <th>3</th>\n",
       "      <td>M6A</td>\n",
       "      <td>North York</td>\n",
       "      <td>Lawrence Manor, Lawrence Heights</td>\n",
       "    </tr>\n",
       "    <tr>\n",
       "      <th>4</th>\n",
       "      <td>M7A</td>\n",
       "      <td>Downtown Toronto</td>\n",
       "      <td>Queen's Park, Ontario Provincial Government</td>\n",
       "    </tr>\n",
       "    <tr>\n",
       "      <th>...</th>\n",
       "      <td>...</td>\n",
       "      <td>...</td>\n",
       "      <td>...</td>\n",
       "    </tr>\n",
       "    <tr>\n",
       "      <th>98</th>\n",
       "      <td>M8X</td>\n",
       "      <td>Etobicoke</td>\n",
       "      <td>The Kingsway, Montgomery Road, Old Mill North</td>\n",
       "    </tr>\n",
       "    <tr>\n",
       "      <th>99</th>\n",
       "      <td>M4Y</td>\n",
       "      <td>Downtown Toronto</td>\n",
       "      <td>Church and Wellesley</td>\n",
       "    </tr>\n",
       "    <tr>\n",
       "      <th>100</th>\n",
       "      <td>M7Y</td>\n",
       "      <td>East Toronto</td>\n",
       "      <td>Business reply mail Processing Centre, South C...</td>\n",
       "    </tr>\n",
       "    <tr>\n",
       "      <th>101</th>\n",
       "      <td>M8Y</td>\n",
       "      <td>Etobicoke</td>\n",
       "      <td>Old Mill South, King's Mill Park, Sunnylea, Hu...</td>\n",
       "    </tr>\n",
       "    <tr>\n",
       "      <th>102</th>\n",
       "      <td>M8Z</td>\n",
       "      <td>Etobicoke</td>\n",
       "      <td>Mimico NW, The Queensway West, South of Bloor,...</td>\n",
       "    </tr>\n",
       "  </tbody>\n",
       "</table>\n",
       "<p>103 rows × 3 columns</p>\n",
       "</div>"
      ],
      "text/plain": [
       "    Postal Code           Borough  \\\n",
       "0           M3A        North York   \n",
       "1           M4A        North York   \n",
       "2           M5A  Downtown Toronto   \n",
       "3           M6A        North York   \n",
       "4           M7A  Downtown Toronto   \n",
       "..          ...               ...   \n",
       "98          M8X         Etobicoke   \n",
       "99          M4Y  Downtown Toronto   \n",
       "100         M7Y      East Toronto   \n",
       "101         M8Y         Etobicoke   \n",
       "102         M8Z         Etobicoke   \n",
       "\n",
       "                                         Neighbourhood  \n",
       "0                                            Parkwoods  \n",
       "1                                     Victoria Village  \n",
       "2                            Regent Park, Harbourfront  \n",
       "3                     Lawrence Manor, Lawrence Heights  \n",
       "4          Queen's Park, Ontario Provincial Government  \n",
       "..                                                 ...  \n",
       "98       The Kingsway, Montgomery Road, Old Mill North  \n",
       "99                                Church and Wellesley  \n",
       "100  Business reply mail Processing Centre, South C...  \n",
       "101  Old Mill South, King's Mill Park, Sunnylea, Hu...  \n",
       "102  Mimico NW, The Queensway West, South of Bloor,...  \n",
       "\n",
       "[103 rows x 3 columns]"
      ]
     },
     "execution_count": 6,
     "metadata": {},
     "output_type": "execute_result"
    }
   ],
   "source": [
    "df"
   ]
  },
  {
   "cell_type": "markdown",
   "metadata": {},
   "source": [
    "## Import in the geospatial coordinate"
   ]
  },
  {
   "cell_type": "code",
   "execution_count": 7,
   "metadata": {},
   "outputs": [],
   "source": [
    "df2 = pd.read_csv('Geospatial_Coordinates.csv')"
   ]
  },
  {
   "cell_type": "code",
   "execution_count": 8,
   "metadata": {},
   "outputs": [],
   "source": [
    "# join both table on postal \n",
    "df = df.join(df2.set_index('Postal Code'), on='Postal Code')"
   ]
  },
  {
   "cell_type": "markdown",
   "metadata": {},
   "source": [
    "### Since we only want specific location which is Toronto downtown, We will only extract those within the coordinate"
   ]
  },
  {
   "cell_type": "code",
   "execution_count": 9,
   "metadata": {},
   "outputs": [],
   "source": [
    "df = df.loc[df['Borough']== 'Downtown Toronto']"
   ]
  },
  {
   "cell_type": "code",
   "execution_count": 10,
   "metadata": {},
   "outputs": [
    {
     "data": {
      "text/html": [
       "<div>\n",
       "<style scoped>\n",
       "    .dataframe tbody tr th:only-of-type {\n",
       "        vertical-align: middle;\n",
       "    }\n",
       "\n",
       "    .dataframe tbody tr th {\n",
       "        vertical-align: top;\n",
       "    }\n",
       "\n",
       "    .dataframe thead th {\n",
       "        text-align: right;\n",
       "    }\n",
       "</style>\n",
       "<table border=\"1\" class=\"dataframe\">\n",
       "  <thead>\n",
       "    <tr style=\"text-align: right;\">\n",
       "      <th></th>\n",
       "      <th>Postal Code</th>\n",
       "      <th>Borough</th>\n",
       "      <th>Neighbourhood</th>\n",
       "      <th>Latitude</th>\n",
       "      <th>Longitude</th>\n",
       "    </tr>\n",
       "  </thead>\n",
       "  <tbody>\n",
       "    <tr>\n",
       "      <th>2</th>\n",
       "      <td>M5A</td>\n",
       "      <td>Downtown Toronto</td>\n",
       "      <td>Regent Park, Harbourfront</td>\n",
       "      <td>43.654260</td>\n",
       "      <td>-79.360636</td>\n",
       "    </tr>\n",
       "    <tr>\n",
       "      <th>4</th>\n",
       "      <td>M7A</td>\n",
       "      <td>Downtown Toronto</td>\n",
       "      <td>Queen's Park, Ontario Provincial Government</td>\n",
       "      <td>43.662301</td>\n",
       "      <td>-79.389494</td>\n",
       "    </tr>\n",
       "    <tr>\n",
       "      <th>9</th>\n",
       "      <td>M5B</td>\n",
       "      <td>Downtown Toronto</td>\n",
       "      <td>Garden District, Ryerson</td>\n",
       "      <td>43.657162</td>\n",
       "      <td>-79.378937</td>\n",
       "    </tr>\n",
       "    <tr>\n",
       "      <th>15</th>\n",
       "      <td>M5C</td>\n",
       "      <td>Downtown Toronto</td>\n",
       "      <td>St. James Town</td>\n",
       "      <td>43.651494</td>\n",
       "      <td>-79.375418</td>\n",
       "    </tr>\n",
       "    <tr>\n",
       "      <th>20</th>\n",
       "      <td>M5E</td>\n",
       "      <td>Downtown Toronto</td>\n",
       "      <td>Berczy Park</td>\n",
       "      <td>43.644771</td>\n",
       "      <td>-79.373306</td>\n",
       "    </tr>\n",
       "  </tbody>\n",
       "</table>\n",
       "</div>"
      ],
      "text/plain": [
       "   Postal Code           Borough                                Neighbourhood  \\\n",
       "2          M5A  Downtown Toronto                    Regent Park, Harbourfront   \n",
       "4          M7A  Downtown Toronto  Queen's Park, Ontario Provincial Government   \n",
       "9          M5B  Downtown Toronto                     Garden District, Ryerson   \n",
       "15         M5C  Downtown Toronto                               St. James Town   \n",
       "20         M5E  Downtown Toronto                                  Berczy Park   \n",
       "\n",
       "     Latitude  Longitude  \n",
       "2   43.654260 -79.360636  \n",
       "4   43.662301 -79.389494  \n",
       "9   43.657162 -79.378937  \n",
       "15  43.651494 -79.375418  \n",
       "20  43.644771 -79.373306  "
      ]
     },
     "execution_count": 10,
     "metadata": {},
     "output_type": "execute_result"
    }
   ],
   "source": [
    "df.head()"
   ]
  },
  {
   "cell_type": "code",
   "execution_count": 11,
   "metadata": {},
   "outputs": [],
   "source": [
    "latitude = \t43.654260\n",
    "longitude = -79.360636"
   ]
  },
  {
   "cell_type": "code",
   "execution_count": 12,
   "metadata": {},
   "outputs": [
    {
     "data": {
      "text/html": [
       "<div style=\"width:100%;\"><div style=\"position:relative;width:100%;height:0;padding-bottom:60%;\"><span style=\"color:#565656\">Make this Notebook Trusted to load map: File -> Trust Notebook</span><iframe src=\"about:blank\" style=\"position:absolute;width:100%;height:100%;left:0;top:0;border:none !important;\" data-html=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 onload=\"this.contentDocument.open();this.contentDocument.write(atob(this.getAttribute('data-html')));this.contentDocument.close();\" allowfullscreen webkitallowfullscreen mozallowfullscreen></iframe></div></div>"
      ],
      "text/plain": [
       "<folium.folium.Map at 0x7fb525177370>"
      ]
     },
     "execution_count": 12,
     "metadata": {},
     "output_type": "execute_result"
    }
   ],
   "source": [
    "venues_map = folium.Map(location=[latitude, longitude], zoom_start=13) # generate map centred around the Conrad Hotel\n",
    "\n",
    "# add a red circle marker to represent the Downtown Toronto\n",
    "folium.CircleMarker(\n",
    "    [latitude, longitude],\n",
    "    radius=10,\n",
    "    color='red',\n",
    "    popup='Downtown Toronto',\n",
    "    fill = True,\n",
    "    fill_color = 'green',\n",
    "    fill_opacity = 0.5\n",
    ").add_to(venues_map)\n",
    "\n",
    "# add the Borough as blue circle markers\n",
    "for lat, lng, label in zip(df['Latitude'], df['Longitude'], df['Borough']):\n",
    "    folium.CircleMarker(\n",
    "        [lat, lng],\n",
    "        radius=5,\n",
    "        color='blue',\n",
    "        popup=label,\n",
    "        fill = True,\n",
    "        fill_color='blue',\n",
    "        fill_opacity=0.6\n",
    "    ).add_to(venues_map)\n",
    "\n",
    "# # display map\n",
    "venues_map"
   ]
  },
  {
   "cell_type": "markdown",
   "metadata": {},
   "source": [
    "# Clustering the Neighborhood "
   ]
  },
  {
   "cell_type": "code",
   "execution_count": 13,
   "metadata": {},
   "outputs": [],
   "source": [
    "# df.head()"
   ]
  },
  {
   "cell_type": "code",
   "execution_count": 14,
   "metadata": {},
   "outputs": [],
   "source": [
    "# Toronto_cluser = df.transpose()\n",
    "# Toronto_cluser.columns = ['Group-{}'.format(i) for i in range(0,len(Toronto_cluser.columns))]\n",
    "# Toronto_cluser"
   ]
  },
  {
   "cell_type": "markdown",
   "metadata": {},
   "source": [
    "## Seperation into 3 different cluster"
   ]
  },
  {
   "cell_type": "code",
   "execution_count": 15,
   "metadata": {},
   "outputs": [],
   "source": [
    "# set number of clusters\n",
    "kclusters = 3\n",
    "\n",
    "manhattan_grouped_clustering = df.drop(['Postal Code', 'Borough','Neighbourhood'], 1)\n",
    "\n",
    "# run k-means clustering\n",
    "kmeans = KMeans(n_clusters=kclusters, random_state=0).fit(manhattan_grouped_clustering)\n",
    "\n",
    "# check cluster labels generated for each row in the dataframe\n",
    "kmeans.labels_\n",
    "\n",
    "# Insert k cluster as column into df\n",
    "\n",
    "df.insert(0, 'cluster label', kmeans.labels_)"
   ]
  },
  {
   "cell_type": "markdown",
   "metadata": {},
   "source": [
    "# Mapping the cluster"
   ]
  },
  {
   "cell_type": "code",
   "execution_count": 16,
   "metadata": {},
   "outputs": [
    {
     "data": {
      "text/html": [
       "<div style=\"width:100%;\"><div style=\"position:relative;width:100%;height:0;padding-bottom:60%;\"><span style=\"color:#565656\">Make this Notebook Trusted to load map: File -> Trust Notebook</span><iframe src=\"about:blank\" style=\"position:absolute;width:100%;height:100%;left:0;top:0;border:none !important;\" data-html=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 onload=\"this.contentDocument.open();this.contentDocument.write(atob(this.getAttribute('data-html')));this.contentDocument.close();\" allowfullscreen webkitallowfullscreen mozallowfullscreen></iframe></div></div>"
      ],
      "text/plain": [
       "<folium.folium.Map at 0x7fb525213550>"
      ]
     },
     "execution_count": 16,
     "metadata": {},
     "output_type": "execute_result"
    }
   ],
   "source": [
    "map_clusters = folium.Map(location=[latitude, longitude], zoom_start=11)\n",
    "\n",
    "# set color scheme for the clusters\n",
    "x = np.arange(kclusters)\n",
    "ys = [i + x + (i*x)**2 for i in range(kclusters)]\n",
    "colors_array = cm.rainbow(np.linspace(0, 1, len(ys)))\n",
    "rainbow = [colors.rgb2hex(i) for i in colors_array]\n",
    "\n",
    "# add markers to the map\n",
    "markers_colors = []\n",
    "for lat, lon, poi, cluster in zip(df['Latitude'], df['Longitude'], df['Neighbourhood'],df['cluster label']):\n",
    "    label = folium.Popup(str(poi) + ' Cluster ' + str(cluster), parse_html=True)\n",
    "    folium.CircleMarker(\n",
    "        [lat, lon],\n",
    "        radius=5,\n",
    "        popup=label,\n",
    "        color=rainbow[cluster-1],\n",
    "        fill=True,\n",
    "        fill_color=rainbow[cluster-1],\n",
    "        fill_opacity=0.7).add_to(map_clusters)\n",
    "       \n",
    "map_clusters"
   ]
  },
  {
   "cell_type": "markdown",
   "metadata": {},
   "source": [
    "# San Jose Food and entertaiment venues Exploration"
   ]
  },
  {
   "cell_type": "code",
   "execution_count": 104,
   "metadata": {},
   "outputs": [
    {
     "name": "stdout",
     "output_type": "stream",
     "text": [
      "Your credentails:\n",
      "CLIENT_ID: NVHSI1USRDZDFZ2P2FJTTKTDG343TF2K5M4YI1CASRQ2VX2N\n",
      "CLIENT_SECRET:3RNICWVFXC35EOGADJTN3LQBHLU0LHAAL4JQM1OPAWWVREO2\n"
     ]
    }
   ],
   "source": [
    "# Hidden cell\n",
    "CLIENT_ID = 'NVHSI1USRDZDFZ2P2FJTTKTDG343TF2K5M4YI1CASRQ2VX2N' # your Foursquare ID\n",
    "CLIENT_SECRET = '3RNICWVFXC35EOGADJTN3LQBHLU0LHAAL4JQM1OPAWWVREO2' # your Foursquare Secret\n",
    "ACCESS_TOKEN = 'L024RG4LPXZA4GEHDJ324JPSHGZRFWVL32XL5S4L2S5HNKDF' # your FourSquare Access Token\n",
    "VERSION = '20180604'\n",
    "LIMIT = 30\n",
    "print('Your credentails:')\n",
    "print('CLIENT_ID: ' + CLIENT_ID)\n",
    "print('CLIENT_SECRET:' + CLIENT_SECRET)"
   ]
  },
  {
   "cell_type": "code",
   "execution_count": 321,
   "metadata": {},
   "outputs": [
    {
     "name": "stdout",
     "output_type": "stream",
     "text": [
      "The geograpical coordinate of San Jose City are 37.3361905, -121.890583.\n"
     ]
    }
   ],
   "source": [
    "# Specify the location of our data point\n",
    "address = 'San Jose, CA'\n",
    "\n",
    "geolocator = Nominatim(user_agent=\"foursquare_agent\")\n",
    "location = geolocator.geocode(address)\n",
    "latitude = location.latitude\n",
    "longitude = location.longitude\n",
    "print('The geograpical coordinate of San Jose City are {}, {}.'.format(latitude, longitude))"
   ]
  },
  {
   "cell_type": "code",
   "execution_count": null,
   "metadata": {},
   "outputs": [],
   "source": []
  },
  {
   "cell_type": "code",
   "execution_count": 322,
   "metadata": {},
   "outputs": [
    {
     "name": "stderr",
     "output_type": "stream",
     "text": [
      "<ipython-input-322-9ae3c638c8e5>:10: FutureWarning: pandas.io.json.json_normalize is deprecated, use pandas.json_normalize instead\n",
      "  dframe = json_normalize(v)  # normalize our result with json normalize function\n"
     ]
    }
   ],
   "source": [
    "# Generate a foursquare query for RESTAURANTS in the area\n",
    "search_query = 'restaurant'\n",
    "radius = 1000\n",
    "url = 'https://api.foursquare.com/v2/venues/search?client_id={}&client_secret={}&ll={},{}&oauth_token={}&v={}&radius={}&limit={}'.format(CLIENT_ID, CLIENT_SECRET, latitude, longitude,ACCESS_TOKEN, VERSION, radius, LIMIT)\n",
    "\n",
    "\n",
    "# Get our result return from the foursqaure dbase\n",
    "results = requests.get(url).json()\n",
    "v=results['response']['venues']   # extract the result from json file\n",
    "dframe = json_normalize(v)  # normalize our result with json normalize function"
   ]
  },
  {
   "cell_type": "code",
   "execution_count": 323,
   "metadata": {},
   "outputs": [],
   "source": [
    "# keep only columns that include venue name, and anything that is associated with location\n",
    "filtered_columns = ['name', 'categories'] + [col for col in dframe.columns if col.startswith('location.')] + ['id']\n",
    "dataframe_filtered = dframe.loc[:, filtered_columns]\n",
    "\n",
    "# function that extracts the category of the venue\n",
    "def get_category_type(row):\n",
    "    try:\n",
    "        categories_list = row['categories']\n",
    "    except:\n",
    "        categories_list = row['venue.categories']\n",
    "        \n",
    "    if len(categories_list) == 0:\n",
    "        return None\n",
    "    else:\n",
    "        return categories_list[0]['name']\n",
    "\n",
    "# filter the category for each row\n",
    "dataframe_filtered['categories'] = dataframe_filtered.apply(get_category_type, axis=1)\n",
    "\n",
    "# clean column names by keeping only last term\n",
    "dataframe_filtered.columns = [column.split('.')[-1] for column in dataframe_filtered.columns]\n",
    "\n",
    "# dataframe_filtered"
   ]
  },
  {
   "cell_type": "code",
   "execution_count": 324,
   "metadata": {},
   "outputs": [
    {
     "data": {
      "text/html": [
       "<div>\n",
       "<style scoped>\n",
       "    .dataframe tbody tr th:only-of-type {\n",
       "        vertical-align: middle;\n",
       "    }\n",
       "\n",
       "    .dataframe tbody tr th {\n",
       "        vertical-align: top;\n",
       "    }\n",
       "\n",
       "    .dataframe thead th {\n",
       "        text-align: right;\n",
       "    }\n",
       "</style>\n",
       "<table border=\"1\" class=\"dataframe\">\n",
       "  <thead>\n",
       "    <tr style=\"text-align: right;\">\n",
       "      <th></th>\n",
       "      <th>name</th>\n",
       "      <th>categories</th>\n",
       "      <th>address</th>\n",
       "      <th>crossStreet</th>\n",
       "      <th>lat</th>\n",
       "      <th>lng</th>\n",
       "      <th>labeledLatLngs</th>\n",
       "      <th>distance</th>\n",
       "      <th>postalCode</th>\n",
       "      <th>cc</th>\n",
       "      <th>city</th>\n",
       "      <th>state</th>\n",
       "      <th>country</th>\n",
       "      <th>formattedAddress</th>\n",
       "      <th>neighborhood</th>\n",
       "      <th>id</th>\n",
       "    </tr>\n",
       "  </thead>\n",
       "  <tbody>\n",
       "    <tr>\n",
       "      <th>0</th>\n",
       "      <td>Valley Transportation Authority</td>\n",
       "      <td>Building</td>\n",
       "      <td>2 N 1st St Ste 100</td>\n",
       "      <td>at Santa Clara St</td>\n",
       "      <td>37.336388</td>\n",
       "      <td>-121.890705</td>\n",
       "      <td>[{'label': 'display', 'lat': 37.33638837149467...</td>\n",
       "      <td>24</td>\n",
       "      <td>95113</td>\n",
       "      <td>US</td>\n",
       "      <td>San Jose</td>\n",
       "      <td>CA</td>\n",
       "      <td>United States</td>\n",
       "      <td>[2 N 1st St Ste 100 (at Santa Clara St), San J...</td>\n",
       "      <td>NaN</td>\n",
       "      <td>4ccf30627b6854817136baf8</td>\n",
       "    </tr>\n",
       "    <tr>\n",
       "      <th>1</th>\n",
       "      <td>Cafe Eden</td>\n",
       "      <td>Mediterranean Restaurant</td>\n",
       "      <td>2 N 1st St</td>\n",
       "      <td>Santa Clara</td>\n",
       "      <td>37.336346</td>\n",
       "      <td>-121.890586</td>\n",
       "      <td>[{'label': 'display', 'lat': 37.33634646299972...</td>\n",
       "      <td>17</td>\n",
       "      <td>95113</td>\n",
       "      <td>US</td>\n",
       "      <td>San Jose</td>\n",
       "      <td>CA</td>\n",
       "      <td>United States</td>\n",
       "      <td>[2 N 1st St (Santa Clara), San Jose, CA 95113]</td>\n",
       "      <td>NaN</td>\n",
       "      <td>533479e1498e901ecf240ac8</td>\n",
       "    </tr>\n",
       "    <tr>\n",
       "      <th>2</th>\n",
       "      <td>VTA Santa Clara Light Rail Station</td>\n",
       "      <td>Light Rail Station</td>\n",
       "      <td>Fountain Alley</td>\n",
       "      <td>Btwn S 1st St &amp; S 2nd St</td>\n",
       "      <td>37.335840</td>\n",
       "      <td>-121.890299</td>\n",
       "      <td>[{'label': 'display', 'lat': 37.33583973154113...</td>\n",
       "      <td>46</td>\n",
       "      <td>95113</td>\n",
       "      <td>US</td>\n",
       "      <td>San Jose</td>\n",
       "      <td>CA</td>\n",
       "      <td>United States</td>\n",
       "      <td>[Fountain Alley (Btwn S 1st St &amp; S 2nd St), Sa...</td>\n",
       "      <td>NaN</td>\n",
       "      <td>4b991210f964a5205b5f35e3</td>\n",
       "    </tr>\n",
       "    <tr>\n",
       "      <th>3</th>\n",
       "      <td>Gente Cafe</td>\n",
       "      <td>Café</td>\n",
       "      <td>17 N 2nd St</td>\n",
       "      <td>NaN</td>\n",
       "      <td>37.337128</td>\n",
       "      <td>-121.889967</td>\n",
       "      <td>[{'label': 'display', 'lat': 37.337128, 'lng':...</td>\n",
       "      <td>117</td>\n",
       "      <td>95113</td>\n",
       "      <td>US</td>\n",
       "      <td>San Jose</td>\n",
       "      <td>CA</td>\n",
       "      <td>United States</td>\n",
       "      <td>[17 N 2nd St, San Jose, CA 95113]</td>\n",
       "      <td>NaN</td>\n",
       "      <td>5dbdeb65363a350007c28b24</td>\n",
       "    </tr>\n",
       "    <tr>\n",
       "      <th>4</th>\n",
       "      <td>VTA Downtown Customer Service Center</td>\n",
       "      <td>Office</td>\n",
       "      <td>55 W Santa Clara St Ste A</td>\n",
       "      <td>N 1st St</td>\n",
       "      <td>37.336087</td>\n",
       "      <td>-121.890467</td>\n",
       "      <td>[{'label': 'display', 'lat': 37.33608663082123...</td>\n",
       "      <td>15</td>\n",
       "      <td>95113</td>\n",
       "      <td>US</td>\n",
       "      <td>San Jose</td>\n",
       "      <td>CA</td>\n",
       "      <td>United States</td>\n",
       "      <td>[55 W Santa Clara St Ste A (N 1st St), San Jos...</td>\n",
       "      <td>NaN</td>\n",
       "      <td>4e6f803a45dd49e0f1ce93a1</td>\n",
       "    </tr>\n",
       "  </tbody>\n",
       "</table>\n",
       "</div>"
      ],
      "text/plain": [
       "                                   name                categories  \\\n",
       "0       Valley Transportation Authority                  Building   \n",
       "1                             Cafe Eden  Mediterranean Restaurant   \n",
       "2    VTA Santa Clara Light Rail Station        Light Rail Station   \n",
       "3                            Gente Cafe                      Café   \n",
       "4  VTA Downtown Customer Service Center                    Office   \n",
       "\n",
       "                     address               crossStreet        lat         lng  \\\n",
       "0         2 N 1st St Ste 100         at Santa Clara St  37.336388 -121.890705   \n",
       "1                 2 N 1st St               Santa Clara  37.336346 -121.890586   \n",
       "2             Fountain Alley  Btwn S 1st St & S 2nd St  37.335840 -121.890299   \n",
       "3                17 N 2nd St                       NaN  37.337128 -121.889967   \n",
       "4  55 W Santa Clara St Ste A                  N 1st St  37.336087 -121.890467   \n",
       "\n",
       "                                      labeledLatLngs  distance postalCode  cc  \\\n",
       "0  [{'label': 'display', 'lat': 37.33638837149467...        24      95113  US   \n",
       "1  [{'label': 'display', 'lat': 37.33634646299972...        17      95113  US   \n",
       "2  [{'label': 'display', 'lat': 37.33583973154113...        46      95113  US   \n",
       "3  [{'label': 'display', 'lat': 37.337128, 'lng':...       117      95113  US   \n",
       "4  [{'label': 'display', 'lat': 37.33608663082123...        15      95113  US   \n",
       "\n",
       "       city state        country  \\\n",
       "0  San Jose    CA  United States   \n",
       "1  San Jose    CA  United States   \n",
       "2  San Jose    CA  United States   \n",
       "3  San Jose    CA  United States   \n",
       "4  San Jose    CA  United States   \n",
       "\n",
       "                                    formattedAddress neighborhood  \\\n",
       "0  [2 N 1st St Ste 100 (at Santa Clara St), San J...          NaN   \n",
       "1     [2 N 1st St (Santa Clara), San Jose, CA 95113]          NaN   \n",
       "2  [Fountain Alley (Btwn S 1st St & S 2nd St), Sa...          NaN   \n",
       "3                  [17 N 2nd St, San Jose, CA 95113]          NaN   \n",
       "4  [55 W Santa Clara St Ste A (N 1st St), San Jos...          NaN   \n",
       "\n",
       "                         id  \n",
       "0  4ccf30627b6854817136baf8  \n",
       "1  533479e1498e901ecf240ac8  \n",
       "2  4b991210f964a5205b5f35e3  \n",
       "3  5dbdeb65363a350007c28b24  \n",
       "4  4e6f803a45dd49e0f1ce93a1  "
      ]
     },
     "execution_count": 324,
     "metadata": {},
     "output_type": "execute_result"
    }
   ],
   "source": [
    "dataframe_filtered.head()"
   ]
  },
  {
   "cell_type": "code",
   "execution_count": 325,
   "metadata": {},
   "outputs": [],
   "source": [
    "dataframe_filtered['distance'] = dataframe_filtered['distance'].apply(lambda x: 'far' if x <= 53 else 'close')"
   ]
  },
  {
   "cell_type": "code",
   "execution_count": 326,
   "metadata": {},
   "outputs": [],
   "source": [
    "df = dataframe_filtered[['name', 'categories','address','lat','lng', 'postalCode','formattedAddress', 'id','distance']]"
   ]
  },
  {
   "cell_type": "code",
   "execution_count": 327,
   "metadata": {},
   "outputs": [
    {
     "data": {
      "text/html": [
       "<div>\n",
       "<style scoped>\n",
       "    .dataframe tbody tr th:only-of-type {\n",
       "        vertical-align: middle;\n",
       "    }\n",
       "\n",
       "    .dataframe tbody tr th {\n",
       "        vertical-align: top;\n",
       "    }\n",
       "\n",
       "    .dataframe thead th {\n",
       "        text-align: right;\n",
       "    }\n",
       "</style>\n",
       "<table border=\"1\" class=\"dataframe\">\n",
       "  <thead>\n",
       "    <tr style=\"text-align: right;\">\n",
       "      <th></th>\n",
       "      <th>name</th>\n",
       "      <th>categories</th>\n",
       "      <th>address</th>\n",
       "      <th>lat</th>\n",
       "      <th>lng</th>\n",
       "      <th>postalCode</th>\n",
       "      <th>formattedAddress</th>\n",
       "      <th>id</th>\n",
       "      <th>distance</th>\n",
       "    </tr>\n",
       "  </thead>\n",
       "  <tbody>\n",
       "    <tr>\n",
       "      <th>0</th>\n",
       "      <td>Valley Transportation Authority</td>\n",
       "      <td>Building</td>\n",
       "      <td>2 N 1st St Ste 100</td>\n",
       "      <td>37.336388</td>\n",
       "      <td>-121.890705</td>\n",
       "      <td>95113</td>\n",
       "      <td>[2 N 1st St Ste 100 (at Santa Clara St), San J...</td>\n",
       "      <td>4ccf30627b6854817136baf8</td>\n",
       "      <td>far</td>\n",
       "    </tr>\n",
       "    <tr>\n",
       "      <th>1</th>\n",
       "      <td>Cafe Eden</td>\n",
       "      <td>Mediterranean Restaurant</td>\n",
       "      <td>2 N 1st St</td>\n",
       "      <td>37.336346</td>\n",
       "      <td>-121.890586</td>\n",
       "      <td>95113</td>\n",
       "      <td>[2 N 1st St (Santa Clara), San Jose, CA 95113]</td>\n",
       "      <td>533479e1498e901ecf240ac8</td>\n",
       "      <td>far</td>\n",
       "    </tr>\n",
       "    <tr>\n",
       "      <th>2</th>\n",
       "      <td>VTA Santa Clara Light Rail Station</td>\n",
       "      <td>Light Rail Station</td>\n",
       "      <td>Fountain Alley</td>\n",
       "      <td>37.335840</td>\n",
       "      <td>-121.890299</td>\n",
       "      <td>95113</td>\n",
       "      <td>[Fountain Alley (Btwn S 1st St &amp; S 2nd St), Sa...</td>\n",
       "      <td>4b991210f964a5205b5f35e3</td>\n",
       "      <td>far</td>\n",
       "    </tr>\n",
       "    <tr>\n",
       "      <th>3</th>\n",
       "      <td>Gente Cafe</td>\n",
       "      <td>Café</td>\n",
       "      <td>17 N 2nd St</td>\n",
       "      <td>37.337128</td>\n",
       "      <td>-121.889967</td>\n",
       "      <td>95113</td>\n",
       "      <td>[17 N 2nd St, San Jose, CA 95113]</td>\n",
       "      <td>5dbdeb65363a350007c28b24</td>\n",
       "      <td>close</td>\n",
       "    </tr>\n",
       "    <tr>\n",
       "      <th>4</th>\n",
       "      <td>VTA Downtown Customer Service Center</td>\n",
       "      <td>Office</td>\n",
       "      <td>55 W Santa Clara St Ste A</td>\n",
       "      <td>37.336087</td>\n",
       "      <td>-121.890467</td>\n",
       "      <td>95113</td>\n",
       "      <td>[55 W Santa Clara St Ste A (N 1st St), San Jos...</td>\n",
       "      <td>4e6f803a45dd49e0f1ce93a1</td>\n",
       "      <td>far</td>\n",
       "    </tr>\n",
       "  </tbody>\n",
       "</table>\n",
       "</div>"
      ],
      "text/plain": [
       "                                   name                categories  \\\n",
       "0       Valley Transportation Authority                  Building   \n",
       "1                             Cafe Eden  Mediterranean Restaurant   \n",
       "2    VTA Santa Clara Light Rail Station        Light Rail Station   \n",
       "3                            Gente Cafe                      Café   \n",
       "4  VTA Downtown Customer Service Center                    Office   \n",
       "\n",
       "                     address        lat         lng postalCode  \\\n",
       "0         2 N 1st St Ste 100  37.336388 -121.890705      95113   \n",
       "1                 2 N 1st St  37.336346 -121.890586      95113   \n",
       "2             Fountain Alley  37.335840 -121.890299      95113   \n",
       "3                17 N 2nd St  37.337128 -121.889967      95113   \n",
       "4  55 W Santa Clara St Ste A  37.336087 -121.890467      95113   \n",
       "\n",
       "                                    formattedAddress  \\\n",
       "0  [2 N 1st St Ste 100 (at Santa Clara St), San J...   \n",
       "1     [2 N 1st St (Santa Clara), San Jose, CA 95113]   \n",
       "2  [Fountain Alley (Btwn S 1st St & S 2nd St), Sa...   \n",
       "3                  [17 N 2nd St, San Jose, CA 95113]   \n",
       "4  [55 W Santa Clara St Ste A (N 1st St), San Jos...   \n",
       "\n",
       "                         id distance  \n",
       "0  4ccf30627b6854817136baf8      far  \n",
       "1  533479e1498e901ecf240ac8      far  \n",
       "2  4b991210f964a5205b5f35e3      far  \n",
       "3  5dbdeb65363a350007c28b24    close  \n",
       "4  4e6f803a45dd49e0f1ce93a1      far  "
      ]
     },
     "execution_count": 327,
     "metadata": {},
     "output_type": "execute_result"
    }
   ],
   "source": [
    "df.head()"
   ]
  },
  {
   "cell_type": "code",
   "execution_count": 328,
   "metadata": {},
   "outputs": [
    {
     "data": {
      "text/html": [
       "<div style=\"width:100%;\"><div style=\"position:relative;width:100%;height:0;padding-bottom:60%;\"><span style=\"color:#565656\">Make this Notebook Trusted to load map: File -> Trust Notebook</span><iframe src=\"about:blank\" style=\"position:absolute;width:100%;height:100%;left:0;top:0;border:none !important;\" data-html=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 onload=\"this.contentDocument.open();this.contentDocument.write(atob(this.getAttribute('data-html')));this.contentDocument.close();\" allowfullscreen webkitallowfullscreen mozallowfullscreen></iframe></div></div>"
      ],
      "text/plain": [
       "<folium.folium.Map at 0x7fb50b93cd60>"
      ]
     },
     "execution_count": 328,
     "metadata": {},
     "output_type": "execute_result"
    }
   ],
   "source": [
    "sanjose_map = folium.Map(location=[latitude, longitude], zoom_start=12)\n",
    "\n",
    "\n",
    "incidents = folium.map.FeatureGroup()\n",
    "\n",
    "# loop through the 100 crimes and add each to the incidents feature group\n",
    "for lat, lng, in zip(df.lat, df.lng):\n",
    "    incidents.add_child(\n",
    "        folium.features.CircleMarker(\n",
    "            [lat, lng],\n",
    "            radius=5, # define how big you want the circle markers to be\n",
    "            color='yellow',\n",
    "            fill=True,\n",
    "            fill_color='blue',\n",
    "            fill_opacity=0.6\n",
    "        )\n",
    "    )\n",
    "\n",
    "# add pop-up text to each marker on the map\n",
    "latitudes = list(df.lat)\n",
    "longitudes = list(df.lng)\n",
    "labels = list(df.categories)\n",
    "\n",
    "for lat, lng, label in zip(df.lat,df.lng, df.categories):\n",
    "    folium.Marker([lat, lng], popup=label).add_to(sanjose_map)    \n",
    "    \n",
    "# add incidents to map\n",
    "sanjose_map.add_child(incidents)"
   ]
  },
  {
   "cell_type": "code",
   "execution_count": 329,
   "metadata": {},
   "outputs": [
    {
     "data": {
      "text/plain": [
       "Index(['name', 'categories', 'address', 'lat', 'lng', 'postalCode',\n",
       "       'formattedAddress', 'id', 'distance'],\n",
       "      dtype='object')"
      ]
     },
     "execution_count": 329,
     "metadata": {},
     "output_type": "execute_result"
    }
   ],
   "source": [
    "df.columns"
   ]
  },
  {
   "cell_type": "code",
   "execution_count": 330,
   "metadata": {},
   "outputs": [],
   "source": [
    "# set number of clusters\n",
    "kclusters = 2\n",
    "\n",
    "group_cluster = df.drop(['name', 'categories','address', 'postalCode','formattedAddress','id','distance'], 1)\n",
    "\n",
    "# run k-means clustering\n",
    "kmeans = KMeans(n_clusters=kclusters, random_state=0).fit(group_cluster)\n",
    "\n",
    "# check cluster labels generated for each row in the dataframe\n",
    "kmeans.labels_\n",
    "\n",
    "# Insert k cluster as column into df\n",
    "\n",
    "df.insert(0, 'cluster label', kmeans.labels_)"
   ]
  },
  {
   "cell_type": "code",
   "execution_count": 333,
   "metadata": {},
   "outputs": [],
   "source": [
    "map_clusters = folium.Map(location=[latitude, longitude], zoom_start=11)\n",
    "\n",
    "# set color scheme for the clusters\n",
    "x = np.arange(kclusters)\n",
    "ys = [i + x + (i*x)**2 for i in range(kclusters)]\n",
    "colors_array = cm.rainbow(np.linspace(0, 1, len(ys)))\n",
    "rainbow = [colors.rgb2hex(i) for i in colors_array]\n",
    "\n",
    "# add markers to the map\n",
    "markers_colors = []\n",
    "for lat, lon, poi, cluster in zip(df['lat'], df['lng'], df['distance'],df['cluster label']):\n",
    "    label = folium.Popup(str(poi) + ' Cluster ' + str(cluster), parse_html=True)\n",
    "    folium.CircleMarker(\n",
    "        [lat, lon],\n",
    "        radius=5,\n",
    "        popup=label,\n",
    "        color=rainbow[cluster-1],\n",
    "        fill=True,\n",
    "        fill_color=rainbow[cluster-1],\n",
    "        fill_opacity=0.7).add_to(map_clusters)"
   ]
  },
  {
   "cell_type": "code",
   "execution_count": 334,
   "metadata": {},
   "outputs": [
    {
     "data": {
      "text/html": [
       "<div style=\"width:100%;\"><div style=\"position:relative;width:100%;height:0;padding-bottom:60%;\"><span style=\"color:#565656\">Make this Notebook Trusted to load map: File -> Trust Notebook</span><iframe src=\"about:blank\" style=\"position:absolute;width:100%;height:100%;left:0;top:0;border:none !important;\" data-html=PCFET0NUWVBFIGh0bWw+CjxoZWFkPiAgICAKICAgIDxtZXRhIGh0dHAtZXF1aXY9ImNvbnRlbnQtdHlwZSIgY29udGVudD0idGV4dC9odG1sOyBjaGFyc2V0PVVURi04IiAvPgogICAgPHNjcmlwdD5MX1BSRUZFUl9DQU5WQVMgPSBmYWxzZTsgTF9OT19UT1VDSCA9IGZhbHNlOyBMX0RJU0FCTEVfM0QgPSBmYWxzZTs8L3NjcmlwdD4KICAgIDxzY3JpcHQgc3JjPSJodHRwczovL2Nkbi5qc2RlbGl2ci5uZXQvbnBtL2xlYWZsZXRAMS4yLjAvZGlzdC9sZWFmbGV0LmpzIj48L3NjcmlwdD4KICAgIDxzY3JpcHQgc3JjPSJodHRwczovL2FqYXguZ29vZ2xlYXBpcy5jb20vYWpheC9saWJzL2pxdWVyeS8xLjExLjEvanF1ZXJ5Lm1pbi5qcyI+PC9zY3JpcHQ+CiAgICA8c2NyaXB0IHNyYz0iaHR0cHM6Ly9tYXhjZG4uYm9vdHN0cmFwY2RuLmNvbS9ib290c3RyYXAvMy4yLjAvanMvYm9vdHN0cmFwLm1pbi5qcyI+PC9zY3JpcHQ+CiAgICA8c2NyaXB0IHNyYz0iaHR0cHM6Ly9jZG5qcy5jbG91ZGZsYXJlLmNvbS9hamF4L2xpYnMvTGVhZmxldC5hd2Vzb21lLW1hcmtlcnMvMi4wLjIvbGVhZmxldC5hd2Vzb21lLW1hcmtlcnMuanMiPjwvc2NyaXB0PgogICAgPGxpbmsgcmVsPSJzdHlsZXNoZWV0IiBocmVmPSJodHRwczovL2Nkbi5qc2RlbGl2ci5uZXQvbnBtL2xlYWZsZXRAMS4yLjAvZGlzdC9sZWFmbGV0LmNzcyIvPgogICAgPGxpbmsgcmVsPSJzdHlsZXNoZWV0IiBocmVmPSJodHRwczovL21heGNkbi5ib290c3RyYXBjZG4uY29tL2Jvb3RzdHJhcC8zLjIuMC9jc3MvYm9vdHN0cmFwLm1pbi5jc3MiLz4KICAgIDxsaW5rIHJlbD0ic3R5bGVzaGVldCIgaHJlZj0iaHR0cHM6Ly9tYXhjZG4uYm9vdHN0cmFwY2RuLmNvbS9ib290c3RyYXAvMy4yLjAvY3NzL2Jvb3RzdHJhcC10aGVtZS5taW4uY3NzIi8+CiAgICA8bGluayByZWw9InN0eWxlc2hlZXQiIGhyZWY9Imh0dHBzOi8vbWF4Y2RuLmJvb3RzdHJhcGNkbi5jb20vZm9udC1hd2Vzb21lLzQuNi4zL2Nzcy9mb250LWF3ZXNvbWUubWluLmNzcyIvPgogICAgPGxpbmsgcmVsPSJzdHlsZXNoZWV0IiBocmVmPSJodHRwczovL2NkbmpzLmNsb3VkZmxhcmUuY29tL2FqYXgvbGlicy9MZWFmbGV0LmF3ZXNvbWUtbWFya2Vycy8yLjAuMi9sZWFmbGV0LmF3ZXNvbWUtbWFya2Vycy5jc3MiLz4KICAgIDxsaW5rIHJlbD0ic3R5bGVzaGVldCIgaHJlZj0iaHR0cHM6Ly9yYXdnaXQuY29tL3B5dGhvbi12aXN1YWxpemF0aW9uL2ZvbGl1bS9tYXN0ZXIvZm9saXVtL3RlbXBsYXRlcy9sZWFmbGV0LmF3ZXNvbWUucm90YXRlLmNzcyIvPgogICAgPHN0eWxlPmh0bWwsIGJvZHkge3dpZHRoOiAxMDAlO2hlaWdodDogMTAwJTttYXJnaW46IDA7cGFkZGluZzogMDt9PC9zdHlsZT4KICAgIDxzdHlsZT4jbWFwIHtwb3NpdGlvbjphYnNvbHV0ZTt0b3A6MDtib3R0b206MDtyaWdodDowO2xlZnQ6MDt9PC9zdHlsZT4KICAgIAogICAgICAgICAgICA8c3R5bGU+ICNtYXBfMTNiNzk1ZmI0ZTUxNGFlMmI1NDA2YTMzMjMxZjU5OWQgewogICAgICAgICAgICAgICAgcG9zaXRpb24gOiByZWxhdGl2ZTsKICAgICAgICAgICAgICAgIHdpZHRoIDogMTAwLjAlOwogICAgICAgICAgICAgICAgaGVpZ2h0OiAxMDAuMCU7CiAgICAgICAgICAgICAgICBsZWZ0OiAwLjAlOwogICAgICAgICAgICAgICAgdG9wOiAwLjAlOwogICAgICAgICAgICAgICAgfQogICAgICAgICAgICA8L3N0eWxlPgogICAgICAgIAo8L2hlYWQ+Cjxib2R5PiAgICAKICAgIAogICAgICAgICAgICA8ZGl2IGNsYXNzPSJmb2xpdW0tbWFwIiBpZD0ibWFwXzEzYjc5NWZiNGU1MTRhZTJiNTQwNmEzMzIzMWY1OTlkIiA+PC9kaXY+CiAgICAgICAgCjwvYm9keT4KPHNjcmlwdD4gICAgCiAgICAKCiAgICAgICAgICAgIAogICAgICAgICAgICAgICAgdmFyIGJvdW5kcyA9IG51bGw7CiAgICAgICAgICAgIAoKICAgICAgICAgICAgdmFyIG1hcF8xM2I3OTVmYjRlNTE0YWUyYjU0MDZhMzMyMzFmNTk5ZCA9IEwubWFwKAogICAgICAgICAgICAgICAgICAgICAgICAgICAgICAgICAgJ21hcF8xM2I3OTVmYjRlNTE0YWUyYjU0MDZhMzMyMzFmNTk5ZCcsCiAgICAgICAgICAgICAgICAgICAgICAgICAgICAgICAgICB7Y2VudGVyOiBbMzcuMzM2MTkwNSwtMTIxLjg5MDU4M10sCiAgICAgICAgICAgICAgICAgICAgICAgICAgICAgICAgICB6b29tOiAxMSwKICAgICAgICAgICAgICAgICAgICAgICAgICAgICAgICAgIG1heEJvdW5kczogYm91bmRzLAogICAgICAgICAgICAgICAgICAgICAgICAgICAgICAgICAgbGF5ZXJzOiBbXSwKICAgICAgICAgICAgICAgICAgICAgICAgICAgICAgICAgIHdvcmxkQ29weUp1bXA6IGZhbHNlLAogICAgICAgICAgICAgICAgICAgICAgICAgICAgICAgICAgY3JzOiBMLkNSUy5FUFNHMzg1NwogICAgICAgICAgICAgICAgICAgICAgICAgICAgICAgICB9KTsKICAgICAgICAgICAgCiAgICAgICAgCiAgICAKICAgICAgICAgICAgdmFyIHRpbGVfbGF5ZXJfYzAxYWJmZTNjYzY1NDA1MWIzNjY0MzFiZjcyNTcyZmMgPSBMLnRpbGVMYXllcigKICAgICAgICAgICAgICAgICdodHRwczovL3tzfS50aWxlLm9wZW5zdHJlZXRtYXAub3JnL3t6fS97eH0ve3l9LnBuZycsCiAgICAgICAgICAgICAgICB7CiAgImF0dHJpYnV0aW9uIjogbnVsbCwKICAiZGV0ZWN0UmV0aW5hIjogZmFsc2UsCiAgIm1heFpvb20iOiAxOCwKICAibWluWm9vbSI6IDEsCiAgIm5vV3JhcCI6IGZhbHNlLAogICJzdWJkb21haW5zIjogImFiYyIKfQogICAgICAgICAgICAgICAgKS5hZGRUbyhtYXBfMTNiNzk1ZmI0ZTUxNGFlMmI1NDA2YTMzMjMxZjU5OWQpOwogICAgICAgIAogICAgCiAgICAgICAgICAgIHZhciBjaXJjbGVfbWFya2VyX2UzOGE1MDQwNmY5MjRiYTFhZmIzY2MxMWE3Njg3ODA5ID0gTC5jaXJjbGVNYXJrZXIoCiAgICAgICAgICAgICAgICBbMzcuMzM2Mzg4MzcxNDk0NjcsLTEyMS44OTA3MDUzNzgyNjUwMV0sCiAgICAgICAgICAgICAgICB7CiAgImJ1YmJsaW5nTW91c2VFdmVudHMiOiB0cnVlLAogICJjb2xvciI6ICIjZmYwMDAwIiwKICAiZGFzaEFycmF5IjogbnVsbCwKICAiZGFzaE9mZnNldCI6IG51bGwsCiAgImZpbGwiOiB0cnVlLAogICJmaWxsQ29sb3IiOiAiI2ZmMDAwMCIsCiAgImZpbGxPcGFjaXR5IjogMC43LAogICJmaWxsUnVsZSI6ICJldmVub2RkIiwKICAibGluZUNhcCI6ICJyb3VuZCIsCiAgImxpbmVKb2luIjogInJvdW5kIiwKICAib3BhY2l0eSI6IDEuMCwKICAicmFkaXVzIjogNSwKICAic3Ryb2tlIjogdHJ1ZSwKICAid2VpZ2h0IjogMwp9CiAgICAgICAgICAgICAgICApLmFkZFRvKG1hcF8xM2I3OTVmYjRlNTE0YWUyYjU0MDZhMzMyMzFmNTk5ZCk7CiAgICAgICAgICAgIAogICAgCiAgICAgICAgICAgIHZhciBwb3B1cF9kOThjNTlhZjQ0NWQ0ZDJmODFlZTViMmI1ZjMxZjgxYSA9IEwucG9wdXAoe21heFdpZHRoOiAnMzAwJ30pOwoKICAgICAgICAgICAgCiAgICAgICAgICAgICAgICB2YXIgaHRtbF9hMmUyMjc1NmUwYjI0ZDVhYWM4OGE5MGNhOTI1N2ZiZSA9ICQoJzxkaXYgaWQ9Imh0bWxfYTJlMjI3NTZlMGIyNGQ1YWFjODhhOTBjYTkyNTdmYmUiIHN0eWxlPSJ3aWR0aDogMTAwLjAlOyBoZWlnaHQ6IDEwMC4wJTsiPmZhciBDbHVzdGVyIDA8L2Rpdj4nKVswXTsKICAgICAgICAgICAgICAgIHBvcHVwX2Q5OGM1OWFmNDQ1ZDRkMmY4MWVlNWIyYjVmMzFmODFhLnNldENvbnRlbnQoaHRtbF9hMmUyMjc1NmUwYjI0ZDVhYWM4OGE5MGNhOTI1N2ZiZSk7CiAgICAgICAgICAgIAoKICAgICAgICAgICAgY2lyY2xlX21hcmtlcl9lMzhhNTA0MDZmOTI0YmExYWZiM2NjMTFhNzY4NzgwOS5iaW5kUG9wdXAocG9wdXBfZDk4YzU5YWY0NDVkNGQyZjgxZWU1YjJiNWYzMWY4MWEpOwoKICAgICAgICAgICAgCiAgICAgICAgCiAgICAKICAgICAgICAgICAgdmFyIGNpcmNsZV9tYXJrZXJfMDIzZTY3ZTY0NGZjNGE1ZWJkMzE4NTIxMTcwMmMyMTQgPSBMLmNpcmNsZU1hcmtlcigKICAgICAgICAgICAgICAgIFszNy4zMzYzNDY0NjI5OTk3MiwtMTIxLjg5MDU4NTg4NTI1ODM3XSwKICAgICAgICAgICAgICAgIHsKICAiYnViYmxpbmdNb3VzZUV2ZW50cyI6IHRydWUsCiAgImNvbG9yIjogIiNmZjAwMDAiLAogICJkYXNoQXJyYXkiOiBudWxsLAogICJkYXNoT2Zmc2V0IjogbnVsbCwKICAiZmlsbCI6IHRydWUsCiAgImZpbGxDb2xvciI6ICIjZmYwMDAwIiwKICAiZmlsbE9wYWNpdHkiOiAwLjcsCiAgImZpbGxSdWxlIjogImV2ZW5vZGQiLAogICJsaW5lQ2FwIjogInJvdW5kIiwKICAibGluZUpvaW4iOiAicm91bmQiLAogICJvcGFjaXR5IjogMS4wLAogICJyYWRpdXMiOiA1LAogICJzdHJva2UiOiB0cnVlLAogICJ3ZWlnaHQiOiAzCn0KICAgICAgICAgICAgICAgICkuYWRkVG8obWFwXzEzYjc5NWZiNGU1MTRhZTJiNTQwNmEzMzIzMWY1OTlkKTsKICAgICAgICAgICAgCiAgICAKICAgICAgICAgICAgdmFyIHBvcHVwXzUxNWFhNWJiOWQ1ZjQ0YjViZTlkNGFjM2EyNGU1ZGFkID0gTC5wb3B1cCh7bWF4V2lkdGg6ICczMDAnfSk7CgogICAgICAgICAgICAKICAgICAgICAgICAgICAgIHZhciBodG1sX2U1MDlmNTc2ZThlMjQzYmFhMTQ2NjQ4ODcyMGQ3MjBmID0gJCgnPGRpdiBpZD0iaHRtbF9lNTA5ZjU3NmU4ZTI0M2JhYTE0NjY0ODg3MjBkNzIwZiIgc3R5bGU9IndpZHRoOiAxMDAuMCU7IGhlaWdodDogMTAwLjAlOyI+ZmFyIENsdXN0ZXIgMDwvZGl2PicpWzBdOwogICAgICAgICAgICAgICAgcG9wdXBfNTE1YWE1YmI5ZDVmNDRiNWJlOWQ0YWMzYTI0ZTVkYWQuc2V0Q29udGVudChodG1sX2U1MDlmNTc2ZThlMjQzYmFhMTQ2NjQ4ODcyMGQ3MjBmKTsKICAgICAgICAgICAgCgogICAgICAgICAgICBjaXJjbGVfbWFya2VyXzAyM2U2N2U2NDRmYzRhNWViZDMxODUyMTE3MDJjMjE0LmJpbmRQb3B1cChwb3B1cF81MTVhYTViYjlkNWY0NGI1YmU5ZDRhYzNhMjRlNWRhZCk7CgogICAgICAgICAgICAKICAgICAgICAKICAgIAogICAgICAgICAgICB2YXIgY2lyY2xlX21hcmtlcl8wZWVhY2IxZmYwZWQ0OTA5OTAzMGNmMTc2N2Q0MmIyMyA9IEwuY2lyY2xlTWFya2VyKAogICAgICAgICAgICAgICAgWzM3LjMzNTgzOTczMTU0MTEzNSwtMTIxLjg5MDI5ODUwOTAyNTkzXSwKICAgICAgICAgICAgICAgIHsKICAiYnViYmxpbmdNb3VzZUV2ZW50cyI6IHRydWUsCiAgImNvbG9yIjogIiNmZjAwMDAiLAogICJkYXNoQXJyYXkiOiBudWxsLAogICJkYXNoT2Zmc2V0IjogbnVsbCwKICAiZmlsbCI6IHRydWUsCiAgImZpbGxDb2xvciI6ICIjZmYwMDAwIiwKICAiZmlsbE9wYWNpdHkiOiAwLjcsCiAgImZpbGxSdWxlIjogImV2ZW5vZGQiLAogICJsaW5lQ2FwIjogInJvdW5kIiwKICAibGluZUpvaW4iOiAicm91bmQiLAogICJvcGFjaXR5IjogMS4wLAogICJyYWRpdXMiOiA1LAogICJzdHJva2UiOiB0cnVlLAogICJ3ZWlnaHQiOiAzCn0KICAgICAgICAgICAgICAgICkuYWRkVG8obWFwXzEzYjc5NWZiNGU1MTRhZTJiNTQwNmEzMzIzMWY1OTlkKTsKICAgICAgICAgICAgCiAgICAKICAgICAgICAgICAgdmFyIHBvcHVwXzdmNzQxYzNhOTg1MjQ0ODNiNjkwZGQ0MWU2YTEzNTc2ID0gTC5wb3B1cCh7bWF4V2lkdGg6ICczMDAnfSk7CgogICAgICAgICAgICAKICAgICAgICAgICAgICAgIHZhciBodG1sXzg1ODYwY2NkZWY4YzRjZmU5YThiMWJjYTc0YmYyMTI1ID0gJCgnPGRpdiBpZD0iaHRtbF84NTg2MGNjZGVmOGM0Y2ZlOWE4YjFiY2E3NGJmMjEyNSIgc3R5bGU9IndpZHRoOiAxMDAuMCU7IGhlaWdodDogMTAwLjAlOyI+ZmFyIENsdXN0ZXIgMDwvZGl2PicpWzBdOwogICAgICAgICAgICAgICAgcG9wdXBfN2Y3NDFjM2E5ODUyNDQ4M2I2OTBkZDQxZTZhMTM1NzYuc2V0Q29udGVudChodG1sXzg1ODYwY2NkZWY4YzRjZmU5YThiMWJjYTc0YmYyMTI1KTsKICAgICAgICAgICAgCgogICAgICAgICAgICBjaXJjbGVfbWFya2VyXzBlZWFjYjFmZjBlZDQ5MDk5MDMwY2YxNzY3ZDQyYjIzLmJpbmRQb3B1cChwb3B1cF83Zjc0MWMzYTk4NTI0NDgzYjY5MGRkNDFlNmExMzU3Nik7CgogICAgICAgICAgICAKICAgICAgICAKICAgIAogICAgICAgICAgICB2YXIgY2lyY2xlX21hcmtlcl9iZTJhOTllNjQ3Zjc0ODdiODRkMWRlMzA5MjI0ZmQ0YiA9IEwuY2lyY2xlTWFya2VyKAogICAgICAgICAgICAgICAgWzM3LjMzNzEyOCwtMTIxLjg4OTk2N10sCiAgICAgICAgICAgICAgICB7CiAgImJ1YmJsaW5nTW91c2VFdmVudHMiOiB0cnVlLAogICJjb2xvciI6ICIjZmYwMDAwIiwKICAiZGFzaEFycmF5IjogbnVsbCwKICAiZGFzaE9mZnNldCI6IG51bGwsCiAgImZpbGwiOiB0cnVlLAogICJmaWxsQ29sb3IiOiAiI2ZmMDAwMCIsCiAgImZpbGxPcGFjaXR5IjogMC43LAogICJmaWxsUnVsZSI6ICJldmVub2RkIiwKICAibGluZUNhcCI6ICJyb3VuZCIsCiAgImxpbmVKb2luIjogInJvdW5kIiwKICAib3BhY2l0eSI6IDEuMCwKICAicmFkaXVzIjogNSwKICAic3Ryb2tlIjogdHJ1ZSwKICAid2VpZ2h0IjogMwp9CiAgICAgICAgICAgICAgICApLmFkZFRvKG1hcF8xM2I3OTVmYjRlNTE0YWUyYjU0MDZhMzMyMzFmNTk5ZCk7CiAgICAgICAgICAgIAogICAgCiAgICAgICAgICAgIHZhciBwb3B1cF9iYThjNTQyYzFmN2Y0MGJkYjRlOTk5NGYyODJiZWNiOCA9IEwucG9wdXAoe21heFdpZHRoOiAnMzAwJ30pOwoKICAgICAgICAgICAgCiAgICAgICAgICAgICAgICB2YXIgaHRtbF9mOGIwMzc5YWMxYzQ0MGU3YjdmMmRkMjUyYjhjZTQzYiA9ICQoJzxkaXYgaWQ9Imh0bWxfZjhiMDM3OWFjMWM0NDBlN2I3ZjJkZDI1MmI4Y2U0M2IiIHN0eWxlPSJ3aWR0aDogMTAwLjAlOyBoZWlnaHQ6IDEwMC4wJTsiPmNsb3NlIENsdXN0ZXIgMDwvZGl2PicpWzBdOwogICAgICAgICAgICAgICAgcG9wdXBfYmE4YzU0MmMxZjdmNDBiZGI0ZTk5OTRmMjgyYmVjYjguc2V0Q29udGVudChodG1sX2Y4YjAzNzlhYzFjNDQwZTdiN2YyZGQyNTJiOGNlNDNiKTsKICAgICAgICAgICAgCgogICAgICAgICAgICBjaXJjbGVfbWFya2VyX2JlMmE5OWU2NDdmNzQ4N2I4NGQxZGUzMDkyMjRmZDRiLmJpbmRQb3B1cChwb3B1cF9iYThjNTQyYzFmN2Y0MGJkYjRlOTk5NGYyODJiZWNiOCk7CgogICAgICAgICAgICAKICAgICAgICAKICAgIAogICAgICAgICAgICB2YXIgY2lyY2xlX21hcmtlcl80YzAxMWFhOWZhNjQ0NzRmOTE5ZDY4ZWYwNmM3ZWU1NSA9IEwuY2lyY2xlTWFya2VyKAogICAgICAgICAgICAgICAgWzM3LjMzNjA4NjYzMDgyMTIzLC0xMjEuODkwNDY3NDA1MzE5MjFdLAogICAgICAgICAgICAgICAgewogICJidWJibGluZ01vdXNlRXZlbnRzIjogdHJ1ZSwKICAiY29sb3IiOiAiI2ZmMDAwMCIsCiAgImRhc2hBcnJheSI6IG51bGwsCiAgImRhc2hPZmZzZXQiOiBudWxsLAogICJmaWxsIjogdHJ1ZSwKICAiZmlsbENvbG9yIjogIiNmZjAwMDAiLAogICJmaWxsT3BhY2l0eSI6IDAuNywKICAiZmlsbFJ1bGUiOiAiZXZlbm9kZCIsCiAgImxpbmVDYXAiOiAicm91bmQiLAogICJsaW5lSm9pbiI6ICJyb3VuZCIsCiAgIm9wYWNpdHkiOiAxLjAsCiAgInJhZGl1cyI6IDUsCiAgInN0cm9rZSI6IHRydWUsCiAgIndlaWdodCI6IDMKfQogICAgICAgICAgICAgICAgKS5hZGRUbyhtYXBfMTNiNzk1ZmI0ZTUxNGFlMmI1NDA2YTMzMjMxZjU5OWQpOwogICAgICAgICAgICAKICAgIAogICAgICAgICAgICB2YXIgcG9wdXBfZTYxNGE3MWZmNGZlNGU5MDhiYjUyOTAxM2Y4NTAwYTggPSBMLnBvcHVwKHttYXhXaWR0aDogJzMwMCd9KTsKCiAgICAgICAgICAgIAogICAgICAgICAgICAgICAgdmFyIGh0bWxfYWZjNTEwY2Q5ZjAyNDY1YWJkZDFiZTJhNzlhMmU3MzEgPSAkKCc8ZGl2IGlkPSJodG1sX2FmYzUxMGNkOWYwMjQ2NWFiZGQxYmUyYTc5YTJlNzMxIiBzdHlsZT0id2lkdGg6IDEwMC4wJTsgaGVpZ2h0OiAxMDAuMCU7Ij5mYXIgQ2x1c3RlciAwPC9kaXY+JylbMF07CiAgICAgICAgICAgICAgICBwb3B1cF9lNjE0YTcxZmY0ZmU0ZTkwOGJiNTI5MDEzZjg1MDBhOC5zZXRDb250ZW50KGh0bWxfYWZjNTEwY2Q5ZjAyNDY1YWJkZDFiZTJhNzlhMmU3MzEpOwogICAgICAgICAgICAKCiAgICAgICAgICAgIGNpcmNsZV9tYXJrZXJfNGMwMTFhYTlmYTY0NDc0ZjkxOWQ2OGVmMDZjN2VlNTUuYmluZFBvcHVwKHBvcHVwX2U2MTRhNzFmZjRmZTRlOTA4YmI1MjkwMTNmODUwMGE4KTsKCiAgICAgICAgICAgIAogICAgICAgIAogICAgCiAgICAgICAgICAgIHZhciBjaXJjbGVfbWFya2VyXzBiZmY2ZDQ4ZGI5NTRkMjA5ZjQyYTAxN2NjMzBmY2JjID0gTC5jaXJjbGVNYXJrZXIoCiAgICAgICAgICAgICAgICBbMzcuMzM2OTk0NDE4NDI5NjQsLTEyMS44ODk4MTgzMTA3Mzc2MV0sCiAgICAgICAgICAgICAgICB7CiAgImJ1YmJsaW5nTW91c2VFdmVudHMiOiB0cnVlLAogICJjb2xvciI6ICIjZmYwMDAwIiwKICAiZGFzaEFycmF5IjogbnVsbCwKICAiZGFzaE9mZnNldCI6IG51bGwsCiAgImZpbGwiOiB0cnVlLAogICJmaWxsQ29sb3IiOiAiI2ZmMDAwMCIsCiAgImZpbGxPcGFjaXR5IjogMC43LAogICJmaWxsUnVsZSI6ICJldmVub2RkIiwKICAibGluZUNhcCI6ICJyb3VuZCIsCiAgImxpbmVKb2luIjogInJvdW5kIiwKICAib3BhY2l0eSI6IDEuMCwKICAicmFkaXVzIjogNSwKICAic3Ryb2tlIjogdHJ1ZSwKICAid2VpZ2h0IjogMwp9CiAgICAgICAgICAgICAgICApLmFkZFRvKG1hcF8xM2I3OTVmYjRlNTE0YWUyYjU0MDZhMzMyMzFmNTk5ZCk7CiAgICAgICAgICAgIAogICAgCiAgICAgICAgICAgIHZhciBwb3B1cF85MmRiYWExOTViMWY0NzExYWIzZmNlZTBjMTQzNWI0OSA9IEwucG9wdXAoe21heFdpZHRoOiAnMzAwJ30pOwoKICAgICAgICAgICAgCiAgICAgICAgICAgICAgICB2YXIgaHRtbF81ZjQxZmQ3NzNiYzA0OTc3OGEzNmEzYmZkNWZlNGU2NiA9ICQoJzxkaXYgaWQ9Imh0bWxfNWY0MWZkNzczYmMwNDk3NzhhMzZhM2JmZDVmZTRlNjYiIHN0eWxlPSJ3aWR0aDogMTAwLjAlOyBoZWlnaHQ6IDEwMC4wJTsiPmNsb3NlIENsdXN0ZXIgMDwvZGl2PicpWzBdOwogICAgICAgICAgICAgICAgcG9wdXBfOTJkYmFhMTk1YjFmNDcxMWFiM2ZjZWUwYzE0MzViNDkuc2V0Q29udGVudChodG1sXzVmNDFmZDc3M2JjMDQ5Nzc4YTM2YTNiZmQ1ZmU0ZTY2KTsKICAgICAgICAgICAgCgogICAgICAgICAgICBjaXJjbGVfbWFya2VyXzBiZmY2ZDQ4ZGI5NTRkMjA5ZjQyYTAxN2NjMzBmY2JjLmJpbmRQb3B1cChwb3B1cF85MmRiYWExOTViMWY0NzExYWIzZmNlZTBjMTQzNWI0OSk7CgogICAgICAgICAgICAKICAgICAgICAKICAgIAogICAgICAgICAgICB2YXIgY2lyY2xlX21hcmtlcl8xZTkxNGUwNDUxNmY0Yjk1OTE2MDBkZjlhNTRlY2YyNiA9IEwuY2lyY2xlTWFya2VyKAogICAgICAgICAgICAgICAgWzM3LjMzNTU0MywtMTIxLjg5MjAyMV0sCiAgICAgICAgICAgICAgICB7CiAgImJ1YmJsaW5nTW91c2VFdmVudHMiOiB0cnVlLAogICJjb2xvciI6ICIjODAwMGZmIiwKICAiZGFzaEFycmF5IjogbnVsbCwKICAiZGFzaE9mZnNldCI6IG51bGwsCiAgImZpbGwiOiB0cnVlLAogICJmaWxsQ29sb3IiOiAiIzgwMDBmZiIsCiAgImZpbGxPcGFjaXR5IjogMC43LAogICJmaWxsUnVsZSI6ICJldmVub2RkIiwKICAibGluZUNhcCI6ICJyb3VuZCIsCiAgImxpbmVKb2luIjogInJvdW5kIiwKICAib3BhY2l0eSI6IDEuMCwKICAicmFkaXVzIjogNSwKICAic3Ryb2tlIjogdHJ1ZSwKICAid2VpZ2h0IjogMwp9CiAgICAgICAgICAgICAgICApLmFkZFRvKG1hcF8xM2I3OTVmYjRlNTE0YWUyYjU0MDZhMzMyMzFmNTk5ZCk7CiAgICAgICAgICAgIAogICAgCiAgICAgICAgICAgIHZhciBwb3B1cF9mZjliNTQyNDYyMTc0NDRlYWFmYTk3Y2YzZDY0Y2RjZCA9IEwucG9wdXAoe21heFdpZHRoOiAnMzAwJ30pOwoKICAgICAgICAgICAgCiAgICAgICAgICAgICAgICB2YXIgaHRtbF82MjgwMjRlZjExNTE0MGI1YjFlY2FkNjk0MGQzYmQ5MCA9ICQoJzxkaXYgaWQ9Imh0bWxfNjI4MDI0ZWYxMTUxNDBiNWIxZWNhZDY5NDBkM2JkOTAiIHN0eWxlPSJ3aWR0aDogMTAwLjAlOyBoZWlnaHQ6IDEwMC4wJTsiPmNsb3NlIENsdXN0ZXIgMTwvZGl2PicpWzBdOwogICAgICAgICAgICAgICAgcG9wdXBfZmY5YjU0MjQ2MjE3NDQ0ZWFhZmE5N2NmM2Q2NGNkY2Quc2V0Q29udGVudChodG1sXzYyODAyNGVmMTE1MTQwYjViMWVjYWQ2OTQwZDNiZDkwKTsKICAgICAgICAgICAgCgogICAgICAgICAgICBjaXJjbGVfbWFya2VyXzFlOTE0ZTA0NTE2ZjRiOTU5MTYwMGRmOWE1NGVjZjI2LmJpbmRQb3B1cChwb3B1cF9mZjliNTQyNDYyMTc0NDRlYWFmYTk3Y2YzZDY0Y2RjZCk7CgogICAgICAgICAgICAKICAgICAgICAKICAgIAogICAgICAgICAgICB2YXIgY2lyY2xlX21hcmtlcl83ZDdhMDlmOTNjMzk0YmYwYTU3MTIzZmVkMWM4ODA5NyA9IEwuY2lyY2xlTWFya2VyKAogICAgICAgICAgICAgICAgWzM3LjMzNjE5MzE4Mzc2NTA2LC0xMjEuODkwMTgzNjI1OTI4MDNdLAogICAgICAgICAgICAgICAgewogICJidWJibGluZ01vdXNlRXZlbnRzIjogdHJ1ZSwKICAiY29sb3IiOiAiI2ZmMDAwMCIsCiAgImRhc2hBcnJheSI6IG51bGwsCiAgImRhc2hPZmZzZXQiOiBudWxsLAogICJmaWxsIjogdHJ1ZSwKICAiZmlsbENvbG9yIjogIiNmZjAwMDAiLAogICJmaWxsT3BhY2l0eSI6IDAuNywKICAiZmlsbFJ1bGUiOiAiZXZlbm9kZCIsCiAgImxpbmVDYXAiOiAicm91bmQiLAogICJsaW5lSm9pbiI6ICJyb3VuZCIsCiAgIm9wYWNpdHkiOiAxLjAsCiAgInJhZGl1cyI6IDUsCiAgInN0cm9rZSI6IHRydWUsCiAgIndlaWdodCI6IDMKfQogICAgICAgICAgICAgICAgKS5hZGRUbyhtYXBfMTNiNzk1ZmI0ZTUxNGFlMmI1NDA2YTMzMjMxZjU5OWQpOwogICAgICAgICAgICAKICAgIAogICAgICAgICAgICB2YXIgcG9wdXBfNmUyMDY5Yjk5OTAzNDAzOThmNzdmNTEwNDhjNjcwNDkgPSBMLnBvcHVwKHttYXhXaWR0aDogJzMwMCd9KTsKCiAgICAgICAgICAgIAogICAgICAgICAgICAgICAgdmFyIGh0bWxfNzY0MGQxZmEwMmFkNDYwNDhlOWYwNzkyNGU0ZDM5M2QgPSAkKCc8ZGl2IGlkPSJodG1sXzc2NDBkMWZhMDJhZDQ2MDQ4ZTlmMDc5MjRlNGQzOTNkIiBzdHlsZT0id2lkdGg6IDEwMC4wJTsgaGVpZ2h0OiAxMDAuMCU7Ij5mYXIgQ2x1c3RlciAwPC9kaXY+JylbMF07CiAgICAgICAgICAgICAgICBwb3B1cF82ZTIwNjliOTk5MDM0MDM5OGY3N2Y1MTA0OGM2NzA0OS5zZXRDb250ZW50KGh0bWxfNzY0MGQxZmEwMmFkNDYwNDhlOWYwNzkyNGU0ZDM5M2QpOwogICAgICAgICAgICAKCiAgICAgICAgICAgIGNpcmNsZV9tYXJrZXJfN2Q3YTA5ZjkzYzM5NGJmMGE1NzEyM2ZlZDFjODgwOTcuYmluZFBvcHVwKHBvcHVwXzZlMjA2OWI5OTkwMzQwMzk4Zjc3ZjUxMDQ4YzY3MDQ5KTsKCiAgICAgICAgICAgIAogICAgICAgIAogICAgCiAgICAgICAgICAgIHZhciBjaXJjbGVfbWFya2VyXzkyOGJhMWU4MTEwYTRkYTFiOTkyZmY1ZjY5YTkyZmM0ID0gTC5jaXJjbGVNYXJrZXIoCiAgICAgICAgICAgICAgICBbMzcuMzM2MTk2MDkzOTk2Mjg2LC0xMjEuODkwMjY2MzEwMzk4OTddLAogICAgICAgICAgICAgICAgewogICJidWJibGluZ01vdXNlRXZlbnRzIjogdHJ1ZSwKICAiY29sb3IiOiAiI2ZmMDAwMCIsCiAgImRhc2hBcnJheSI6IG51bGwsCiAgImRhc2hPZmZzZXQiOiBudWxsLAogICJmaWxsIjogdHJ1ZSwKICAiZmlsbENvbG9yIjogIiNmZjAwMDAiLAogICJmaWxsT3BhY2l0eSI6IDAuNywKICAiZmlsbFJ1bGUiOiAiZXZlbm9kZCIsCiAgImxpbmVDYXAiOiAicm91bmQiLAogICJsaW5lSm9pbiI6ICJyb3VuZCIsCiAgIm9wYWNpdHkiOiAxLjAsCiAgInJhZGl1cyI6IDUsCiAgInN0cm9rZSI6IHRydWUsCiAgIndlaWdodCI6IDMKfQogICAgICAgICAgICAgICAgKS5hZGRUbyhtYXBfMTNiNzk1ZmI0ZTUxNGFlMmI1NDA2YTMzMjMxZjU5OWQpOwogICAgICAgICAgICAKICAgIAogICAgICAgICAgICB2YXIgcG9wdXBfMDlkZGUyNTQwMGE3NDZiNWEyZDhjMGZmNzE1MTE2ZDIgPSBMLnBvcHVwKHttYXhXaWR0aDogJzMwMCd9KTsKCiAgICAgICAgICAgIAogICAgICAgICAgICAgICAgdmFyIGh0bWxfYTA0MTNlYmY1MDVkNDQzOGIyMGFhZTgwOTJiNjE2OTcgPSAkKCc8ZGl2IGlkPSJodG1sX2EwNDEzZWJmNTA1ZDQ0MzhiMjBhYWU4MDkyYjYxNjk3IiBzdHlsZT0id2lkdGg6IDEwMC4wJTsgaGVpZ2h0OiAxMDAuMCU7Ij5mYXIgQ2x1c3RlciAwPC9kaXY+JylbMF07CiAgICAgICAgICAgICAgICBwb3B1cF8wOWRkZTI1NDAwYTc0NmI1YTJkOGMwZmY3MTUxMTZkMi5zZXRDb250ZW50KGh0bWxfYTA0MTNlYmY1MDVkNDQzOGIyMGFhZTgwOTJiNjE2OTcpOwogICAgICAgICAgICAKCiAgICAgICAgICAgIGNpcmNsZV9tYXJrZXJfOTI4YmExZTgxMTBhNGRhMWI5OTJmZjVmNjlhOTJmYzQuYmluZFBvcHVwKHBvcHVwXzA5ZGRlMjU0MDBhNzQ2YjVhMmQ4YzBmZjcxNTExNmQyKTsKCiAgICAgICAgICAgIAogICAgICAgIAogICAgCiAgICAgICAgICAgIHZhciBjaXJjbGVfbWFya2VyXzA0N2I2ZGRjYWUwYzQ4NzQ4MmRiNWZjYjg0YzIwZjU2ID0gTC5jaXJjbGVNYXJrZXIoCiAgICAgICAgICAgICAgICBbMzcuMzM1NzkwNTMzMjEwMTE1LC0xMjEuODkxMjIwNTA2MTYxNzRdLAogICAgICAgICAgICAgICAgewogICJidWJibGluZ01vdXNlRXZlbnRzIjogdHJ1ZSwKICAiY29sb3IiOiAiIzgwMDBmZiIsCiAgImRhc2hBcnJheSI6IG51bGwsCiAgImRhc2hPZmZzZXQiOiBudWxsLAogICJmaWxsIjogdHJ1ZSwKICAiZmlsbENvbG9yIjogIiM4MDAwZmYiLAogICJmaWxsT3BhY2l0eSI6IDAuNywKICAiZmlsbFJ1bGUiOiAiZXZlbm9kZCIsCiAgImxpbmVDYXAiOiAicm91bmQiLAogICJsaW5lSm9pbiI6ICJyb3VuZCIsCiAgIm9wYWNpdHkiOiAxLjAsCiAgInJhZGl1cyI6IDUsCiAgInN0cm9rZSI6IHRydWUsCiAgIndlaWdodCI6IDMKfQogICAgICAgICAgICAgICAgKS5hZGRUbyhtYXBfMTNiNzk1ZmI0ZTUxNGFlMmI1NDA2YTMzMjMxZjU5OWQpOwogICAgICAgICAgICAKICAgIAogICAgICAgICAgICB2YXIgcG9wdXBfZDI3MGQ2OTQ4MGZmNDQ3OTgwNjg2ZDY2MTQyOGRjY2YgPSBMLnBvcHVwKHttYXhXaWR0aDogJzMwMCd9KTsKCiAgICAgICAgICAgIAogICAgICAgICAgICAgICAgdmFyIGh0bWxfM2JhM2E3ZDllZDdkNDJmMGE3MTE4YzljNTYyNTc4ODEgPSAkKCc8ZGl2IGlkPSJodG1sXzNiYTNhN2Q5ZWQ3ZDQyZjBhNzExOGM5YzU2MjU3ODgxIiBzdHlsZT0id2lkdGg6IDEwMC4wJTsgaGVpZ2h0OiAxMDAuMCU7Ij5jbG9zZSBDbHVzdGVyIDE8L2Rpdj4nKVswXTsKICAgICAgICAgICAgICAgIHBvcHVwX2QyNzBkNjk0ODBmZjQ0Nzk4MDY4NmQ2NjE0MjhkY2NmLnNldENvbnRlbnQoaHRtbF8zYmEzYTdkOWVkN2Q0MmYwYTcxMThjOWM1NjI1Nzg4MSk7CiAgICAgICAgICAgIAoKICAgICAgICAgICAgY2lyY2xlX21hcmtlcl8wNDdiNmRkY2FlMGM0ODc0ODJkYjVmY2I4NGMyMGY1Ni5iaW5kUG9wdXAocG9wdXBfZDI3MGQ2OTQ4MGZmNDQ3OTgwNjg2ZDY2MTQyOGRjY2YpOwoKICAgICAgICAgICAgCiAgICAgICAgCiAgICAKICAgICAgICAgICAgdmFyIGNpcmNsZV9tYXJrZXJfNzczNmQ0OGU4YTMzNDM0MWExM2Q1YWFmNjg5NmNhNTggPSBMLmNpcmNsZU1hcmtlcigKICAgICAgICAgICAgICAgIFszNy4zMzYyMjgwMDAwMDAwMDYsLTEyMS44OTEyNjU5OTk5OTk5OV0sCiAgICAgICAgICAgICAgICB7CiAgImJ1YmJsaW5nTW91c2VFdmVudHMiOiB0cnVlLAogICJjb2xvciI6ICIjODAwMGZmIiwKICAiZGFzaEFycmF5IjogbnVsbCwKICAiZGFzaE9mZnNldCI6IG51bGwsCiAgImZpbGwiOiB0cnVlLAogICJmaWxsQ29sb3IiOiAiIzgwMDBmZiIsCiAgImZpbGxPcGFjaXR5IjogMC43LAogICJmaWxsUnVsZSI6ICJldmVub2RkIiwKICAibGluZUNhcCI6ICJyb3VuZCIsCiAgImxpbmVKb2luIjogInJvdW5kIiwKICAib3BhY2l0eSI6IDEuMCwKICAicmFkaXVzIjogNSwKICAic3Ryb2tlIjogdHJ1ZSwKICAid2VpZ2h0IjogMwp9CiAgICAgICAgICAgICAgICApLmFkZFRvKG1hcF8xM2I3OTVmYjRlNTE0YWUyYjU0MDZhMzMyMzFmNTk5ZCk7CiAgICAgICAgICAgIAogICAgCiAgICAgICAgICAgIHZhciBwb3B1cF9hNjczMTlkNGRhYTA0MDYzYmJmOWM5N2I5ZTU5MGZiMyA9IEwucG9wdXAoe21heFdpZHRoOiAnMzAwJ30pOwoKICAgICAgICAgICAgCiAgICAgICAgICAgICAgICB2YXIgaHRtbF82NjZhMzRmZWMyZmU0YjJkYjRmZDlkYjcxYTAyNzY2MyA9ICQoJzxkaXYgaWQ9Imh0bWxfNjY2YTM0ZmVjMmZlNGIyZGI0ZmQ5ZGI3MWEwMjc2NjMiIHN0eWxlPSJ3aWR0aDogMTAwLjAlOyBoZWlnaHQ6IDEwMC4wJTsiPmNsb3NlIENsdXN0ZXIgMTwvZGl2PicpWzBdOwogICAgICAgICAgICAgICAgcG9wdXBfYTY3MzE5ZDRkYWEwNDA2M2JiZjljOTdiOWU1OTBmYjMuc2V0Q29udGVudChodG1sXzY2NmEzNGZlYzJmZTRiMmRiNGZkOWRiNzFhMDI3NjYzKTsKICAgICAgICAgICAgCgogICAgICAgICAgICBjaXJjbGVfbWFya2VyXzc3MzZkNDhlOGEzMzQzNDFhMTNkNWFhZjY4OTZjYTU4LmJpbmRQb3B1cChwb3B1cF9hNjczMTlkNGRhYTA0MDYzYmJmOWM5N2I5ZTU5MGZiMyk7CgogICAgICAgICAgICAKICAgICAgICAKICAgIAogICAgICAgICAgICB2YXIgY2lyY2xlX21hcmtlcl8xOGU0NjkzODA1Mzg0YzVkYjA4MDg5NDU2ZTI1OWEzOSA9IEwuY2lyY2xlTWFya2VyKAogICAgICAgICAgICAgICAgWzM3LjMzNjI4MDgyMjc1MzkwNiwtMTIxLjg5MDI2NjQxODQ1NzAzXSwKICAgICAgICAgICAgICAgIHsKICAiYnViYmxpbmdNb3VzZUV2ZW50cyI6IHRydWUsCiAgImNvbG9yIjogIiNmZjAwMDAiLAogICJkYXNoQXJyYXkiOiBudWxsLAogICJkYXNoT2Zmc2V0IjogbnVsbCwKICAiZmlsbCI6IHRydWUsCiAgImZpbGxDb2xvciI6ICIjZmYwMDAwIiwKICAiZmlsbE9wYWNpdHkiOiAwLjcsCiAgImZpbGxSdWxlIjogImV2ZW5vZGQiLAogICJsaW5lQ2FwIjogInJvdW5kIiwKICAibGluZUpvaW4iOiAicm91bmQiLAogICJvcGFjaXR5IjogMS4wLAogICJyYWRpdXMiOiA1LAogICJzdHJva2UiOiB0cnVlLAogICJ3ZWlnaHQiOiAzCn0KICAgICAgICAgICAgICAgICkuYWRkVG8obWFwXzEzYjc5NWZiNGU1MTRhZTJiNTQwNmEzMzIzMWY1OTlkKTsKICAgICAgICAgICAgCiAgICAKICAgICAgICAgICAgdmFyIHBvcHVwXzBhZmRiMzE5NmE5NzQ1MzVhZjhhZDk3NWM2NGU0ZmMxID0gTC5wb3B1cCh7bWF4V2lkdGg6ICczMDAnfSk7CgogICAgICAgICAgICAKICAgICAgICAgICAgICAgIHZhciBodG1sX2RhODU3MGQyNjRmNTQ3NTFhZTZjMTdlNTMzMWIxZTViID0gJCgnPGRpdiBpZD0iaHRtbF9kYTg1NzBkMjY0ZjU0NzUxYWU2YzE3ZTUzMzFiMWU1YiIgc3R5bGU9IndpZHRoOiAxMDAuMCU7IGhlaWdodDogMTAwLjAlOyI+ZmFyIENsdXN0ZXIgMDwvZGl2PicpWzBdOwogICAgICAgICAgICAgICAgcG9wdXBfMGFmZGIzMTk2YTk3NDUzNWFmOGFkOTc1YzY0ZTRmYzEuc2V0Q29udGVudChodG1sX2RhODU3MGQyNjRmNTQ3NTFhZTZjMTdlNTMzMWIxZTViKTsKICAgICAgICAgICAgCgogICAgICAgICAgICBjaXJjbGVfbWFya2VyXzE4ZTQ2OTM4MDUzODRjNWRiMDgwODk0NTZlMjU5YTM5LmJpbmRQb3B1cChwb3B1cF8wYWZkYjMxOTZhOTc0NTM1YWY4YWQ5NzVjNjRlNGZjMSk7CgogICAgICAgICAgICAKICAgICAgICAKICAgIAogICAgICAgICAgICB2YXIgY2lyY2xlX21hcmtlcl9hNWJkOTBiNjdhOGY0NWVhOGY4OTZkNjJmYzRhNWMxZiA9IEwuY2lyY2xlTWFya2VyKAogICAgICAgICAgICAgICAgWzM3LjMzNjEwMywtMTIxLjg4OTk4M10sCiAgICAgICAgICAgICAgICB7CiAgImJ1YmJsaW5nTW91c2VFdmVudHMiOiB0cnVlLAogICJjb2xvciI6ICIjZmYwMDAwIiwKICAiZGFzaEFycmF5IjogbnVsbCwKICAiZGFzaE9mZnNldCI6IG51bGwsCiAgImZpbGwiOiB0cnVlLAogICJmaWxsQ29sb3IiOiAiI2ZmMDAwMCIsCiAgImZpbGxPcGFjaXR5IjogMC43LAogICJmaWxsUnVsZSI6ICJldmVub2RkIiwKICAibGluZUNhcCI6ICJyb3VuZCIsCiAgImxpbmVKb2luIjogInJvdW5kIiwKICAib3BhY2l0eSI6IDEuMCwKICAicmFkaXVzIjogNSwKICAic3Ryb2tlIjogdHJ1ZSwKICAid2VpZ2h0IjogMwp9CiAgICAgICAgICAgICAgICApLmFkZFRvKG1hcF8xM2I3OTVmYjRlNTE0YWUyYjU0MDZhMzMyMzFmNTk5ZCk7CiAgICAgICAgICAgIAogICAgCiAgICAgICAgICAgIHZhciBwb3B1cF9iZDk1YmRjMDQwYjI0YWFhODQxZGQ1ZTM3YTdjNDNjOSA9IEwucG9wdXAoe21heFdpZHRoOiAnMzAwJ30pOwoKICAgICAgICAgICAgCiAgICAgICAgICAgICAgICB2YXIgaHRtbF8xMGE3NjgwNzFlOTY0YTc4OTk0ZjYyZTk2MTJkYzViYSA9ICQoJzxkaXYgaWQ9Imh0bWxfMTBhNzY4MDcxZTk2NGE3ODk5NGY2MmU5NjEyZGM1YmEiIHN0eWxlPSJ3aWR0aDogMTAwLjAlOyBoZWlnaHQ6IDEwMC4wJTsiPmZhciBDbHVzdGVyIDA8L2Rpdj4nKVswXTsKICAgICAgICAgICAgICAgIHBvcHVwX2JkOTViZGMwNDBiMjRhYWE4NDFkZDVlMzdhN2M0M2M5LnNldENvbnRlbnQoaHRtbF8xMGE3NjgwNzFlOTY0YTc4OTk0ZjYyZTk2MTJkYzViYSk7CiAgICAgICAgICAgIAoKICAgICAgICAgICAgY2lyY2xlX21hcmtlcl9hNWJkOTBiNjdhOGY0NWVhOGY4OTZkNjJmYzRhNWMxZi5iaW5kUG9wdXAocG9wdXBfYmQ5NWJkYzA0MGIyNGFhYTg0MWRkNWUzN2E3YzQzYzkpOwoKICAgICAgICAgICAgCiAgICAgICAgCiAgICAKICAgICAgICAgICAgdmFyIGNpcmNsZV9tYXJrZXJfM2M0YmExODhlMGUxNDA1ODkyMTU5YzI5NTJhOWYwZTUgPSBMLmNpcmNsZU1hcmtlcigKICAgICAgICAgICAgICAgIFszNy4zMzQ1Mjc3LC0xMjEuODkwOTc5N10sCiAgICAgICAgICAgICAgICB7CiAgImJ1YmJsaW5nTW91c2VFdmVudHMiOiB0cnVlLAogICJjb2xvciI6ICIjODAwMGZmIiwKICAiZGFzaEFycmF5IjogbnVsbCwKICAiZGFzaE9mZnNldCI6IG51bGwsCiAgImZpbGwiOiB0cnVlLAogICJmaWxsQ29sb3IiOiAiIzgwMDBmZiIsCiAgImZpbGxPcGFjaXR5IjogMC43LAogICJmaWxsUnVsZSI6ICJldmVub2RkIiwKICAibGluZUNhcCI6ICJyb3VuZCIsCiAgImxpbmVKb2luIjogInJvdW5kIiwKICAib3BhY2l0eSI6IDEuMCwKICAicmFkaXVzIjogNSwKICAic3Ryb2tlIjogdHJ1ZSwKICAid2VpZ2h0IjogMwp9CiAgICAgICAgICAgICAgICApLmFkZFRvKG1hcF8xM2I3OTVmYjRlNTE0YWUyYjU0MDZhMzMyMzFmNTk5ZCk7CiAgICAgICAgICAgIAogICAgCiAgICAgICAgICAgIHZhciBwb3B1cF9lNTQ4ZGVmYWQ2ZTg0Y2NiODhhYzZjNGRmZmJkNDBmYyA9IEwucG9wdXAoe21heFdpZHRoOiAnMzAwJ30pOwoKICAgICAgICAgICAgCiAgICAgICAgICAgICAgICB2YXIgaHRtbF9lM2RlZDFmYzFmNzA0N2MxYTc3ODVlNjdlZDE5NDJlZCA9ICQoJzxkaXYgaWQ9Imh0bWxfZTNkZWQxZmMxZjcwNDdjMWE3Nzg1ZTY3ZWQxOTQyZWQiIHN0eWxlPSJ3aWR0aDogMTAwLjAlOyBoZWlnaHQ6IDEwMC4wJTsiPmNsb3NlIENsdXN0ZXIgMTwvZGl2PicpWzBdOwogICAgICAgICAgICAgICAgcG9wdXBfZTU0OGRlZmFkNmU4NGNjYjg4YWM2YzRkZmZiZDQwZmMuc2V0Q29udGVudChodG1sX2UzZGVkMWZjMWY3MDQ3YzFhNzc4NWU2N2VkMTk0MmVkKTsKICAgICAgICAgICAgCgogICAgICAgICAgICBjaXJjbGVfbWFya2VyXzNjNGJhMTg4ZTBlMTQwNTg5MjE1OWMyOTUyYTlmMGU1LmJpbmRQb3B1cChwb3B1cF9lNTQ4ZGVmYWQ2ZTg0Y2NiODhhYzZjNGRmZmJkNDBmYyk7CgogICAgICAgICAgICAKICAgICAgICAKICAgIAogICAgICAgICAgICB2YXIgY2lyY2xlX21hcmtlcl8yZTI2NDc0YjkxODg0NjkyYTgyZDNhNGNkZTdkZGVjNyA9IEwuY2lyY2xlTWFya2VyKAogICAgICAgICAgICAgICAgWzM3LjMzNzg3NzQsLTEyMS44OTIxMTY2XSwKICAgICAgICAgICAgICAgIHsKICAiYnViYmxpbmdNb3VzZUV2ZW50cyI6IHRydWUsCiAgImNvbG9yIjogIiM4MDAwZmYiLAogICJkYXNoQXJyYXkiOiBudWxsLAogICJkYXNoT2Zmc2V0IjogbnVsbCwKICAiZmlsbCI6IHRydWUsCiAgImZpbGxDb2xvciI6ICIjODAwMGZmIiwKICAiZmlsbE9wYWNpdHkiOiAwLjcsCiAgImZpbGxSdWxlIjogImV2ZW5vZGQiLAogICJsaW5lQ2FwIjogInJvdW5kIiwKICAibGluZUpvaW4iOiAicm91bmQiLAogICJvcGFjaXR5IjogMS4wLAogICJyYWRpdXMiOiA1LAogICJzdHJva2UiOiB0cnVlLAogICJ3ZWlnaHQiOiAzCn0KICAgICAgICAgICAgICAgICkuYWRkVG8obWFwXzEzYjc5NWZiNGU1MTRhZTJiNTQwNmEzMzIzMWY1OTlkKTsKICAgICAgICAgICAgCiAgICAKICAgICAgICAgICAgdmFyIHBvcHVwX2VjMTExODA5Y2Y1ODQ2ZWZiYjI1OGI0NzYyOWJmZDkwID0gTC5wb3B1cCh7bWF4V2lkdGg6ICczMDAnfSk7CgogICAgICAgICAgICAKICAgICAgICAgICAgICAgIHZhciBodG1sX2FiZGY5N2FmZGY0MDRiZDI4YjY1Y2ZhYmMzZmM5ZDBiID0gJCgnPGRpdiBpZD0iaHRtbF9hYmRmOTdhZmRmNDA0YmQyOGI2NWNmYWJjM2ZjOWQwYiIgc3R5bGU9IndpZHRoOiAxMDAuMCU7IGhlaWdodDogMTAwLjAlOyI+Y2xvc2UgQ2x1c3RlciAxPC9kaXY+JylbMF07CiAgICAgICAgICAgICAgICBwb3B1cF9lYzExMTgwOWNmNTg0NmVmYmIyNThiNDc2MjliZmQ5MC5zZXRDb250ZW50KGh0bWxfYWJkZjk3YWZkZjQwNGJkMjhiNjVjZmFiYzNmYzlkMGIpOwogICAgICAgICAgICAKCiAgICAgICAgICAgIGNpcmNsZV9tYXJrZXJfMmUyNjQ3NGI5MTg4NDY5MmE4MmQzYTRjZGU3ZGRlYzcuYmluZFBvcHVwKHBvcHVwX2VjMTExODA5Y2Y1ODQ2ZWZiYjI1OGI0NzYyOWJmZDkwKTsKCiAgICAgICAgICAgIAogICAgICAgIAogICAgCiAgICAgICAgICAgIHZhciBjaXJjbGVfbWFya2VyXzA0NTVmNTFiOWZhZjRhYTg5OGM0MDQ1OGM1YTgxOTE1ID0gTC5jaXJjbGVNYXJrZXIoCiAgICAgICAgICAgICAgICBbMzcuMzM2MDM4LC0xMjEuODkwMjY1XSwKICAgICAgICAgICAgICAgIHsKICAiYnViYmxpbmdNb3VzZUV2ZW50cyI6IHRydWUsCiAgImNvbG9yIjogIiNmZjAwMDAiLAogICJkYXNoQXJyYXkiOiBudWxsLAogICJkYXNoT2Zmc2V0IjogbnVsbCwKICAiZmlsbCI6IHRydWUsCiAgImZpbGxDb2xvciI6ICIjZmYwMDAwIiwKICAiZmlsbE9wYWNpdHkiOiAwLjcsCiAgImZpbGxSdWxlIjogImV2ZW5vZGQiLAogICJsaW5lQ2FwIjogInJvdW5kIiwKICAibGluZUpvaW4iOiAicm91bmQiLAogICJvcGFjaXR5IjogMS4wLAogICJyYWRpdXMiOiA1LAogICJzdHJva2UiOiB0cnVlLAogICJ3ZWlnaHQiOiAzCn0KICAgICAgICAgICAgICAgICkuYWRkVG8obWFwXzEzYjc5NWZiNGU1MTRhZTJiNTQwNmEzMzIzMWY1OTlkKTsKICAgICAgICAgICAgCiAgICAKICAgICAgICAgICAgdmFyIHBvcHVwXzEwNTE0Yjg4MGViNDRiMGVhODU4YmEyYjg2NDA3NWE5ID0gTC5wb3B1cCh7bWF4V2lkdGg6ICczMDAnfSk7CgogICAgICAgICAgICAKICAgICAgICAgICAgICAgIHZhciBodG1sXzc1MTFiZDU2YzI2MDQ3Nzc5NmZhNDVlNmJjNjliODUyID0gJCgnPGRpdiBpZD0iaHRtbF83NTExYmQ1NmMyNjA0Nzc3OTZmYTQ1ZTZiYzY5Yjg1MiIgc3R5bGU9IndpZHRoOiAxMDAuMCU7IGhlaWdodDogMTAwLjAlOyI+ZmFyIENsdXN0ZXIgMDwvZGl2PicpWzBdOwogICAgICAgICAgICAgICAgcG9wdXBfMTA1MTRiODgwZWI0NGIwZWE4NThiYTJiODY0MDc1YTkuc2V0Q29udGVudChodG1sXzc1MTFiZDU2YzI2MDQ3Nzc5NmZhNDVlNmJjNjliODUyKTsKICAgICAgICAgICAgCgogICAgICAgICAgICBjaXJjbGVfbWFya2VyXzA0NTVmNTFiOWZhZjRhYTg5OGM0MDQ1OGM1YTgxOTE1LmJpbmRQb3B1cChwb3B1cF8xMDUxNGI4ODBlYjQ0YjBlYTg1OGJhMmI4NjQwNzVhOSk7CgogICAgICAgICAgICAKICAgICAgICAKICAgIAogICAgICAgICAgICB2YXIgY2lyY2xlX21hcmtlcl9jY2FjOTc1YTAxZjU0ZWNiOGU4YjlhMmViMmQ3YWJlMSA9IEwuY2lyY2xlTWFya2VyKAogICAgICAgICAgICAgICAgWzM3LjMzNjI2MSwtMTIxLjg4OTczXSwKICAgICAgICAgICAgICAgIHsKICAiYnViYmxpbmdNb3VzZUV2ZW50cyI6IHRydWUsCiAgImNvbG9yIjogIiNmZjAwMDAiLAogICJkYXNoQXJyYXkiOiBudWxsLAogICJkYXNoT2Zmc2V0IjogbnVsbCwKICAiZmlsbCI6IHRydWUsCiAgImZpbGxDb2xvciI6ICIjZmYwMDAwIiwKICAiZmlsbE9wYWNpdHkiOiAwLjcsCiAgImZpbGxSdWxlIjogImV2ZW5vZGQiLAogICJsaW5lQ2FwIjogInJvdW5kIiwKICAibGluZUpvaW4iOiAicm91bmQiLAogICJvcGFjaXR5IjogMS4wLAogICJyYWRpdXMiOiA1LAogICJzdHJva2UiOiB0cnVlLAogICJ3ZWlnaHQiOiAzCn0KICAgICAgICAgICAgICAgICkuYWRkVG8obWFwXzEzYjc5NWZiNGU1MTRhZTJiNTQwNmEzMzIzMWY1OTlkKTsKICAgICAgICAgICAgCiAgICAKICAgICAgICAgICAgdmFyIHBvcHVwX2E0ZTY2MzlmMDljOTQ2MDU5NWExMWM1ZGZlODk1NzQzID0gTC5wb3B1cCh7bWF4V2lkdGg6ICczMDAnfSk7CgogICAgICAgICAgICAKICAgICAgICAgICAgICAgIHZhciBodG1sXzVkNGNjZDcwNTZhYjRhNzM5MTk5MGU4YTZhMzdhNzhhID0gJCgnPGRpdiBpZD0iaHRtbF81ZDRjY2Q3MDU2YWI0YTczOTE5OTBlOGE2YTM3YTc4YSIgc3R5bGU9IndpZHRoOiAxMDAuMCU7IGhlaWdodDogMTAwLjAlOyI+Y2xvc2UgQ2x1c3RlciAwPC9kaXY+JylbMF07CiAgICAgICAgICAgICAgICBwb3B1cF9hNGU2NjM5ZjA5Yzk0NjA1OTVhMTFjNWRmZTg5NTc0My5zZXRDb250ZW50KGh0bWxfNWQ0Y2NkNzA1NmFiNGE3MzkxOTkwZThhNmEzN2E3OGEpOwogICAgICAgICAgICAKCiAgICAgICAgICAgIGNpcmNsZV9tYXJrZXJfY2NhYzk3NWEwMWY1NGVjYjhlOGI5YTJlYjJkN2FiZTEuYmluZFBvcHVwKHBvcHVwX2E0ZTY2MzlmMDljOTQ2MDU5NWExMWM1ZGZlODk1NzQzKTsKCiAgICAgICAgICAgIAogICAgICAgIAogICAgCiAgICAgICAgICAgIHZhciBjaXJjbGVfbWFya2VyX2Q3MWY3NjNmZWIxMjQyNzc4NDZiNjYwMmIyNmMwNTU3ID0gTC5jaXJjbGVNYXJrZXIoCiAgICAgICAgICAgICAgICBbMzcuMzM2MDA0OSwtMTIxLjg5MDM3MDNdLAogICAgICAgICAgICAgICAgewogICJidWJibGluZ01vdXNlRXZlbnRzIjogdHJ1ZSwKICAiY29sb3IiOiAiI2ZmMDAwMCIsCiAgImRhc2hBcnJheSI6IG51bGwsCiAgImRhc2hPZmZzZXQiOiBudWxsLAogICJmaWxsIjogdHJ1ZSwKICAiZmlsbENvbG9yIjogIiNmZjAwMDAiLAogICJmaWxsT3BhY2l0eSI6IDAuNywKICAiZmlsbFJ1bGUiOiAiZXZlbm9kZCIsCiAgImxpbmVDYXAiOiAicm91bmQiLAogICJsaW5lSm9pbiI6ICJyb3VuZCIsCiAgIm9wYWNpdHkiOiAxLjAsCiAgInJhZGl1cyI6IDUsCiAgInN0cm9rZSI6IHRydWUsCiAgIndlaWdodCI6IDMKfQogICAgICAgICAgICAgICAgKS5hZGRUbyhtYXBfMTNiNzk1ZmI0ZTUxNGFlMmI1NDA2YTMzMjMxZjU5OWQpOwogICAgICAgICAgICAKICAgIAogICAgICAgICAgICB2YXIgcG9wdXBfZGEyYWFiZDFiOWM0NGFkMjgyOGZjNzc2NjljZGE1OTcgPSBMLnBvcHVwKHttYXhXaWR0aDogJzMwMCd9KTsKCiAgICAgICAgICAgIAogICAgICAgICAgICAgICAgdmFyIGh0bWxfYTBiN2Y4Y2M4OGYwNDdiNmJlYTE0ODJiODJlMTU1MGIgPSAkKCc8ZGl2IGlkPSJodG1sX2EwYjdmOGNjODhmMDQ3YjZiZWExNDgyYjgyZTE1NTBiIiBzdHlsZT0id2lkdGg6IDEwMC4wJTsgaGVpZ2h0OiAxMDAuMCU7Ij5mYXIgQ2x1c3RlciAwPC9kaXY+JylbMF07CiAgICAgICAgICAgICAgICBwb3B1cF9kYTJhYWJkMWI5YzQ0YWQyODI4ZmM3NzY2OWNkYTU5Ny5zZXRDb250ZW50KGh0bWxfYTBiN2Y4Y2M4OGYwNDdiNmJlYTE0ODJiODJlMTU1MGIpOwogICAgICAgICAgICAKCiAgICAgICAgICAgIGNpcmNsZV9tYXJrZXJfZDcxZjc2M2ZlYjEyNDI3Nzg0NmI2NjAyYjI2YzA1NTcuYmluZFBvcHVwKHBvcHVwX2RhMmFhYmQxYjljNDRhZDI4MjhmYzc3NjY5Y2RhNTk3KTsKCiAgICAgICAgICAgIAogICAgICAgIAogICAgCiAgICAgICAgICAgIHZhciBjaXJjbGVfbWFya2VyXzY2YWU3OTQzOWI3MTRkYzU4NmZiNjI4MjVkODJkZWFjID0gTC5jaXJjbGVNYXJrZXIoCiAgICAgICAgICAgICAgICBbMzcuMzM2NTg5MDMwMDU1MTYsLTEyMS44OTA2OTQyNjI2NDQzNV0sCiAgICAgICAgICAgICAgICB7CiAgImJ1YmJsaW5nTW91c2VFdmVudHMiOiB0cnVlLAogICJjb2xvciI6ICIjZmYwMDAwIiwKICAiZGFzaEFycmF5IjogbnVsbCwKICAiZGFzaE9mZnNldCI6IG51bGwsCiAgImZpbGwiOiB0cnVlLAogICJmaWxsQ29sb3IiOiAiI2ZmMDAwMCIsCiAgImZpbGxPcGFjaXR5IjogMC43LAogICJmaWxsUnVsZSI6ICJldmVub2RkIiwKICAibGluZUNhcCI6ICJyb3VuZCIsCiAgImxpbmVKb2luIjogInJvdW5kIiwKICAib3BhY2l0eSI6IDEuMCwKICAicmFkaXVzIjogNSwKICAic3Ryb2tlIjogdHJ1ZSwKICAid2VpZ2h0IjogMwp9CiAgICAgICAgICAgICAgICApLmFkZFRvKG1hcF8xM2I3OTVmYjRlNTE0YWUyYjU0MDZhMzMyMzFmNTk5ZCk7CiAgICAgICAgICAgIAogICAgCiAgICAgICAgICAgIHZhciBwb3B1cF8wOGY2ODQ1NGIwYjg0YWJlOGExNzI1MGU2NTY1Y2ExMyA9IEwucG9wdXAoe21heFdpZHRoOiAnMzAwJ30pOwoKICAgICAgICAgICAgCiAgICAgICAgICAgICAgICB2YXIgaHRtbF9iY2RjMzNmN2E4ZDk0ZjdkYTUwODFjZjljZTkyYTRlOSA9ICQoJzxkaXYgaWQ9Imh0bWxfYmNkYzMzZjdhOGQ5NGY3ZGE1MDgxY2Y5Y2U5MmE0ZTkiIHN0eWxlPSJ3aWR0aDogMTAwLjAlOyBoZWlnaHQ6IDEwMC4wJTsiPmZhciBDbHVzdGVyIDA8L2Rpdj4nKVswXTsKICAgICAgICAgICAgICAgIHBvcHVwXzA4ZjY4NDU0YjBiODRhYmU4YTE3MjUwZTY1NjVjYTEzLnNldENvbnRlbnQoaHRtbF9iY2RjMzNmN2E4ZDk0ZjdkYTUwODFjZjljZTkyYTRlOSk7CiAgICAgICAgICAgIAoKICAgICAgICAgICAgY2lyY2xlX21hcmtlcl82NmFlNzk0MzliNzE0ZGM1ODZmYjYyODI1ZDgyZGVhYy5iaW5kUG9wdXAocG9wdXBfMDhmNjg0NTRiMGI4NGFiZThhMTcyNTBlNjU2NWNhMTMpOwoKICAgICAgICAgICAgCiAgICAgICAgCiAgICAKICAgICAgICAgICAgdmFyIGNpcmNsZV9tYXJrZXJfOTY5MjYyZTRlNWEzNGNjYmJkMmQ0ZWFhOWZjMDA4OGIgPSBMLmNpcmNsZU1hcmtlcigKICAgICAgICAgICAgICAgIFszNy4zMzY0NDEwNzIxOTYzNSwtMTIxLjg5MDUyNDIzNTcwNDEzXSwKICAgICAgICAgICAgICAgIHsKICAiYnViYmxpbmdNb3VzZUV2ZW50cyI6IHRydWUsCiAgImNvbG9yIjogIiNmZjAwMDAiLAogICJkYXNoQXJyYXkiOiBudWxsLAogICJkYXNoT2Zmc2V0IjogbnVsbCwKICAiZmlsbCI6IHRydWUsCiAgImZpbGxDb2xvciI6ICIjZmYwMDAwIiwKICAiZmlsbE9wYWNpdHkiOiAwLjcsCiAgImZpbGxSdWxlIjogImV2ZW5vZGQiLAogICJsaW5lQ2FwIjogInJvdW5kIiwKICAibGluZUpvaW4iOiAicm91bmQiLAogICJvcGFjaXR5IjogMS4wLAogICJyYWRpdXMiOiA1LAogICJzdHJva2UiOiB0cnVlLAogICJ3ZWlnaHQiOiAzCn0KICAgICAgICAgICAgICAgICkuYWRkVG8obWFwXzEzYjc5NWZiNGU1MTRhZTJiNTQwNmEzMzIzMWY1OTlkKTsKICAgICAgICAgICAgCiAgICAKICAgICAgICAgICAgdmFyIHBvcHVwXzFhMDMzYzBjOWU3MzQwZTNhMDhlZGJhODgyYjRkNjA0ID0gTC5wb3B1cCh7bWF4V2lkdGg6ICczMDAnfSk7CgogICAgICAgICAgICAKICAgICAgICAgICAgICAgIHZhciBodG1sX2M0M2U3OGMzYjNkODRkNmY5YzZhYjg1ODgxNDIzOWI3ID0gJCgnPGRpdiBpZD0iaHRtbF9jNDNlNzhjM2IzZDg0ZDZmOWM2YWI4NTg4MTQyMzliNyIgc3R5bGU9IndpZHRoOiAxMDAuMCU7IGhlaWdodDogMTAwLjAlOyI+ZmFyIENsdXN0ZXIgMDwvZGl2PicpWzBdOwogICAgICAgICAgICAgICAgcG9wdXBfMWEwMzNjMGM5ZTczNDBlM2EwOGVkYmE4ODJiNGQ2MDQuc2V0Q29udGVudChodG1sX2M0M2U3OGMzYjNkODRkNmY5YzZhYjg1ODgxNDIzOWI3KTsKICAgICAgICAgICAgCgogICAgICAgICAgICBjaXJjbGVfbWFya2VyXzk2OTI2MmU0ZTVhMzRjY2JiZDJkNGVhYTlmYzAwODhiLmJpbmRQb3B1cChwb3B1cF8xYTAzM2MwYzllNzM0MGUzYTA4ZWRiYTg4MmI0ZDYwNCk7CgogICAgICAgICAgICAKICAgICAgICAKICAgIAogICAgICAgICAgICB2YXIgY2lyY2xlX21hcmtlcl8yZGViZDg0OGIyYjg0N2IzYWFmNzNjZTNlOTk5MGYwNyA9IEwuY2lyY2xlTWFya2VyKAogICAgICAgICAgICAgICAgWzM3LjMzNTc4NzA0NDA3MTM4LC0xMjEuODkwNjEwODk1NDUzODVdLAogICAgICAgICAgICAgICAgewogICJidWJibGluZ01vdXNlRXZlbnRzIjogdHJ1ZSwKICAiY29sb3IiOiAiI2ZmMDAwMCIsCiAgImRhc2hBcnJheSI6IG51bGwsCiAgImRhc2hPZmZzZXQiOiBudWxsLAogICJmaWxsIjogdHJ1ZSwKICAiZmlsbENvbG9yIjogIiNmZjAwMDAiLAogICJmaWxsT3BhY2l0eSI6IDAuNywKICAiZmlsbFJ1bGUiOiAiZXZlbm9kZCIsCiAgImxpbmVDYXAiOiAicm91bmQiLAogICJsaW5lSm9pbiI6ICJyb3VuZCIsCiAgIm9wYWNpdHkiOiAxLjAsCiAgInJhZGl1cyI6IDUsCiAgInN0cm9rZSI6IHRydWUsCiAgIndlaWdodCI6IDMKfQogICAgICAgICAgICAgICAgKS5hZGRUbyhtYXBfMTNiNzk1ZmI0ZTUxNGFlMmI1NDA2YTMzMjMxZjU5OWQpOwogICAgICAgICAgICAKICAgIAogICAgICAgICAgICB2YXIgcG9wdXBfMzQzZjE3OGQzNGMzNGUxYjkyY2FhMTQ3MjJkMDg0MWEgPSBMLnBvcHVwKHttYXhXaWR0aDogJzMwMCd9KTsKCiAgICAgICAgICAgIAogICAgICAgICAgICAgICAgdmFyIGh0bWxfYTkzNjY3MWE5Y2JiNGY0ZDljMDk3OTEzZWNlZjJjN2MgPSAkKCc8ZGl2IGlkPSJodG1sX2E5MzY2NzFhOWNiYjRmNGQ5YzA5NzkxM2VjZWYyYzdjIiBzdHlsZT0id2lkdGg6IDEwMC4wJTsgaGVpZ2h0OiAxMDAuMCU7Ij5mYXIgQ2x1c3RlciAwPC9kaXY+JylbMF07CiAgICAgICAgICAgICAgICBwb3B1cF8zNDNmMTc4ZDM0YzM0ZTFiOTJjYWExNDcyMmQwODQxYS5zZXRDb250ZW50KGh0bWxfYTkzNjY3MWE5Y2JiNGY0ZDljMDk3OTEzZWNlZjJjN2MpOwogICAgICAgICAgICAKCiAgICAgICAgICAgIGNpcmNsZV9tYXJrZXJfMmRlYmQ4NDhiMmI4NDdiM2FhZjczY2UzZTk5OTBmMDcuYmluZFBvcHVwKHBvcHVwXzM0M2YxNzhkMzRjMzRlMWI5MmNhYTE0NzIyZDA4NDFhKTsKCiAgICAgICAgICAgIAogICAgICAgIAogICAgCiAgICAgICAgICAgIHZhciBjaXJjbGVfbWFya2VyX2VlMmVhMDI5YjE2NjRmMWE5MDZlNDVlYWRiODBkNmU0ID0gTC5jaXJjbGVNYXJrZXIoCiAgICAgICAgICAgICAgICBbMzcuMzM1NzgzNzY1ODQ2MjQ0LC0xMjEuODkxMzExMTc3ODk5MDhdLAogICAgICAgICAgICAgICAgewogICJidWJibGluZ01vdXNlRXZlbnRzIjogdHJ1ZSwKICAiY29sb3IiOiAiIzgwMDBmZiIsCiAgImRhc2hBcnJheSI6IG51bGwsCiAgImRhc2hPZmZzZXQiOiBudWxsLAogICJmaWxsIjogdHJ1ZSwKICAiZmlsbENvbG9yIjogIiM4MDAwZmYiLAogICJmaWxsT3BhY2l0eSI6IDAuNywKICAiZmlsbFJ1bGUiOiAiZXZlbm9kZCIsCiAgImxpbmVDYXAiOiAicm91bmQiLAogICJsaW5lSm9pbiI6ICJyb3VuZCIsCiAgIm9wYWNpdHkiOiAxLjAsCiAgInJhZGl1cyI6IDUsCiAgInN0cm9rZSI6IHRydWUsCiAgIndlaWdodCI6IDMKfQogICAgICAgICAgICAgICAgKS5hZGRUbyhtYXBfMTNiNzk1ZmI0ZTUxNGFlMmI1NDA2YTMzMjMxZjU5OWQpOwogICAgICAgICAgICAKICAgIAogICAgICAgICAgICB2YXIgcG9wdXBfZTQ4ZjZkZGExZTA2NDY2MTk0MzhhOGIxNTUxMzNmNmMgPSBMLnBvcHVwKHttYXhXaWR0aDogJzMwMCd9KTsKCiAgICAgICAgICAgIAogICAgICAgICAgICAgICAgdmFyIGh0bWxfYWM1ODMwYjEwODk2NGE3YWIzOGEzOGM0MDE1ZWU1OTYgPSAkKCc8ZGl2IGlkPSJodG1sX2FjNTgzMGIxMDg5NjRhN2FiMzhhMzhjNDAxNWVlNTk2IiBzdHlsZT0id2lkdGg6IDEwMC4wJTsgaGVpZ2h0OiAxMDAuMCU7Ij5jbG9zZSBDbHVzdGVyIDE8L2Rpdj4nKVswXTsKICAgICAgICAgICAgICAgIHBvcHVwX2U0OGY2ZGRhMWUwNjQ2NjE5NDM4YThiMTU1MTMzZjZjLnNldENvbnRlbnQoaHRtbF9hYzU4MzBiMTA4OTY0YTdhYjM4YTM4YzQwMTVlZTU5Nik7CiAgICAgICAgICAgIAoKICAgICAgICAgICAgY2lyY2xlX21hcmtlcl9lZTJlYTAyOWIxNjY0ZjFhOTA2ZTQ1ZWFkYjgwZDZlNC5iaW5kUG9wdXAocG9wdXBfZTQ4ZjZkZGExZTA2NDY2MTk0MzhhOGIxNTUxMzNmNmMpOwoKICAgICAgICAgICAgCiAgICAgICAgCiAgICAKICAgICAgICAgICAgdmFyIGNpcmNsZV9tYXJrZXJfZGE5ZjQ2ZmZmMmY0NGZiMzlmMzZjMGY1N2MwNDEyYzIgPSBMLmNpcmNsZU1hcmtlcigKICAgICAgICAgICAgICAgIFszNy4zMzYwMjA2MzI1MTgzNSwtMTIxLjg4OTY2MDUwNTAzNTY4XSwKICAgICAgICAgICAgICAgIHsKICAiYnViYmxpbmdNb3VzZUV2ZW50cyI6IHRydWUsCiAgImNvbG9yIjogIiNmZjAwMDAiLAogICJkYXNoQXJyYXkiOiBudWxsLAogICJkYXNoT2Zmc2V0IjogbnVsbCwKICAiZmlsbCI6IHRydWUsCiAgImZpbGxDb2xvciI6ICIjZmYwMDAwIiwKICAiZmlsbE9wYWNpdHkiOiAwLjcsCiAgImZpbGxSdWxlIjogImV2ZW5vZGQiLAogICJsaW5lQ2FwIjogInJvdW5kIiwKICAibGluZUpvaW4iOiAicm91bmQiLAogICJvcGFjaXR5IjogMS4wLAogICJyYWRpdXMiOiA1LAogICJzdHJva2UiOiB0cnVlLAogICJ3ZWlnaHQiOiAzCn0KICAgICAgICAgICAgICAgICkuYWRkVG8obWFwXzEzYjc5NWZiNGU1MTRhZTJiNTQwNmEzMzIzMWY1OTlkKTsKICAgICAgICAgICAgCiAgICAKICAgICAgICAgICAgdmFyIHBvcHVwXzZkYmFmOTczYWM5MzQ4MzNhMzMyY2Y2MTcxMTUwMDRlID0gTC5wb3B1cCh7bWF4V2lkdGg6ICczMDAnfSk7CgogICAgICAgICAgICAKICAgICAgICAgICAgICAgIHZhciBodG1sXzE3Mzg4N2M0OTliZjRiY2ViNGY2ODJmMDA5MzM1NTRkID0gJCgnPGRpdiBpZD0iaHRtbF8xNzM4ODdjNDk5YmY0YmNlYjRmNjgyZjAwOTMzNTU0ZCIgc3R5bGU9IndpZHRoOiAxMDAuMCU7IGhlaWdodDogMTAwLjAlOyI+Y2xvc2UgQ2x1c3RlciAwPC9kaXY+JylbMF07CiAgICAgICAgICAgICAgICBwb3B1cF82ZGJhZjk3M2FjOTM0ODMzYTMzMmNmNjE3MTE1MDA0ZS5zZXRDb250ZW50KGh0bWxfMTczODg3YzQ5OWJmNGJjZWI0ZjY4MmYwMDkzMzU1NGQpOwogICAgICAgICAgICAKCiAgICAgICAgICAgIGNpcmNsZV9tYXJrZXJfZGE5ZjQ2ZmZmMmY0NGZiMzlmMzZjMGY1N2MwNDEyYzIuYmluZFBvcHVwKHBvcHVwXzZkYmFmOTczYWM5MzQ4MzNhMzMyY2Y2MTcxMTUwMDRlKTsKCiAgICAgICAgICAgIAogICAgICAgIAogICAgCiAgICAgICAgICAgIHZhciBjaXJjbGVfbWFya2VyXzY4YzAzYWM5ZWE3YTQ5NGU4NzkxMTJhNmVlZjlhODU1ID0gTC5jaXJjbGVNYXJrZXIoCiAgICAgICAgICAgICAgICBbMzcuMzM1Nzg3MzcwNTg3MzQsLTEyMS44OTAzNDQwMjM3MDQ1M10sCiAgICAgICAgICAgICAgICB7CiAgImJ1YmJsaW5nTW91c2VFdmVudHMiOiB0cnVlLAogICJjb2xvciI6ICIjZmYwMDAwIiwKICAiZGFzaEFycmF5IjogbnVsbCwKICAiZGFzaE9mZnNldCI6IG51bGwsCiAgImZpbGwiOiB0cnVlLAogICJmaWxsQ29sb3IiOiAiI2ZmMDAwMCIsCiAgImZpbGxPcGFjaXR5IjogMC43LAogICJmaWxsUnVsZSI6ICJldmVub2RkIiwKICAibGluZUNhcCI6ICJyb3VuZCIsCiAgImxpbmVKb2luIjogInJvdW5kIiwKICAib3BhY2l0eSI6IDEuMCwKICAicmFkaXVzIjogNSwKICAic3Ryb2tlIjogdHJ1ZSwKICAid2VpZ2h0IjogMwp9CiAgICAgICAgICAgICAgICApLmFkZFRvKG1hcF8xM2I3OTVmYjRlNTE0YWUyYjU0MDZhMzMyMzFmNTk5ZCk7CiAgICAgICAgICAgIAogICAgCiAgICAgICAgICAgIHZhciBwb3B1cF85MTI2YzcxZTNkNzI0M2FlYWNhZGQzYTJhMzE0YzBlMSA9IEwucG9wdXAoe21heFdpZHRoOiAnMzAwJ30pOwoKICAgICAgICAgICAgCiAgICAgICAgICAgICAgICB2YXIgaHRtbF8wNzgxMjYwZTczYmM0NDNjYjZlZWZlYTc4YjNlODZjNSA9ICQoJzxkaXYgaWQ9Imh0bWxfMDc4MTI2MGU3M2JjNDQzY2I2ZWVmZWE3OGIzZTg2YzUiIHN0eWxlPSJ3aWR0aDogMTAwLjAlOyBoZWlnaHQ6IDEwMC4wJTsiPmZhciBDbHVzdGVyIDA8L2Rpdj4nKVswXTsKICAgICAgICAgICAgICAgIHBvcHVwXzkxMjZjNzFlM2Q3MjQzYWVhY2FkZDNhMmEzMTRjMGUxLnNldENvbnRlbnQoaHRtbF8wNzgxMjYwZTczYmM0NDNjYjZlZWZlYTc4YjNlODZjNSk7CiAgICAgICAgICAgIAoKICAgICAgICAgICAgY2lyY2xlX21hcmtlcl82OGMwM2FjOWVhN2E0OTRlODc5MTEyYTZlZWY5YTg1NS5iaW5kUG9wdXAocG9wdXBfOTEyNmM3MWUzZDcyNDNhZWFjYWRkM2EyYTMxNGMwZTEpOwoKICAgICAgICAgICAgCiAgICAgICAgCiAgICAKICAgICAgICAgICAgdmFyIGNpcmNsZV9tYXJrZXJfNzViYTc1MjhmNDQyNDY1YWFjODBkZTk0N2MzM2M0NjEgPSBMLmNpcmNsZU1hcmtlcigKICAgICAgICAgICAgICAgIFszNy4zMzU1NTM4NDgxNTIwNzQsLTEyMS44OTAzNDg2NDg1ODYyM10sCiAgICAgICAgICAgICAgICB7CiAgImJ1YmJsaW5nTW91c2VFdmVudHMiOiB0cnVlLAogICJjb2xvciI6ICIjZmYwMDAwIiwKICAiZGFzaEFycmF5IjogbnVsbCwKICAiZGFzaE9mZnNldCI6IG51bGwsCiAgImZpbGwiOiB0cnVlLAogICJmaWxsQ29sb3IiOiAiI2ZmMDAwMCIsCiAgImZpbGxPcGFjaXR5IjogMC43LAogICJmaWxsUnVsZSI6ICJldmVub2RkIiwKICAibGluZUNhcCI6ICJyb3VuZCIsCiAgImxpbmVKb2luIjogInJvdW5kIiwKICAib3BhY2l0eSI6IDEuMCwKICAicmFkaXVzIjogNSwKICAic3Ryb2tlIjogdHJ1ZSwKICAid2VpZ2h0IjogMwp9CiAgICAgICAgICAgICAgICApLmFkZFRvKG1hcF8xM2I3OTVmYjRlNTE0YWUyYjU0MDZhMzMyMzFmNTk5ZCk7CiAgICAgICAgICAgIAogICAgCiAgICAgICAgICAgIHZhciBwb3B1cF8yYzA3N2EyMDBmOTM0MDNhOGVkNDA3OGJlOTFkYWI3YiA9IEwucG9wdXAoe21heFdpZHRoOiAnMzAwJ30pOwoKICAgICAgICAgICAgCiAgICAgICAgICAgICAgICB2YXIgaHRtbF80MWI5OTQ3OTMyNjk0ZDJhYjc3OTFiMGZiMjk1MmFhYyA9ICQoJzxkaXYgaWQ9Imh0bWxfNDFiOTk0NzkzMjY5NGQyYWI3NzkxYjBmYjI5NTJhYWMiIHN0eWxlPSJ3aWR0aDogMTAwLjAlOyBoZWlnaHQ6IDEwMC4wJTsiPmNsb3NlIENsdXN0ZXIgMDwvZGl2PicpWzBdOwogICAgICAgICAgICAgICAgcG9wdXBfMmMwNzdhMjAwZjkzNDAzYThlZDQwNzhiZTkxZGFiN2Iuc2V0Q29udGVudChodG1sXzQxYjk5NDc5MzI2OTRkMmFiNzc5MWIwZmIyOTUyYWFjKTsKICAgICAgICAgICAgCgogICAgICAgICAgICBjaXJjbGVfbWFya2VyXzc1YmE3NTI4ZjQ0MjQ2NWFhYzgwZGU5NDdjMzNjNDYxLmJpbmRQb3B1cChwb3B1cF8yYzA3N2EyMDBmOTM0MDNhOGVkNDA3OGJlOTFkYWI3Yik7CgogICAgICAgICAgICAKICAgICAgICAKICAgIAogICAgICAgICAgICB2YXIgY2lyY2xlX21hcmtlcl8yMmJhMGE4OGU0M2M0YTJjYjJiMDRjZmRjZWYzOWYxMSA9IEwuY2lyY2xlTWFya2VyKAogICAgICAgICAgICAgICAgWzM3LjMzNjM3NSwtMTIxLjg5MDVdLAogICAgICAgICAgICAgICAgewogICJidWJibGluZ01vdXNlRXZlbnRzIjogdHJ1ZSwKICAiY29sb3IiOiAiI2ZmMDAwMCIsCiAgImRhc2hBcnJheSI6IG51bGwsCiAgImRhc2hPZmZzZXQiOiBudWxsLAogICJmaWxsIjogdHJ1ZSwKICAiZmlsbENvbG9yIjogIiNmZjAwMDAiLAogICJmaWxsT3BhY2l0eSI6IDAuNywKICAiZmlsbFJ1bGUiOiAiZXZlbm9kZCIsCiAgImxpbmVDYXAiOiAicm91bmQiLAogICJsaW5lSm9pbiI6ICJyb3VuZCIsCiAgIm9wYWNpdHkiOiAxLjAsCiAgInJhZGl1cyI6IDUsCiAgInN0cm9rZSI6IHRydWUsCiAgIndlaWdodCI6IDMKfQogICAgICAgICAgICAgICAgKS5hZGRUbyhtYXBfMTNiNzk1ZmI0ZTUxNGFlMmI1NDA2YTMzMjMxZjU5OWQpOwogICAgICAgICAgICAKICAgIAogICAgICAgICAgICB2YXIgcG9wdXBfNWJkOWU2ODRmMDA1NDJkOWExZDM0ZGZkY2NkMGIxYzAgPSBMLnBvcHVwKHttYXhXaWR0aDogJzMwMCd9KTsKCiAgICAgICAgICAgIAogICAgICAgICAgICAgICAgdmFyIGh0bWxfMDVkMDJlNzBlZjYwNDBhYWE4NmQyYWEyYjM4OTk5MGIgPSAkKCc8ZGl2IGlkPSJodG1sXzA1ZDAyZTcwZWY2MDQwYWFhODZkMmFhMmIzODk5OTBiIiBzdHlsZT0id2lkdGg6IDEwMC4wJTsgaGVpZ2h0OiAxMDAuMCU7Ij5mYXIgQ2x1c3RlciAwPC9kaXY+JylbMF07CiAgICAgICAgICAgICAgICBwb3B1cF81YmQ5ZTY4NGYwMDU0MmQ5YTFkMzRkZmRjY2QwYjFjMC5zZXRDb250ZW50KGh0bWxfMDVkMDJlNzBlZjYwNDBhYWE4NmQyYWEyYjM4OTk5MGIpOwogICAgICAgICAgICAKCiAgICAgICAgICAgIGNpcmNsZV9tYXJrZXJfMjJiYTBhODhlNDNjNGEyY2IyYjA0Y2ZkY2VmMzlmMTEuYmluZFBvcHVwKHBvcHVwXzViZDllNjg0ZjAwNTQyZDlhMWQzNGRmZGNjZDBiMWMwKTsKCiAgICAgICAgICAgIAogICAgICAgIAogICAgCiAgICAgICAgICAgIHZhciBjaXJjbGVfbWFya2VyXzY4MmI2YTI0OWEzOTRkYzliZDY2NzI2MDg0ODg0MmM1ID0gTC5jaXJjbGVNYXJrZXIoCiAgICAgICAgICAgICAgICBbMzcuMzM2OTI4LC0xMjEuODg5OTMyXSwKICAgICAgICAgICAgICAgIHsKICAiYnViYmxpbmdNb3VzZUV2ZW50cyI6IHRydWUsCiAgImNvbG9yIjogIiNmZjAwMDAiLAogICJkYXNoQXJyYXkiOiBudWxsLAogICJkYXNoT2Zmc2V0IjogbnVsbCwKICAiZmlsbCI6IHRydWUsCiAgImZpbGxDb2xvciI6ICIjZmYwMDAwIiwKICAiZmlsbE9wYWNpdHkiOiAwLjcsCiAgImZpbGxSdWxlIjogImV2ZW5vZGQiLAogICJsaW5lQ2FwIjogInJvdW5kIiwKICAibGluZUpvaW4iOiAicm91bmQiLAogICJvcGFjaXR5IjogMS4wLAogICJyYWRpdXMiOiA1LAogICJzdHJva2UiOiB0cnVlLAogICJ3ZWlnaHQiOiAzCn0KICAgICAgICAgICAgICAgICkuYWRkVG8obWFwXzEzYjc5NWZiNGU1MTRhZTJiNTQwNmEzMzIzMWY1OTlkKTsKICAgICAgICAgICAgCiAgICAKICAgICAgICAgICAgdmFyIHBvcHVwX2VmNjg0ZDk4NWRkZjQ0MmY5ZWVkMDgxY2YzZTA3NDZhID0gTC5wb3B1cCh7bWF4V2lkdGg6ICczMDAnfSk7CgogICAgICAgICAgICAKICAgICAgICAgICAgICAgIHZhciBodG1sXzFmZThlYTYzZWJjYjRhMzg4ZjQ5ZTRmYTAzMzYyMGQ5ID0gJCgnPGRpdiBpZD0iaHRtbF8xZmU4ZWE2M2ViY2I0YTM4OGY0OWU0ZmEwMzM2MjBkOSIgc3R5bGU9IndpZHRoOiAxMDAuMCU7IGhlaWdodDogMTAwLjAlOyI+Y2xvc2UgQ2x1c3RlciAwPC9kaXY+JylbMF07CiAgICAgICAgICAgICAgICBwb3B1cF9lZjY4NGQ5ODVkZGY0NDJmOWVlZDA4MWNmM2UwNzQ2YS5zZXRDb250ZW50KGh0bWxfMWZlOGVhNjNlYmNiNGEzODhmNDllNGZhMDMzNjIwZDkpOwogICAgICAgICAgICAKCiAgICAgICAgICAgIGNpcmNsZV9tYXJrZXJfNjgyYjZhMjQ5YTM5NGRjOWJkNjY3MjYwODQ4ODQyYzUuYmluZFBvcHVwKHBvcHVwX2VmNjg0ZDk4NWRkZjQ0MmY5ZWVkMDgxY2YzZTA3NDZhKTsKCiAgICAgICAgICAgIAogICAgICAgIAogICAgCiAgICAgICAgICAgIHZhciBjaXJjbGVfbWFya2VyX2VlNWMwNGE5MDFhMzRkZTM4MDBiYzNiOGVjYjEwODc3ID0gTC5jaXJjbGVNYXJrZXIoCiAgICAgICAgICAgICAgICBbMzcuMzM1NDc1NzgzMDI5NzQsLTEyMS44OTAwOTM4NTExODkzOV0sCiAgICAgICAgICAgICAgICB7CiAgImJ1YmJsaW5nTW91c2VFdmVudHMiOiB0cnVlLAogICJjb2xvciI6ICIjZmYwMDAwIiwKICAiZGFzaEFycmF5IjogbnVsbCwKICAiZGFzaE9mZnNldCI6IG51bGwsCiAgImZpbGwiOiB0cnVlLAogICJmaWxsQ29sb3IiOiAiI2ZmMDAwMCIsCiAgImZpbGxPcGFjaXR5IjogMC43LAogICJmaWxsUnVsZSI6ICJldmVub2RkIiwKICAibGluZUNhcCI6ICJyb3VuZCIsCiAgImxpbmVKb2luIjogInJvdW5kIiwKICAib3BhY2l0eSI6IDEuMCwKICAicmFkaXVzIjogNSwKICAic3Ryb2tlIjogdHJ1ZSwKICAid2VpZ2h0IjogMwp9CiAgICAgICAgICAgICAgICApLmFkZFRvKG1hcF8xM2I3OTVmYjRlNTE0YWUyYjU0MDZhMzMyMzFmNTk5ZCk7CiAgICAgICAgICAgIAogICAgCiAgICAgICAgICAgIHZhciBwb3B1cF81M2Q5OWNiMjcxODU0MzhiOWRmMmU5ODMzNTQxZTZlZSA9IEwucG9wdXAoe21heFdpZHRoOiAnMzAwJ30pOwoKICAgICAgICAgICAgCiAgICAgICAgICAgICAgICB2YXIgaHRtbF82YTU1ZWE5ZGUwZjk0ZDNkYTI0Y2FlMDE3ZGE5ODRkMyA9ICQoJzxkaXYgaWQ9Imh0bWxfNmE1NWVhOWRlMGY5NGQzZGEyNGNhZTAxN2RhOTg0ZDMiIHN0eWxlPSJ3aWR0aDogMTAwLjAlOyBoZWlnaHQ6IDEwMC4wJTsiPmNsb3NlIENsdXN0ZXIgMDwvZGl2PicpWzBdOwogICAgICAgICAgICAgICAgcG9wdXBfNTNkOTljYjI3MTg1NDM4YjlkZjJlOTgzMzU0MWU2ZWUuc2V0Q29udGVudChodG1sXzZhNTVlYTlkZTBmOTRkM2RhMjRjYWUwMTdkYTk4NGQzKTsKICAgICAgICAgICAgCgogICAgICAgICAgICBjaXJjbGVfbWFya2VyX2VlNWMwNGE5MDFhMzRkZTM4MDBiYzNiOGVjYjEwODc3LmJpbmRQb3B1cChwb3B1cF81M2Q5OWNiMjcxODU0MzhiOWRmMmU5ODMzNTQxZTZlZSk7CgogICAgICAgICAgICAKICAgICAgICAKICAgIAogICAgICAgICAgICB2YXIgY2lyY2xlX21hcmtlcl8yMmFjMTBlMjJkY2E0Mzk3OTViOWM3MDM5ZjZhMjdjNyA9IEwuY2lyY2xlTWFya2VyKAogICAgICAgICAgICAgICAgWzM3LjMzNjAyOTIwOTgxMDE1LC0xMjEuODkwNjc2ODQwOTkxMTldLAogICAgICAgICAgICAgICAgewogICJidWJibGluZ01vdXNlRXZlbnRzIjogdHJ1ZSwKICAiY29sb3IiOiAiI2ZmMDAwMCIsCiAgImRhc2hBcnJheSI6IG51bGwsCiAgImRhc2hPZmZzZXQiOiBudWxsLAogICJmaWxsIjogdHJ1ZSwKICAiZmlsbENvbG9yIjogIiNmZjAwMDAiLAogICJmaWxsT3BhY2l0eSI6IDAuNywKICAiZmlsbFJ1bGUiOiAiZXZlbm9kZCIsCiAgImxpbmVDYXAiOiAicm91bmQiLAogICJsaW5lSm9pbiI6ICJyb3VuZCIsCiAgIm9wYWNpdHkiOiAxLjAsCiAgInJhZGl1cyI6IDUsCiAgInN0cm9rZSI6IHRydWUsCiAgIndlaWdodCI6IDMKfQogICAgICAgICAgICAgICAgKS5hZGRUbyhtYXBfMTNiNzk1ZmI0ZTUxNGFlMmI1NDA2YTMzMjMxZjU5OWQpOwogICAgICAgICAgICAKICAgIAogICAgICAgICAgICB2YXIgcG9wdXBfOWNlMjE4ZjBmZWU0NDU4NzhlNzRjZTJmMzczNWMzMjEgPSBMLnBvcHVwKHttYXhXaWR0aDogJzMwMCd9KTsKCiAgICAgICAgICAgIAogICAgICAgICAgICAgICAgdmFyIGh0bWxfN2M0NmYyZDJlYzc5NGQzMmE3ZjkyMmRjYjgzMmEzMzcgPSAkKCc8ZGl2IGlkPSJodG1sXzdjNDZmMmQyZWM3OTRkMzJhN2Y5MjJkY2I4MzJhMzM3IiBzdHlsZT0id2lkdGg6IDEwMC4wJTsgaGVpZ2h0OiAxMDAuMCU7Ij5mYXIgQ2x1c3RlciAwPC9kaXY+JylbMF07CiAgICAgICAgICAgICAgICBwb3B1cF85Y2UyMThmMGZlZTQ0NTg3OGU3NGNlMmYzNzM1YzMyMS5zZXRDb250ZW50KGh0bWxfN2M0NmYyZDJlYzc5NGQzMmE3ZjkyMmRjYjgzMmEzMzcpOwogICAgICAgICAgICAKCiAgICAgICAgICAgIGNpcmNsZV9tYXJrZXJfMjJhYzEwZTIyZGNhNDM5Nzk1YjljNzAzOWY2YTI3YzcuYmluZFBvcHVwKHBvcHVwXzljZTIxOGYwZmVlNDQ1ODc4ZTc0Y2UyZjM3MzVjMzIxKTsKCiAgICAgICAgICAgIAogICAgICAgIAogICAgCiAgICAgICAgICAgIHZhciBjaXJjbGVfbWFya2VyXzFiYjNhMzNlZjVlNjQxNWNhZGFiZDNhOWE4MDYzODU1ID0gTC5jaXJjbGVNYXJrZXIoCiAgICAgICAgICAgICAgICBbMzcuMzM2ODksLTEyMS44OTA4OV0sCiAgICAgICAgICAgICAgICB7CiAgImJ1YmJsaW5nTW91c2VFdmVudHMiOiB0cnVlLAogICJjb2xvciI6ICIjZmYwMDAwIiwKICAiZGFzaEFycmF5IjogbnVsbCwKICAiZGFzaE9mZnNldCI6IG51bGwsCiAgImZpbGwiOiB0cnVlLAogICJmaWxsQ29sb3IiOiAiI2ZmMDAwMCIsCiAgImZpbGxPcGFjaXR5IjogMC43LAogICJmaWxsUnVsZSI6ICJldmVub2RkIiwKICAibGluZUNhcCI6ICJyb3VuZCIsCiAgImxpbmVKb2luIjogInJvdW5kIiwKICAib3BhY2l0eSI6IDEuMCwKICAicmFkaXVzIjogNSwKICAic3Ryb2tlIjogdHJ1ZSwKICAid2VpZ2h0IjogMwp9CiAgICAgICAgICAgICAgICApLmFkZFRvKG1hcF8xM2I3OTVmYjRlNTE0YWUyYjU0MDZhMzMyMzFmNTk5ZCk7CiAgICAgICAgICAgIAogICAgCiAgICAgICAgICAgIHZhciBwb3B1cF80ZWVhNDBhNjRmNzI0ZmU4YjdkZGI4YzQ5Zjc0MjczMiA9IEwucG9wdXAoe21heFdpZHRoOiAnMzAwJ30pOwoKICAgICAgICAgICAgCiAgICAgICAgICAgICAgICB2YXIgaHRtbF84ZjdkMzg2ZjlkMGQ0YTJkYTFlOTM4ODU3MzIwMzk5NCA9ICQoJzxkaXYgaWQ9Imh0bWxfOGY3ZDM4NmY5ZDBkNGEyZGExZTkzODg1NzMyMDM5OTQiIHN0eWxlPSJ3aWR0aDogMTAwLjAlOyBoZWlnaHQ6IDEwMC4wJTsiPmNsb3NlIENsdXN0ZXIgMDwvZGl2PicpWzBdOwogICAgICAgICAgICAgICAgcG9wdXBfNGVlYTQwYTY0ZjcyNGZlOGI3ZGRiOGM0OWY3NDI3MzIuc2V0Q29udGVudChodG1sXzhmN2QzODZmOWQwZDRhMmRhMWU5Mzg4NTczMjAzOTk0KTsKICAgICAgICAgICAgCgogICAgICAgICAgICBjaXJjbGVfbWFya2VyXzFiYjNhMzNlZjVlNjQxNWNhZGFiZDNhOWE4MDYzODU1LmJpbmRQb3B1cChwb3B1cF80ZWVhNDBhNjRmNzI0ZmU4YjdkZGI4YzQ5Zjc0MjczMik7CgogICAgICAgICAgICAKICAgICAgICAKPC9zY3JpcHQ+ onload=\"this.contentDocument.open();this.contentDocument.write(atob(this.getAttribute('data-html')));this.contentDocument.close();\" allowfullscreen webkitallowfullscreen mozallowfullscreen></iframe></div></div>"
      ],
      "text/plain": [
       "<folium.folium.Map at 0x7fb50ba16310>"
      ]
     },
     "execution_count": 334,
     "metadata": {},
     "output_type": "execute_result"
    }
   ],
   "source": [
    "map_clusters"
   ]
  }
 ],
 "metadata": {
  "kernelspec": {
   "display_name": "Python 3",
   "language": "python",
   "name": "python3"
  },
  "language_info": {
   "codemirror_mode": {
    "name": "ipython",
    "version": 3
   },
   "file_extension": ".py",
   "mimetype": "text/x-python",
   "name": "python",
   "nbconvert_exporter": "python",
   "pygments_lexer": "ipython3",
   "version": "3.8.3"
  }
 },
 "nbformat": 4,
 "nbformat_minor": 4
}
