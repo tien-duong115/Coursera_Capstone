{
 "cells": [
  {
   "cell_type": "markdown",
   "metadata": {},
   "source": [
    "# BOBA Drink exploration in Bay Area\n",
    "\n",
    "\n",
    "### Introduction: The problem\n",
    "    Bay Area in California knowing for attracting more talented individuals from all over the world. The tech-culture expanding which bring many different people and culture from all over the world into the Bay area. Boba is a new trending topic that is very popular in the Asian community. Boba is a type of gelly balls called pearl that served either hot or cold. Boba milk tea is basically as the name describing it. Mixing milk with tea, and add boba. However, there are already so many boba places in the Bay area, and it is difficult for us to know which one or where is the best location to get boba. So my project goal is to locate the boba shops within the bay area. Find out which city has the most shop. The consumer can navigate to those shops or boba entrepreneur avoid a location with too many boba shops.\n",
    "    \n",
    "### The Data\n",
    "The solution for our problem would require the data consisted of:\n",
    "     - Number of boba shop within the area\n",
    "     - Boba shop rating and their location positions\n"
   ]
  },
  {
   "cell_type": "code",
   "execution_count": 1,
   "metadata": {},
   "outputs": [],
   "source": [
    "import pandas as pd\n",
    "import io\n",
    "import requests\n",
    "import lxml\n",
    "import numpy as np\n",
    "import folium\n",
    "from sklearn.cluster import KMeans\n",
    "from pandas.io.json import json_normalize # tranform JSON file into a pandas dataframe\n",
    "from geopy.geocoders import Nominatim # convert an address into latitude and longitude values\n",
    "\n",
    "from IPython.display import Image \n",
    "from IPython.core.display import HTML \n",
    "\n",
    "import matplotlib.cm as cm\n",
    "import matplotlib.colors as colors"
   ]
  },
  {
   "cell_type": "code",
   "execution_count": 2,
   "metadata": {},
   "outputs": [
    {
     "name": "stdout",
     "output_type": "stream",
     "text": [
      "Your credentails:\n",
      "CLIENT_ID: NVHSI1USRDZDFZ2P2FJTTKTDG343TF2K5M4YI1CASRQ2VX2N\n",
      "CLIENT_SECRET:3RNICWVFXC35EOGADJTN3LQBHLU0LHAAL4JQM1OPAWWVREO2\n"
     ]
    }
   ],
   "source": [
    "# Hidden cell\n",
    "CLIENT_ID = 'NVHSI1USRDZDFZ2P2FJTTKTDG343TF2K5M4YI1CASRQ2VX2N' # your Foursquare ID\n",
    "CLIENT_SECRET = '3RNICWVFXC35EOGADJTN3LQBHLU0LHAAL4JQM1OPAWWVREO2' # your Foursquare Secret\n",
    "ACCESS_TOKEN = 'L024RG4LPXZA4GEHDJ324JPSHGZRFWVL32XL5S4L2S5HNKDF' # your FourSquare Access Token\n",
    "VERSION = '20180604'\n",
    "LIMIT = 30\n",
    "print('Your credentails:')\n",
    "print('CLIENT_ID: ' + CLIENT_ID)\n",
    "print('CLIENT_SECRET:' + CLIENT_SECRET)"
   ]
  },
  {
   "cell_type": "code",
   "execution_count": 3,
   "metadata": {},
   "outputs": [
    {
     "name": "stdout",
     "output_type": "stream",
     "text": [
      "The geograpical coordinate of Bay area, California 37.3688301, -122.0363496.\n"
     ]
    }
   ],
   "source": [
    "# Specify the location of our data point\n",
    "address = 'Sunnyvale, CA'\n",
    "\n",
    "geolocator = Nominatim(user_agent=\"foursquare_agent\")\n",
    "location = geolocator.geocode(address)\n",
    "latitude = location.latitude\n",
    "longitude = location.longitude\n",
    "print('The geograpical coordinate of Bay area, California {}, {}.'.format(latitude, longitude))"
   ]
  },
  {
   "cell_type": "code",
   "execution_count": 4,
   "metadata": {},
   "outputs": [
    {
     "name": "stderr",
     "output_type": "stream",
     "text": [
      "<ipython-input-4-9552f13398e9>:11: FutureWarning: pandas.io.json.json_normalize is deprecated, use pandas.json_normalize instead\n",
      "  dframe = json_normalize(v)  # normalize our result with json normalize function\n"
     ]
    }
   ],
   "source": [
    "# Generate a foursquare query for RESTAURANTS in the area\n",
    "search_query = 'boba'\n",
    "radius = 2000000\n",
    "# url = 'https://api.foursquare.com/v2/venues/search?client_id={}&client_secret={}&ll={},{}&oauth_token={}&v={}&radius={}&limit={}'.format(CLIENT_ID, CLIENT_SECRET, latitude, longitude,ACCESS_TOKEN, VERSION, radius, LIMIT)\n",
    "url = 'https://api.foursquare.com/v2/venues/search?client_id={}&client_secret={}&ll={},{}&oauth_token={}&v={}&query={}&radius={}&limit={}'.format(CLIENT_ID, CLIENT_SECRET, latitude, longitude,ACCESS_TOKEN, VERSION, search_query, radius, LIMIT)\n",
    "\n",
    "\n",
    "# Get our result return from the foursqaure dbase\n",
    "results = requests.get(url).json()\n",
    "v=results['response']['venues']   # extract the result from json file\n",
    "dframe = json_normalize(v)  # normalize our result with json normalize function"
   ]
  },
  {
   "cell_type": "code",
   "execution_count": 5,
   "metadata": {},
   "outputs": [],
   "source": [
    "# keep only columns that include venue name, and anything that is associated with location\n",
    "filtered_columns = ['name', 'categories'] + [col for col in dframe.columns if col.startswith('location.')] + ['id']\n",
    "dataframe_filtered = dframe.loc[:, filtered_columns]\n",
    "\n",
    "# function that extracts the category of the venue\n",
    "def get_category_type(row):\n",
    "    try:\n",
    "        categories_list = row['categories']\n",
    "    except:\n",
    "        categories_list = row['venue.categories']\n",
    "        \n",
    "    if len(categories_list) == 0:\n",
    "        return None\n",
    "    else:\n",
    "        return categories_list[0]['name']\n",
    "\n",
    "# filter the category for each row\n",
    "dataframe_filtered['categories'] = dataframe_filtered.apply(get_category_type, axis=1)\n",
    "\n",
    "# clean column names by keeping only last term\n",
    "dataframe_filtered.columns = [column.split('.')[-1] for column in dataframe_filtered.columns]\n",
    "\n",
    "# dataframe_filtered"
   ]
  },
  {
   "cell_type": "code",
   "execution_count": 6,
   "metadata": {},
   "outputs": [],
   "source": [
    "df = dataframe_filtered[['name', 'categories','address','lat','lng', 'postalCode','formattedAddress', 'id','distance','city']]"
   ]
  },
  {
   "cell_type": "code",
   "execution_count": 7,
   "metadata": {},
   "outputs": [
    {
     "data": {
      "text/html": [
       "<div>\n",
       "<style scoped>\n",
       "    .dataframe tbody tr th:only-of-type {\n",
       "        vertical-align: middle;\n",
       "    }\n",
       "\n",
       "    .dataframe tbody tr th {\n",
       "        vertical-align: top;\n",
       "    }\n",
       "\n",
       "    .dataframe thead th {\n",
       "        text-align: right;\n",
       "    }\n",
       "</style>\n",
       "<table border=\"1\" class=\"dataframe\">\n",
       "  <thead>\n",
       "    <tr style=\"text-align: right;\">\n",
       "      <th></th>\n",
       "      <th>name</th>\n",
       "      <th>categories</th>\n",
       "      <th>address</th>\n",
       "      <th>lat</th>\n",
       "      <th>lng</th>\n",
       "      <th>postalCode</th>\n",
       "      <th>formattedAddress</th>\n",
       "      <th>id</th>\n",
       "      <th>distance</th>\n",
       "      <th>city</th>\n",
       "    </tr>\n",
       "  </thead>\n",
       "  <tbody>\n",
       "    <tr>\n",
       "      <th>0</th>\n",
       "      <td>Boba Bar Teahouse &amp; Eatery</td>\n",
       "      <td>Bubble Tea Shop</td>\n",
       "      <td>310 S 3rd St</td>\n",
       "      <td>37.332368</td>\n",
       "      <td>-121.884731</td>\n",
       "      <td>95112</td>\n",
       "      <td>[310 S 3rd St (at E San Carlos St), San Jose, ...</td>\n",
       "      <td>53cf2ef3498e1e5b6248251d</td>\n",
       "      <td>14017</td>\n",
       "      <td>San Jose</td>\n",
       "    </tr>\n",
       "    <tr>\n",
       "      <th>1</th>\n",
       "      <td>Boba Guys</td>\n",
       "      <td>Bubble Tea Shop</td>\n",
       "      <td>855 El Camino Real #120</td>\n",
       "      <td>37.438476</td>\n",
       "      <td>-122.159122</td>\n",
       "      <td>94301</td>\n",
       "      <td>[855 El Camino Real #120, Palo Alto, CA 94301]</td>\n",
       "      <td>5c3518fd2b274a002c12c626</td>\n",
       "      <td>13340</td>\n",
       "      <td>Palo Alto</td>\n",
       "    </tr>\n",
       "    <tr>\n",
       "      <th>2</th>\n",
       "      <td>Boba Drive</td>\n",
       "      <td>Bubble Tea Shop</td>\n",
       "      <td>NaN</td>\n",
       "      <td>37.403202</td>\n",
       "      <td>-122.008931</td>\n",
       "      <td>94089</td>\n",
       "      <td>[Sunnyvale, CA 94089]</td>\n",
       "      <td>5c561c556adbf5002c7597d2</td>\n",
       "      <td>4530</td>\n",
       "      <td>Sunnyvale</td>\n",
       "    </tr>\n",
       "    <tr>\n",
       "      <th>3</th>\n",
       "      <td>Boba Guys</td>\n",
       "      <td>Bubble Tea Shop</td>\n",
       "      <td>1002 16th St</td>\n",
       "      <td>37.766448</td>\n",
       "      <td>-122.397042</td>\n",
       "      <td>94107</td>\n",
       "      <td>[1002 16th St (at Missouri St), San Francisco,...</td>\n",
       "      <td>58d451f495383907dba37158</td>\n",
       "      <td>54516</td>\n",
       "      <td>San Francisco</td>\n",
       "    </tr>\n",
       "    <tr>\n",
       "      <th>4</th>\n",
       "      <td>Boba</td>\n",
       "      <td>Coffee Shop</td>\n",
       "      <td>1710 N Milpitas Blvd</td>\n",
       "      <td>37.455524</td>\n",
       "      <td>-121.910233</td>\n",
       "      <td>95035</td>\n",
       "      <td>[1710 N Milpitas Blvd, Milpitas, CA 95035]</td>\n",
       "      <td>4f32367a19836c91c7c14327</td>\n",
       "      <td>14747</td>\n",
       "      <td>Milpitas</td>\n",
       "    </tr>\n",
       "  </tbody>\n",
       "</table>\n",
       "</div>"
      ],
      "text/plain": [
       "                         name       categories                  address  \\\n",
       "0  Boba Bar Teahouse & Eatery  Bubble Tea Shop             310 S 3rd St   \n",
       "1                   Boba Guys  Bubble Tea Shop  855 El Camino Real #120   \n",
       "2                  Boba Drive  Bubble Tea Shop                      NaN   \n",
       "3                   Boba Guys  Bubble Tea Shop             1002 16th St   \n",
       "4                        Boba      Coffee Shop     1710 N Milpitas Blvd   \n",
       "\n",
       "         lat         lng postalCode  \\\n",
       "0  37.332368 -121.884731      95112   \n",
       "1  37.438476 -122.159122      94301   \n",
       "2  37.403202 -122.008931      94089   \n",
       "3  37.766448 -122.397042      94107   \n",
       "4  37.455524 -121.910233      95035   \n",
       "\n",
       "                                    formattedAddress  \\\n",
       "0  [310 S 3rd St (at E San Carlos St), San Jose, ...   \n",
       "1     [855 El Camino Real #120, Palo Alto, CA 94301]   \n",
       "2                              [Sunnyvale, CA 94089]   \n",
       "3  [1002 16th St (at Missouri St), San Francisco,...   \n",
       "4         [1710 N Milpitas Blvd, Milpitas, CA 95035]   \n",
       "\n",
       "                         id  distance           city  \n",
       "0  53cf2ef3498e1e5b6248251d     14017       San Jose  \n",
       "1  5c3518fd2b274a002c12c626     13340      Palo Alto  \n",
       "2  5c561c556adbf5002c7597d2      4530      Sunnyvale  \n",
       "3  58d451f495383907dba37158     54516  San Francisco  \n",
       "4  4f32367a19836c91c7c14327     14747       Milpitas  "
      ]
     },
     "execution_count": 7,
     "metadata": {},
     "output_type": "execute_result"
    }
   ],
   "source": [
    "df.head()"
   ]
  },
  {
   "cell_type": "markdown",
   "metadata": {},
   "source": [
    "### Method of analysis\n",
    "    - Use of folium map to locate all of the boba shop within the bay area\n",
    "    - Use of clustering analysis to seperate those the boba shop locations of clustering"
   ]
  },
  {
   "cell_type": "code",
   "execution_count": 138,
   "metadata": {},
   "outputs": [
    {
     "data": {
      "text/html": [
       "<div style=\"width:100%;\"><div style=\"position:relative;width:100%;height:0;padding-bottom:60%;\"><span style=\"color:#565656\">Make this Notebook Trusted to load map: File -> Trust Notebook</span><iframe src=\"about:blank\" style=\"position:absolute;width:100%;height:100%;left:0;top:0;border:none !important;\" data-html=PCFET0NUWVBFIGh0bWw+CjxoZWFkPiAgICAKICAgIDxtZXRhIGh0dHAtZXF1aXY9ImNvbnRlbnQtdHlwZSIgY29udGVudD0idGV4dC9odG1sOyBjaGFyc2V0PVVURi04IiAvPgogICAgPHNjcmlwdD5MX1BSRUZFUl9DQU5WQVMgPSBmYWxzZTsgTF9OT19UT1VDSCA9IGZhbHNlOyBMX0RJU0FCTEVfM0QgPSBmYWxzZTs8L3NjcmlwdD4KICAgIDxzY3JpcHQgc3JjPSJodHRwczovL2Nkbi5qc2RlbGl2ci5uZXQvbnBtL2xlYWZsZXRAMS4yLjAvZGlzdC9sZWFmbGV0LmpzIj48L3NjcmlwdD4KICAgIDxzY3JpcHQgc3JjPSJodHRwczovL2FqYXguZ29vZ2xlYXBpcy5jb20vYWpheC9saWJzL2pxdWVyeS8xLjExLjEvanF1ZXJ5Lm1pbi5qcyI+PC9zY3JpcHQ+CiAgICA8c2NyaXB0IHNyYz0iaHR0cHM6Ly9tYXhjZG4uYm9vdHN0cmFwY2RuLmNvbS9ib290c3RyYXAvMy4yLjAvanMvYm9vdHN0cmFwLm1pbi5qcyI+PC9zY3JpcHQ+CiAgICA8c2NyaXB0IHNyYz0iaHR0cHM6Ly9jZG5qcy5jbG91ZGZsYXJlLmNvbS9hamF4L2xpYnMvTGVhZmxldC5hd2Vzb21lLW1hcmtlcnMvMi4wLjIvbGVhZmxldC5hd2Vzb21lLW1hcmtlcnMuanMiPjwvc2NyaXB0PgogICAgPGxpbmsgcmVsPSJzdHlsZXNoZWV0IiBocmVmPSJodHRwczovL2Nkbi5qc2RlbGl2ci5uZXQvbnBtL2xlYWZsZXRAMS4yLjAvZGlzdC9sZWFmbGV0LmNzcyIvPgogICAgPGxpbmsgcmVsPSJzdHlsZXNoZWV0IiBocmVmPSJodHRwczovL21heGNkbi5ib290c3RyYXBjZG4uY29tL2Jvb3RzdHJhcC8zLjIuMC9jc3MvYm9vdHN0cmFwLm1pbi5jc3MiLz4KICAgIDxsaW5rIHJlbD0ic3R5bGVzaGVldCIgaHJlZj0iaHR0cHM6Ly9tYXhjZG4uYm9vdHN0cmFwY2RuLmNvbS9ib290c3RyYXAvMy4yLjAvY3NzL2Jvb3RzdHJhcC10aGVtZS5taW4uY3NzIi8+CiAgICA8bGluayByZWw9InN0eWxlc2hlZXQiIGhyZWY9Imh0dHBzOi8vbWF4Y2RuLmJvb3RzdHJhcGNkbi5jb20vZm9udC1hd2Vzb21lLzQuNi4zL2Nzcy9mb250LWF3ZXNvbWUubWluLmNzcyIvPgogICAgPGxpbmsgcmVsPSJzdHlsZXNoZWV0IiBocmVmPSJodHRwczovL2NkbmpzLmNsb3VkZmxhcmUuY29tL2FqYXgvbGlicy9MZWFmbGV0LmF3ZXNvbWUtbWFya2Vycy8yLjAuMi9sZWFmbGV0LmF3ZXNvbWUtbWFya2Vycy5jc3MiLz4KICAgIDxsaW5rIHJlbD0ic3R5bGVzaGVldCIgaHJlZj0iaHR0cHM6Ly9yYXdnaXQuY29tL3B5dGhvbi12aXN1YWxpemF0aW9uL2ZvbGl1bS9tYXN0ZXIvZm9saXVtL3RlbXBsYXRlcy9sZWFmbGV0LmF3ZXNvbWUucm90YXRlLmNzcyIvPgogICAgPHN0eWxlPmh0bWwsIGJvZHkge3dpZHRoOiAxMDAlO2hlaWdodDogMTAwJTttYXJnaW46IDA7cGFkZGluZzogMDt9PC9zdHlsZT4KICAgIDxzdHlsZT4jbWFwIHtwb3NpdGlvbjphYnNvbHV0ZTt0b3A6MDtib3R0b206MDtyaWdodDowO2xlZnQ6MDt9PC9zdHlsZT4KICAgIAogICAgICAgICAgICA8c3R5bGU+ICNtYXBfMGQxYTYzMjNhNDAwNDBmMjg4MmYyZWNjMGU0N2Q0ZGUgewogICAgICAgICAgICAgICAgcG9zaXRpb24gOiByZWxhdGl2ZTsKICAgICAgICAgICAgICAgIHdpZHRoIDogMTAwLjAlOwogICAgICAgICAgICAgICAgaGVpZ2h0OiAxMDAuMCU7CiAgICAgICAgICAgICAgICBsZWZ0OiAwLjAlOwogICAgICAgICAgICAgICAgdG9wOiAwLjAlOwogICAgICAgICAgICAgICAgfQogICAgICAgICAgICA8L3N0eWxlPgogICAgICAgIAo8L2hlYWQ+Cjxib2R5PiAgICAKICAgIAogICAgICAgICAgICA8ZGl2IGNsYXNzPSJmb2xpdW0tbWFwIiBpZD0ibWFwXzBkMWE2MzIzYTQwMDQwZjI4ODJmMmVjYzBlNDdkNGRlIiA+PC9kaXY+CiAgICAgICAgCjwvYm9keT4KPHNjcmlwdD4gICAgCiAgICAKCiAgICAgICAgICAgIAogICAgICAgICAgICAgICAgdmFyIGJvdW5kcyA9IG51bGw7CiAgICAgICAgICAgIAoKICAgICAgICAgICAgdmFyIG1hcF8wZDFhNjMyM2E0MDA0MGYyODgyZjJlY2MwZTQ3ZDRkZSA9IEwubWFwKAogICAgICAgICAgICAgICAgICAgICAgICAgICAgICAgICAgJ21hcF8wZDFhNjMyM2E0MDA0MGYyODgyZjJlY2MwZTQ3ZDRkZScsCiAgICAgICAgICAgICAgICAgICAgICAgICAgICAgICAgICB7Y2VudGVyOiBbMzcuMzY4ODMwMSwtMTIyLjAzNjM0OTZdLAogICAgICAgICAgICAgICAgICAgICAgICAgICAgICAgICAgem9vbTogMTIsCiAgICAgICAgICAgICAgICAgICAgICAgICAgICAgICAgICBtYXhCb3VuZHM6IGJvdW5kcywKICAgICAgICAgICAgICAgICAgICAgICAgICAgICAgICAgIGxheWVyczogW10sCiAgICAgICAgICAgICAgICAgICAgICAgICAgICAgICAgICB3b3JsZENvcHlKdW1wOiBmYWxzZSwKICAgICAgICAgICAgICAgICAgICAgICAgICAgICAgICAgIGNyczogTC5DUlMuRVBTRzM4NTcKICAgICAgICAgICAgICAgICAgICAgICAgICAgICAgICAgfSk7CiAgICAgICAgICAgIAogICAgICAgIAogICAgCiAgICAgICAgICAgIHZhciB0aWxlX2xheWVyXzMwNTVmNTQ2OTRlNjRiMTdhY2IxNjUxY2ZhNzhjNGVhID0gTC50aWxlTGF5ZXIoCiAgICAgICAgICAgICAgICAnaHR0cHM6Ly97c30udGlsZS5vcGVuc3RyZWV0bWFwLm9yZy97en0ve3h9L3t5fS5wbmcnLAogICAgICAgICAgICAgICAgewogICJhdHRyaWJ1dGlvbiI6IG51bGwsCiAgImRldGVjdFJldGluYSI6IGZhbHNlLAogICJtYXhab29tIjogMTgsCiAgIm1pblpvb20iOiAxLAogICJub1dyYXAiOiBmYWxzZSwKICAic3ViZG9tYWlucyI6ICJhYmMiCn0KICAgICAgICAgICAgICAgICkuYWRkVG8obWFwXzBkMWE2MzIzYTQwMDQwZjI4ODJmMmVjYzBlNDdkNGRlKTsKICAgICAgICAKICAgIAoKICAgICAgICAgICAgdmFyIG1hcmtlcl81NTBkZWYzNzU3NTQ0MDllYjcxNWVhNWZiYzNhOWQyMiA9IEwubWFya2VyKAogICAgICAgICAgICAgICAgWzM3LjMzMjM2ODE3NTUzOTEsLTEyMS44ODQ3MzA5MjAyMTk3XSwKICAgICAgICAgICAgICAgIHsKICAgICAgICAgICAgICAgICAgICBpY29uOiBuZXcgTC5JY29uLkRlZmF1bHQoKQogICAgICAgICAgICAgICAgICAgIH0KICAgICAgICAgICAgICAgICkKICAgICAgICAgICAgICAgIC5hZGRUbyhtYXBfMGQxYTYzMjNhNDAwNDBmMjg4MmYyZWNjMGU0N2Q0ZGUpOwogICAgICAgICAgICAKICAgIAogICAgICAgICAgICB2YXIgcG9wdXBfNDFhNTVkZTg4YTQ1NDg1NTg3MWM4ZTI1OTUzNDU2ZWUgPSBMLnBvcHVwKHttYXhXaWR0aDogJzMwMCd9KTsKCiAgICAgICAgICAgIAogICAgICAgICAgICAgICAgdmFyIGh0bWxfY2ZlMjI4YWZlMjNhNDM2MDhhYjEyMDg4ZjliODkwYjMgPSAkKCc8ZGl2IGlkPSJodG1sX2NmZTIyOGFmZTIzYTQzNjA4YWIxMjA4OGY5Yjg5MGIzIiBzdHlsZT0id2lkdGg6IDEwMC4wJTsgaGVpZ2h0OiAxMDAuMCU7Ij5CdWJibGUgVGVhIFNob3A8L2Rpdj4nKVswXTsKICAgICAgICAgICAgICAgIHBvcHVwXzQxYTU1ZGU4OGE0NTQ4NTU4NzFjOGUyNTk1MzQ1NmVlLnNldENvbnRlbnQoaHRtbF9jZmUyMjhhZmUyM2E0MzYwOGFiMTIwODhmOWI4OTBiMyk7CiAgICAgICAgICAgIAoKICAgICAgICAgICAgbWFya2VyXzU1MGRlZjM3NTc1NDQwOWViNzE1ZWE1ZmJjM2E5ZDIyLmJpbmRQb3B1cChwb3B1cF80MWE1NWRlODhhNDU0ODU1ODcxYzhlMjU5NTM0NTZlZSk7CgogICAgICAgICAgICAKICAgICAgICAKICAgIAoKICAgICAgICAgICAgdmFyIG1hcmtlcl8wY2NjNWMyMzg5NWE0YjlmOGQxNDMyZGY1NjFhNGVhZCA9IEwubWFya2VyKAogICAgICAgICAgICAgICAgWzM3LjQzODQ3NTUzMjAxNTYzLC0xMjIuMTU5MTIyMjg4Nzc5NV0sCiAgICAgICAgICAgICAgICB7CiAgICAgICAgICAgICAgICAgICAgaWNvbjogbmV3IEwuSWNvbi5EZWZhdWx0KCkKICAgICAgICAgICAgICAgICAgICB9CiAgICAgICAgICAgICAgICApCiAgICAgICAgICAgICAgICAuYWRkVG8obWFwXzBkMWE2MzIzYTQwMDQwZjI4ODJmMmVjYzBlNDdkNGRlKTsKICAgICAgICAgICAgCiAgICAKICAgICAgICAgICAgdmFyIHBvcHVwX2Q4ZGMxOWVlMTBkNzQ2ZThiOTcxMWIwYzU0OWMyZTJhID0gTC5wb3B1cCh7bWF4V2lkdGg6ICczMDAnfSk7CgogICAgICAgICAgICAKICAgICAgICAgICAgICAgIHZhciBodG1sXzM5MzUyOGE0ZTQ5YjQzNDdiYzUzNWI2YTM4NjIwNTk5ID0gJCgnPGRpdiBpZD0iaHRtbF8zOTM1MjhhNGU0OWI0MzQ3YmM1MzViNmEzODYyMDU5OSIgc3R5bGU9IndpZHRoOiAxMDAuMCU7IGhlaWdodDogMTAwLjAlOyI+QnViYmxlIFRlYSBTaG9wPC9kaXY+JylbMF07CiAgICAgICAgICAgICAgICBwb3B1cF9kOGRjMTllZTEwZDc0NmU4Yjk3MTFiMGM1NDljMmUyYS5zZXRDb250ZW50KGh0bWxfMzkzNTI4YTRlNDliNDM0N2JjNTM1YjZhMzg2MjA1OTkpOwogICAgICAgICAgICAKCiAgICAgICAgICAgIG1hcmtlcl8wY2NjNWMyMzg5NWE0YjlmOGQxNDMyZGY1NjFhNGVhZC5iaW5kUG9wdXAocG9wdXBfZDhkYzE5ZWUxMGQ3NDZlOGI5NzExYjBjNTQ5YzJlMmEpOwoKICAgICAgICAgICAgCiAgICAgICAgCiAgICAKCiAgICAgICAgICAgIHZhciBtYXJrZXJfMGIxMDUzMTgwMWZlNGFmNWJmYWNmYWZhZjk4OGJlMGUgPSBMLm1hcmtlcigKICAgICAgICAgICAgICAgIFszNy40MDMyMDE2ODM5NDExNSwtMTIyLjAwODkzMTQ1NDg3MDNdLAogICAgICAgICAgICAgICAgewogICAgICAgICAgICAgICAgICAgIGljb246IG5ldyBMLkljb24uRGVmYXVsdCgpCiAgICAgICAgICAgICAgICAgICAgfQogICAgICAgICAgICAgICAgKQogICAgICAgICAgICAgICAgLmFkZFRvKG1hcF8wZDFhNjMyM2E0MDA0MGYyODgyZjJlY2MwZTQ3ZDRkZSk7CiAgICAgICAgICAgIAogICAgCiAgICAgICAgICAgIHZhciBwb3B1cF9hN2MxZmQ4MDQ0MzU0ZGUyODQ2ZjRiYTU2ZDkyZDEzZSA9IEwucG9wdXAoe21heFdpZHRoOiAnMzAwJ30pOwoKICAgICAgICAgICAgCiAgICAgICAgICAgICAgICB2YXIgaHRtbF9hYjIwYjU3MDVlZjA0YjM1YmQzMjM4MWNjYmQ2ZjU4NSA9ICQoJzxkaXYgaWQ9Imh0bWxfYWIyMGI1NzA1ZWYwNGIzNWJkMzIzODFjY2JkNmY1ODUiIHN0eWxlPSJ3aWR0aDogMTAwLjAlOyBoZWlnaHQ6IDEwMC4wJTsiPkJ1YmJsZSBUZWEgU2hvcDwvZGl2PicpWzBdOwogICAgICAgICAgICAgICAgcG9wdXBfYTdjMWZkODA0NDM1NGRlMjg0NmY0YmE1NmQ5MmQxM2Uuc2V0Q29udGVudChodG1sX2FiMjBiNTcwNWVmMDRiMzViZDMyMzgxY2NiZDZmNTg1KTsKICAgICAgICAgICAgCgogICAgICAgICAgICBtYXJrZXJfMGIxMDUzMTgwMWZlNGFmNWJmYWNmYWZhZjk4OGJlMGUuYmluZFBvcHVwKHBvcHVwX2E3YzFmZDgwNDQzNTRkZTI4NDZmNGJhNTZkOTJkMTNlKTsKCiAgICAgICAgICAgIAogICAgICAgIAogICAgCgogICAgICAgICAgICB2YXIgbWFya2VyX2U5ZWVjZWZiYjViODRjM2NiNjFhNTQ4NTg4MTFjZWM3ID0gTC5tYXJrZXIoCiAgICAgICAgICAgICAgICBbMzcuNzY2NDQ3NzE1Njk5NzUsLTEyMi4zOTcwNDIzNjA2NzMwOF0sCiAgICAgICAgICAgICAgICB7CiAgICAgICAgICAgICAgICAgICAgaWNvbjogbmV3IEwuSWNvbi5EZWZhdWx0KCkKICAgICAgICAgICAgICAgICAgICB9CiAgICAgICAgICAgICAgICApCiAgICAgICAgICAgICAgICAuYWRkVG8obWFwXzBkMWE2MzIzYTQwMDQwZjI4ODJmMmVjYzBlNDdkNGRlKTsKICAgICAgICAgICAgCiAgICAKICAgICAgICAgICAgdmFyIHBvcHVwX2NjMGI3NjJjNzkzZjRiMDI5OWM4ODkyNTkxYjMwMzg4ID0gTC5wb3B1cCh7bWF4V2lkdGg6ICczMDAnfSk7CgogICAgICAgICAgICAKICAgICAgICAgICAgICAgIHZhciBodG1sX2NhZTljNDM2YmQ4NTQyYWU4ODBhYmUxYTM2ZDAyMTY0ID0gJCgnPGRpdiBpZD0iaHRtbF9jYWU5YzQzNmJkODU0MmFlODgwYWJlMWEzNmQwMjE2NCIgc3R5bGU9IndpZHRoOiAxMDAuMCU7IGhlaWdodDogMTAwLjAlOyI+QnViYmxlIFRlYSBTaG9wPC9kaXY+JylbMF07CiAgICAgICAgICAgICAgICBwb3B1cF9jYzBiNzYyYzc5M2Y0YjAyOTljODg5MjU5MWIzMDM4OC5zZXRDb250ZW50KGh0bWxfY2FlOWM0MzZiZDg1NDJhZTg4MGFiZTFhMzZkMDIxNjQpOwogICAgICAgICAgICAKCiAgICAgICAgICAgIG1hcmtlcl9lOWVlY2VmYmI1Yjg0YzNjYjYxYTU0ODU4ODExY2VjNy5iaW5kUG9wdXAocG9wdXBfY2MwYjc2MmM3OTNmNGIwMjk5Yzg4OTI1OTFiMzAzODgpOwoKICAgICAgICAgICAgCiAgICAgICAgCiAgICAKCiAgICAgICAgICAgIHZhciBtYXJrZXJfZTdjMTJlYWFlOGE3NDc3OGE3MmQ4MWFhMDFkNmNjMTggPSBMLm1hcmtlcigKICAgICAgICAgICAgICAgIFszNy40NTU1MjQ0NDQ1ODAwOCwtMTIxLjkxMDIzMjU0Mzk0NTMxXSwKICAgICAgICAgICAgICAgIHsKICAgICAgICAgICAgICAgICAgICBpY29uOiBuZXcgTC5JY29uLkRlZmF1bHQoKQogICAgICAgICAgICAgICAgICAgIH0KICAgICAgICAgICAgICAgICkKICAgICAgICAgICAgICAgIC5hZGRUbyhtYXBfMGQxYTYzMjNhNDAwNDBmMjg4MmYyZWNjMGU0N2Q0ZGUpOwogICAgICAgICAgICAKICAgIAogICAgICAgICAgICB2YXIgcG9wdXBfZDdiYWIyMjM1MmMxNGI1OTkyYzA2MzNmODc5YzBmY2YgPSBMLnBvcHVwKHttYXhXaWR0aDogJzMwMCd9KTsKCiAgICAgICAgICAgIAogICAgICAgICAgICAgICAgdmFyIGh0bWxfN2UzMTk5OWJlYmZmNDdiMjkxN2I4YjA1Y2ZkYWJiZjYgPSAkKCc8ZGl2IGlkPSJodG1sXzdlMzE5OTliZWJmZjQ3YjI5MTdiOGIwNWNmZGFiYmY2IiBzdHlsZT0id2lkdGg6IDEwMC4wJTsgaGVpZ2h0OiAxMDAuMCU7Ij5Db2ZmZWUgU2hvcDwvZGl2PicpWzBdOwogICAgICAgICAgICAgICAgcG9wdXBfZDdiYWIyMjM1MmMxNGI1OTkyYzA2MzNmODc5YzBmY2Yuc2V0Q29udGVudChodG1sXzdlMzE5OTliZWJmZjQ3YjI5MTdiOGIwNWNmZGFiYmY2KTsKICAgICAgICAgICAgCgogICAgICAgICAgICBtYXJrZXJfZTdjMTJlYWFlOGE3NDc3OGE3MmQ4MWFhMDFkNmNjMTguYmluZFBvcHVwKHBvcHVwX2Q3YmFiMjIzNTJjMTRiNTk5MmMwNjMzZjg3OWMwZmNmKTsKCiAgICAgICAgICAgIAogICAgICAgIAogICAgCgogICAgICAgICAgICB2YXIgbWFya2VyX2U0NDdkMzc4NmY1NDRlMGE5MTdlNTRhY2NiMjlkMTYwID0gTC5tYXJrZXIoCiAgICAgICAgICAgICAgICBbMzcuNTAyODA5ODU5MTUxMDE0LC0xMjIuMjU2OTM4NjgxODU0MDVdLAogICAgICAgICAgICAgICAgewogICAgICAgICAgICAgICAgICAgIGljb246IG5ldyBMLkljb24uRGVmYXVsdCgpCiAgICAgICAgICAgICAgICAgICAgfQogICAgICAgICAgICAgICAgKQogICAgICAgICAgICAgICAgLmFkZFRvKG1hcF8wZDFhNjMyM2E0MDA0MGYyODgyZjJlY2MwZTQ3ZDRkZSk7CiAgICAgICAgICAgIAogICAgCiAgICAgICAgICAgIHZhciBwb3B1cF8yNDUzYjI4YWZhZmY0MDk0OTIxZjMyZTkyMzgwN2I0YSA9IEwucG9wdXAoe21heFdpZHRoOiAnMzAwJ30pOwoKICAgICAgICAgICAgCiAgICAgICAgICAgICAgICB2YXIgaHRtbF8wYTUzODc1M2E1NWE0ZjVjOTliNDRjZTc3YjkzZThmNiA9ICQoJzxkaXYgaWQ9Imh0bWxfMGE1Mzg3NTNhNTVhNGY1Yzk5YjQ0Y2U3N2I5M2U4ZjYiIHN0eWxlPSJ3aWR0aDogMTAwLjAlOyBoZWlnaHQ6IDEwMC4wJTsiPkJ1YmJsZSBUZWEgU2hvcDwvZGl2PicpWzBdOwogICAgICAgICAgICAgICAgcG9wdXBfMjQ1M2IyOGFmYWZmNDA5NDkyMWYzMmU5MjM4MDdiNGEuc2V0Q29udGVudChodG1sXzBhNTM4NzUzYTU1YTRmNWM5OWI0NGNlNzdiOTNlOGY2KTsKICAgICAgICAgICAgCgogICAgICAgICAgICBtYXJrZXJfZTQ0N2QzNzg2ZjU0NGUwYTkxN2U1NGFjY2IyOWQxNjAuYmluZFBvcHVwKHBvcHVwXzI0NTNiMjhhZmFmZjQwOTQ5MjFmMzJlOTIzODA3YjRhKTsKCiAgICAgICAgICAgIAogICAgICAgIAogICAgCgogICAgICAgICAgICB2YXIgbWFya2VyXzU4NWJhYjI1MWY3NTQxZWNiYTcyMzdhYjlmY2ZjMjY3ID0gTC5tYXJrZXIoCiAgICAgICAgICAgICAgICBbMzcuMzUwNTU1MDM2MDM4NzksLTEyMS45NDQwMDk3ODQ2MDkzOF0sCiAgICAgICAgICAgICAgICB7CiAgICAgICAgICAgICAgICAgICAgaWNvbjogbmV3IEwuSWNvbi5EZWZhdWx0KCkKICAgICAgICAgICAgICAgICAgICB9CiAgICAgICAgICAgICAgICApCiAgICAgICAgICAgICAgICAuYWRkVG8obWFwXzBkMWE2MzIzYTQwMDQwZjI4ODJmMmVjYzBlNDdkNGRlKTsKICAgICAgICAgICAgCiAgICAKICAgICAgICAgICAgdmFyIHBvcHVwX2M0ZmMxMzEzZTNmYjQ1OTc5ZDdjNDBmYmM4NmVmM2IwID0gTC5wb3B1cCh7bWF4V2lkdGg6ICczMDAnfSk7CgogICAgICAgICAgICAKICAgICAgICAgICAgICAgIHZhciBodG1sX2MyMGQwODllMGQ1MDQ4ZWNiMzg1M2ZmODkyODhhNDU4ID0gJCgnPGRpdiBpZD0iaHRtbF9jMjBkMDg5ZTBkNTA0OGVjYjM4NTNmZjg5Mjg4YTQ1OCIgc3R5bGU9IndpZHRoOiAxMDAuMCU7IGhlaWdodDogMTAwLjAlOyI+QnViYmxlIFRlYSBTaG9wPC9kaXY+JylbMF07CiAgICAgICAgICAgICAgICBwb3B1cF9jNGZjMTMxM2UzZmI0NTk3OWQ3YzQwZmJjODZlZjNiMC5zZXRDb250ZW50KGh0bWxfYzIwZDA4OWUwZDUwNDhlY2IzODUzZmY4OTI4OGE0NTgpOwogICAgICAgICAgICAKCiAgICAgICAgICAgIG1hcmtlcl81ODViYWIyNTFmNzU0MWVjYmE3MjM3YWI5ZmNmYzI2Ny5iaW5kUG9wdXAocG9wdXBfYzRmYzEzMTNlM2ZiNDU5NzlkN2M0MGZiYzg2ZWYzYjApOwoKICAgICAgICAgICAgCiAgICAgICAgCiAgICAKCiAgICAgICAgICAgIHZhciBtYXJrZXJfYTVlN2M0MzBmYWQ1NDFjZTk0NTA2YjY3NTMyMTk3YWQgPSBMLm1hcmtlcigKICAgICAgICAgICAgICAgIFszNy4yNTM0Nzk1MzQ1MzIzNywtMTIxLjkwMTU2NjI1ODc3NjQxXSwKICAgICAgICAgICAgICAgIHsKICAgICAgICAgICAgICAgICAgICBpY29uOiBuZXcgTC5JY29uLkRlZmF1bHQoKQogICAgICAgICAgICAgICAgICAgIH0KICAgICAgICAgICAgICAgICkKICAgICAgICAgICAgICAgIC5hZGRUbyhtYXBfMGQxYTYzMjNhNDAwNDBmMjg4MmYyZWNjMGU0N2Q0ZGUpOwogICAgICAgICAgICAKICAgIAogICAgICAgICAgICB2YXIgcG9wdXBfOWZkNDgzMjg0ZGI5NGU1ZmFjYzY3ZDkwZTZmNGNmYTkgPSBMLnBvcHVwKHttYXhXaWR0aDogJzMwMCd9KTsKCiAgICAgICAgICAgIAogICAgICAgICAgICAgICAgdmFyIGh0bWxfMDg2Y2ZmYmJhYzgxNGQ1NDgxMGYyYmQ2YjQ2YzMzMTEgPSAkKCc8ZGl2IGlkPSJodG1sXzA4NmNmZmJiYWM4MTRkNTQ4MTBmMmJkNmI0NmMzMzExIiBzdHlsZT0id2lkdGg6IDEwMC4wJTsgaGVpZ2h0OiAxMDAuMCU7Ij5Db2ZmZWUgU2hvcDwvZGl2PicpWzBdOwogICAgICAgICAgICAgICAgcG9wdXBfOWZkNDgzMjg0ZGI5NGU1ZmFjYzY3ZDkwZTZmNGNmYTkuc2V0Q29udGVudChodG1sXzA4NmNmZmJiYWM4MTRkNTQ4MTBmMmJkNmI0NmMzMzExKTsKICAgICAgICAgICAgCgogICAgICAgICAgICBtYXJrZXJfYTVlN2M0MzBmYWQ1NDFjZTk0NTA2YjY3NTMyMTk3YWQuYmluZFBvcHVwKHBvcHVwXzlmZDQ4MzI4NGRiOTRlNWZhY2M2N2Q5MGU2ZjRjZmE5KTsKCiAgICAgICAgICAgIAogICAgICAgIAogICAgCgogICAgICAgICAgICB2YXIgbWFya2VyX2FmOWQ5MTZiNzE5ZDRiMmU5NzFkMTQxNTEyMjU4ZDkwID0gTC5tYXJrZXIoCiAgICAgICAgICAgICAgICBbMzcuNzYwMDQ0LC0xMjIuNDIxMTAzXSwKICAgICAgICAgICAgICAgIHsKICAgICAgICAgICAgICAgICAgICBpY29uOiBuZXcgTC5JY29uLkRlZmF1bHQoKQogICAgICAgICAgICAgICAgICAgIH0KICAgICAgICAgICAgICAgICkKICAgICAgICAgICAgICAgIC5hZGRUbyhtYXBfMGQxYTYzMjNhNDAwNDBmMjg4MmYyZWNjMGU0N2Q0ZGUpOwogICAgICAgICAgICAKICAgIAogICAgICAgICAgICB2YXIgcG9wdXBfNTU1MTU1ZTgyZTkzNDczN2FiMmViNWQ4MDZjZjgwMTEgPSBMLnBvcHVwKHttYXhXaWR0aDogJzMwMCd9KTsKCiAgICAgICAgICAgIAogICAgICAgICAgICAgICAgdmFyIGh0bWxfNjgyZWM5ZDIwNDQzNDM5NThhNzU4MmJmN2MyYmJhY2MgPSAkKCc8ZGl2IGlkPSJodG1sXzY4MmVjOWQyMDQ0MzQzOTU4YTc1ODJiZjdjMmJiYWNjIiBzdHlsZT0id2lkdGg6IDEwMC4wJTsgaGVpZ2h0OiAxMDAuMCU7Ij5CdWJibGUgVGVhIFNob3A8L2Rpdj4nKVswXTsKICAgICAgICAgICAgICAgIHBvcHVwXzU1NTE1NWU4MmU5MzQ3MzdhYjJlYjVkODA2Y2Y4MDExLnNldENvbnRlbnQoaHRtbF82ODJlYzlkMjA0NDM0Mzk1OGE3NTgyYmY3YzJiYmFjYyk7CiAgICAgICAgICAgIAoKICAgICAgICAgICAgbWFya2VyX2FmOWQ5MTZiNzE5ZDRiMmU5NzFkMTQxNTEyMjU4ZDkwLmJpbmRQb3B1cChwb3B1cF81NTUxNTVlODJlOTM0NzM3YWIyZWI1ZDgwNmNmODAxMSk7CgogICAgICAgICAgICAKICAgICAgICAKICAgIAoKICAgICAgICAgICAgdmFyIG1hcmtlcl81NGEyZjM2OGMyMWI0OWFhYTZhZTI2NWU3YjU3YjhjZSA9IEwubWFya2VyKAogICAgICAgICAgICAgICAgWzM3LjM4NDI5NTUxNjE3OTksLTEyMS44OTc0OTU3MTE4NTczXSwKICAgICAgICAgICAgICAgIHsKICAgICAgICAgICAgICAgICAgICBpY29uOiBuZXcgTC5JY29uLkRlZmF1bHQoKQogICAgICAgICAgICAgICAgICAgIH0KICAgICAgICAgICAgICAgICkKICAgICAgICAgICAgICAgIC5hZGRUbyhtYXBfMGQxYTYzMjNhNDAwNDBmMjg4MmYyZWNjMGU0N2Q0ZGUpOwogICAgICAgICAgICAKICAgIAogICAgICAgICAgICB2YXIgcG9wdXBfODlhNmRjNTk1ZDU5NDhiYzhiYjhmN2Y4YTUwMzY0ZGIgPSBMLnBvcHVwKHttYXhXaWR0aDogJzMwMCd9KTsKCiAgICAgICAgICAgIAogICAgICAgICAgICAgICAgdmFyIGh0bWxfZDRlNTU1M2EwNzZjNGU5MGIwMTEyNWVjNDM3NjAwMjQgPSAkKCc8ZGl2IGlkPSJodG1sX2Q0ZTU1NTNhMDc2YzRlOTBiMDExMjVlYzQzNzYwMDI0IiBzdHlsZT0id2lkdGg6IDEwMC4wJTsgaGVpZ2h0OiAxMDAuMCU7Ij5CdWJibGUgVGVhIFNob3A8L2Rpdj4nKVswXTsKICAgICAgICAgICAgICAgIHBvcHVwXzg5YTZkYzU5NWQ1OTQ4YmM4YmI4ZjdmOGE1MDM2NGRiLnNldENvbnRlbnQoaHRtbF9kNGU1NTUzYTA3NmM0ZTkwYjAxMTI1ZWM0Mzc2MDAyNCk7CiAgICAgICAgICAgIAoKICAgICAgICAgICAgbWFya2VyXzU0YTJmMzY4YzIxYjQ5YWFhNmFlMjY1ZTdiNTdiOGNlLmJpbmRQb3B1cChwb3B1cF84OWE2ZGM1OTVkNTk0OGJjOGJiOGY3ZjhhNTAzNjRkYik7CgogICAgICAgICAgICAKICAgICAgICAKICAgIAoKICAgICAgICAgICAgdmFyIG1hcmtlcl82NzdmOTgyY2MxODE0NDNjYTU0OWEwNzVlNmZhYzhiYSA9IEwubWFya2VyKAogICAgICAgICAgICAgICAgWzM3LjMzNjA1NSwtMTIxLjg5NDM5OV0sCiAgICAgICAgICAgICAgICB7CiAgICAgICAgICAgICAgICAgICAgaWNvbjogbmV3IEwuSWNvbi5EZWZhdWx0KCkKICAgICAgICAgICAgICAgICAgICB9CiAgICAgICAgICAgICAgICApCiAgICAgICAgICAgICAgICAuYWRkVG8obWFwXzBkMWE2MzIzYTQwMDQwZjI4ODJmMmVjYzBlNDdkNGRlKTsKICAgICAgICAgICAgCiAgICAKICAgICAgICAgICAgdmFyIHBvcHVwX2ZkMzI3ZmVhZmE0OTRkZDU4OTczZDJiZmJhZTBjMmU2ID0gTC5wb3B1cCh7bWF4V2lkdGg6ICczMDAnfSk7CgogICAgICAgICAgICAKICAgICAgICAgICAgICAgIHZhciBodG1sXzhkZGY4ODUxZWQ1ZjQxZDA5NTlkOWYzZTEyNzEzZTZiID0gJCgnPGRpdiBpZD0iaHRtbF84ZGRmODg1MWVkNWY0MWQwOTU5ZDlmM2UxMjcxM2U2YiIgc3R5bGU9IndpZHRoOiAxMDAuMCU7IGhlaWdodDogMTAwLjAlOyI+QnViYmxlIFRlYSBTaG9wPC9kaXY+JylbMF07CiAgICAgICAgICAgICAgICBwb3B1cF9mZDMyN2ZlYWZhNDk0ZGQ1ODk3M2QyYmZiYWUwYzJlNi5zZXRDb250ZW50KGh0bWxfOGRkZjg4NTFlZDVmNDFkMDk1OWQ5ZjNlMTI3MTNlNmIpOwogICAgICAgICAgICAKCiAgICAgICAgICAgIG1hcmtlcl82NzdmOTgyY2MxODE0NDNjYTU0OWEwNzVlNmZhYzhiYS5iaW5kUG9wdXAocG9wdXBfZmQzMjdmZWFmYTQ5NGRkNTg5NzNkMmJmYmFlMGMyZTYpOwoKICAgICAgICAgICAgCiAgICAgICAgCiAgICAKCiAgICAgICAgICAgIHZhciBtYXJrZXJfYTQ1YzUxZmY0MTRlNDU1Njg4ZTA2NDAxYWQ2ZTVjN2EgPSBMLm1hcmtlcigKICAgICAgICAgICAgICAgIFszNy4zMTA2MzIsLTEyMS45ODgzNzRdLAogICAgICAgICAgICAgICAgewogICAgICAgICAgICAgICAgICAgIGljb246IG5ldyBMLkljb24uRGVmYXVsdCgpCiAgICAgICAgICAgICAgICAgICAgfQogICAgICAgICAgICAgICAgKQogICAgICAgICAgICAgICAgLmFkZFRvKG1hcF8wZDFhNjMyM2E0MDA0MGYyODgyZjJlY2MwZTQ3ZDRkZSk7CiAgICAgICAgICAgIAogICAgCgogICAgICAgICAgICB2YXIgbWFya2VyX2JiMTc1Y2YxZGU5MDQzNGRiMWU1MjU2OTQ3YjhlYjYxID0gTC5tYXJrZXIoCiAgICAgICAgICAgICAgICBbMzcuMzUxNzIxLC0xMjEuOTgxNDcyXSwKICAgICAgICAgICAgICAgIHsKICAgICAgICAgICAgICAgICAgICBpY29uOiBuZXcgTC5JY29uLkRlZmF1bHQoKQogICAgICAgICAgICAgICAgICAgIH0KICAgICAgICAgICAgICAgICkKICAgICAgICAgICAgICAgIC5hZGRUbyhtYXBfMGQxYTYzMjNhNDAwNDBmMjg4MmYyZWNjMGU0N2Q0ZGUpOwogICAgICAgICAgICAKICAgIAogICAgICAgICAgICB2YXIgcG9wdXBfN2IyMzlkODNjMWQyNGZhNWJiMDY0ZjYxZGJhNTZhMjAgPSBMLnBvcHVwKHttYXhXaWR0aDogJzMwMCd9KTsKCiAgICAgICAgICAgIAogICAgICAgICAgICAgICAgdmFyIGh0bWxfZjgzZWQzMWFmMjUxNDc0ZWFkNGJkMzU1OTJhM2Y1YmMgPSAkKCc8ZGl2IGlkPSJodG1sX2Y4M2VkMzFhZjI1MTQ3NGVhZDRiZDM1NTkyYTNmNWJjIiBzdHlsZT0id2lkdGg6IDEwMC4wJTsgaGVpZ2h0OiAxMDAuMCU7Ij5CdWJibGUgVGVhIFNob3A8L2Rpdj4nKVswXTsKICAgICAgICAgICAgICAgIHBvcHVwXzdiMjM5ZDgzYzFkMjRmYTViYjA2NGY2MWRiYTU2YTIwLnNldENvbnRlbnQoaHRtbF9mODNlZDMxYWYyNTE0NzRlYWQ0YmQzNTU5MmEzZjViYyk7CiAgICAgICAgICAgIAoKICAgICAgICAgICAgbWFya2VyX2JiMTc1Y2YxZGU5MDQzNGRiMWU1MjU2OTQ3YjhlYjYxLmJpbmRQb3B1cChwb3B1cF83YjIzOWQ4M2MxZDI0ZmE1YmIwNjRmNjFkYmE1NmEyMCk7CgogICAgICAgICAgICAKICAgICAgICAKICAgIAoKICAgICAgICAgICAgdmFyIG1hcmtlcl82OTI3MzNlMTBlNGI0MWFkYWMyN2VlNjBiZjcwMTQxNCA9IEwubWFya2VyKAogICAgICAgICAgICAgICAgWzM3LjMzNTM0NjIyMTkyMzgzLC0xMjEuODg2NTUwOTAzMzIwMzFdLAogICAgICAgICAgICAgICAgewogICAgICAgICAgICAgICAgICAgIGljb246IG5ldyBMLkljb24uRGVmYXVsdCgpCiAgICAgICAgICAgICAgICAgICAgfQogICAgICAgICAgICAgICAgKQogICAgICAgICAgICAgICAgLmFkZFRvKG1hcF8wZDFhNjMyM2E0MDA0MGYyODgyZjJlY2MwZTQ3ZDRkZSk7CiAgICAgICAgICAgIAogICAgCiAgICAgICAgICAgIHZhciBwb3B1cF85ZDZmMDZkNGUwOGI0Y2E0ODQwMTdkNTc0NGI4ZjQ1MyA9IEwucG9wdXAoe21heFdpZHRoOiAnMzAwJ30pOwoKICAgICAgICAgICAgCiAgICAgICAgICAgICAgICB2YXIgaHRtbF8xNzgyNjE4NDMzYWQ0ZmQ4OTlmOWUzZjg2NTUwZGYzNSA9ICQoJzxkaXYgaWQ9Imh0bWxfMTc4MjYxODQzM2FkNGZkODk5ZjllM2Y4NjU1MGRmMzUiIHN0eWxlPSJ3aWR0aDogMTAwLjAlOyBoZWlnaHQ6IDEwMC4wJTsiPkNvZmZlZSBTaG9wPC9kaXY+JylbMF07CiAgICAgICAgICAgICAgICBwb3B1cF85ZDZmMDZkNGUwOGI0Y2E0ODQwMTdkNTc0NGI4ZjQ1My5zZXRDb250ZW50KGh0bWxfMTc4MjYxODQzM2FkNGZkODk5ZjllM2Y4NjU1MGRmMzUpOwogICAgICAgICAgICAKCiAgICAgICAgICAgIG1hcmtlcl82OTI3MzNlMTBlNGI0MWFkYWMyN2VlNjBiZjcwMTQxNC5iaW5kUG9wdXAocG9wdXBfOWQ2ZjA2ZDRlMDhiNGNhNDg0MDE3ZDU3NDRiOGY0NTMpOwoKICAgICAgICAgICAgCiAgICAgICAgCiAgICAKCiAgICAgICAgICAgIHZhciBtYXJrZXJfYjAwZjNjOGFkZjM4NGZkMjg3MzU0MGFlMDU0MmExMzIgPSBMLm1hcmtlcigKICAgICAgICAgICAgICAgIFszNy4zMDEzMSwtMTIxLjgyMjgyXSwKICAgICAgICAgICAgICAgIHsKICAgICAgICAgICAgICAgICAgICBpY29uOiBuZXcgTC5JY29uLkRlZmF1bHQoKQogICAgICAgICAgICAgICAgICAgIH0KICAgICAgICAgICAgICAgICkKICAgICAgICAgICAgICAgIC5hZGRUbyhtYXBfMGQxYTYzMjNhNDAwNDBmMjg4MmYyZWNjMGU0N2Q0ZGUpOwogICAgICAgICAgICAKICAgIAogICAgICAgICAgICB2YXIgcG9wdXBfYmIwYzc4NmUzMTJiNDQ1Yzg4Zjk1NDBjODc0ZDdjNGYgPSBMLnBvcHVwKHttYXhXaWR0aDogJzMwMCd9KTsKCiAgICAgICAgICAgIAogICAgICAgICAgICAgICAgdmFyIGh0bWxfOTlkMWQ4MTZlM2Q4NDE3OGJkOGRlYmRlMGZjOTE2NmUgPSAkKCc8ZGl2IGlkPSJodG1sXzk5ZDFkODE2ZTNkODQxNzhiZDhkZWJkZTBmYzkxNjZlIiBzdHlsZT0id2lkdGg6IDEwMC4wJTsgaGVpZ2h0OiAxMDAuMCU7Ij5CdWJibGUgVGVhIFNob3A8L2Rpdj4nKVswXTsKICAgICAgICAgICAgICAgIHBvcHVwX2JiMGM3ODZlMzEyYjQ0NWM4OGY5NTQwYzg3NGQ3YzRmLnNldENvbnRlbnQoaHRtbF85OWQxZDgxNmUzZDg0MTc4YmQ4ZGViZGUwZmM5MTY2ZSk7CiAgICAgICAgICAgIAoKICAgICAgICAgICAgbWFya2VyX2IwMGYzYzhhZGYzODRmZDI4NzM1NDBhZTA1NDJhMTMyLmJpbmRQb3B1cChwb3B1cF9iYjBjNzg2ZTMxMmI0NDVjODhmOTU0MGM4NzRkN2M0Zik7CgogICAgICAgICAgICAKICAgICAgICAKICAgIAoKICAgICAgICAgICAgdmFyIG1hcmtlcl9mYmEwZjkyNjMzNzg0NWVjYTljZjgwMzMxZmJhMzJiZiA9IEwubWFya2VyKAogICAgICAgICAgICAgICAgWzM3LjU3NTc1Mjc3ODU1MjY0LC0xMjIuMDM5ODM3NTA3OTUwNjVdLAogICAgICAgICAgICAgICAgewogICAgICAgICAgICAgICAgICAgIGljb246IG5ldyBMLkljb24uRGVmYXVsdCgpCiAgICAgICAgICAgICAgICAgICAgfQogICAgICAgICAgICAgICAgKQogICAgICAgICAgICAgICAgLmFkZFRvKG1hcF8wZDFhNjMyM2E0MDA0MGYyODgyZjJlY2MwZTQ3ZDRkZSk7CiAgICAgICAgICAgIAogICAgCiAgICAgICAgICAgIHZhciBwb3B1cF83NzAyZmNmZWI4NDA0NDdjODgwYmUyNzlmODliNDk4MCA9IEwucG9wdXAoe21heFdpZHRoOiAnMzAwJ30pOwoKICAgICAgICAgICAgCiAgICAgICAgICAgICAgICB2YXIgaHRtbF8yYTQ0ZGE4MDA5NTI0ZWYyODJmNTFjODFkYzNmMTBhMCA9ICQoJzxkaXYgaWQ9Imh0bWxfMmE0NGRhODAwOTUyNGVmMjgyZjUxYzgxZGMzZjEwYTAiIHN0eWxlPSJ3aWR0aDogMTAwLjAlOyBoZWlnaHQ6IDEwMC4wJTsiPkJ1YmJsZSBUZWEgU2hvcDwvZGl2PicpWzBdOwogICAgICAgICAgICAgICAgcG9wdXBfNzcwMmZjZmViODQwNDQ3Yzg4MGJlMjc5Zjg5YjQ5ODAuc2V0Q29udGVudChodG1sXzJhNDRkYTgwMDk1MjRlZjI4MmY1MWM4MWRjM2YxMGEwKTsKICAgICAgICAgICAgCgogICAgICAgICAgICBtYXJrZXJfZmJhMGY5MjYzMzc4NDVlY2E5Y2Y4MDMzMWZiYTMyYmYuYmluZFBvcHVwKHBvcHVwXzc3MDJmY2ZlYjg0MDQ0N2M4ODBiZTI3OWY4OWI0OTgwKTsKCiAgICAgICAgICAgIAogICAgICAgIAogICAgCgogICAgICAgICAgICB2YXIgbWFya2VyX2M4MTBhMzQyYTU5NzRiZmZhMzE2MjBlZWM5MmNkNTIxID0gTC5tYXJrZXIoCiAgICAgICAgICAgICAgICBbMzcuMjc5NDY4LC0xMjEuODM0MDk3XSwKICAgICAgICAgICAgICAgIHsKICAgICAgICAgICAgICAgICAgICBpY29uOiBuZXcgTC5JY29uLkRlZmF1bHQoKQogICAgICAgICAgICAgICAgICAgIH0KICAgICAgICAgICAgICAgICkKICAgICAgICAgICAgICAgIC5hZGRUbyhtYXBfMGQxYTYzMjNhNDAwNDBmMjg4MmYyZWNjMGU0N2Q0ZGUpOwogICAgICAgICAgICAKICAgIAogICAgICAgICAgICB2YXIgcG9wdXBfMDhjZWZlNDYyMTRiNGY1ZWJkMGNmNjk3ZDc4OTY3M2EgPSBMLnBvcHVwKHttYXhXaWR0aDogJzMwMCd9KTsKCiAgICAgICAgICAgIAogICAgICAgICAgICAgICAgdmFyIGh0bWxfNWViNGNjMzcyY2UwNDAxNTk5MzA0YjFiYTMxMGIzZWQgPSAkKCc8ZGl2IGlkPSJodG1sXzVlYjRjYzM3MmNlMDQwMTU5OTMwNGIxYmEzMTBiM2VkIiBzdHlsZT0id2lkdGg6IDEwMC4wJTsgaGVpZ2h0OiAxMDAuMCU7Ij5DYWbDqTwvZGl2PicpWzBdOwogICAgICAgICAgICAgICAgcG9wdXBfMDhjZWZlNDYyMTRiNGY1ZWJkMGNmNjk3ZDc4OTY3M2Euc2V0Q29udGVudChodG1sXzVlYjRjYzM3MmNlMDQwMTU5OTMwNGIxYmEzMTBiM2VkKTsKICAgICAgICAgICAgCgogICAgICAgICAgICBtYXJrZXJfYzgxMGEzNDJhNTk3NGJmZmEzMTYyMGVlYzkyY2Q1MjEuYmluZFBvcHVwKHBvcHVwXzA4Y2VmZTQ2MjE0YjRmNWViZDBjZjY5N2Q3ODk2NzNhKTsKCiAgICAgICAgICAgIAogICAgICAgIAogICAgCgogICAgICAgICAgICB2YXIgbWFya2VyXzdiYzgxODAwMzEyYjQwZjFhYjg1ZDEyYTNmYzA0NjJmID0gTC5tYXJrZXIoCiAgICAgICAgICAgICAgICBbMzcuNTI2NDQ5LC0xMjIuMDAxNzMxXSwKICAgICAgICAgICAgICAgIHsKICAgICAgICAgICAgICAgICAgICBpY29uOiBuZXcgTC5JY29uLkRlZmF1bHQoKQogICAgICAgICAgICAgICAgICAgIH0KICAgICAgICAgICAgICAgICkKICAgICAgICAgICAgICAgIC5hZGRUbyhtYXBfMGQxYTYzMjNhNDAwNDBmMjg4MmYyZWNjMGU0N2Q0ZGUpOwogICAgICAgICAgICAKICAgIAogICAgICAgICAgICB2YXIgcG9wdXBfNmViMjRkZmE5OTEyNDMzM2E0NmI1OTNkNThmNTViZWYgPSBMLnBvcHVwKHttYXhXaWR0aDogJzMwMCd9KTsKCiAgICAgICAgICAgIAogICAgICAgICAgICAgICAgdmFyIGh0bWxfNThjZWFjM2I3ZTUwNGE5YzkyOTU2MDViODJiNGMzZTYgPSAkKCc8ZGl2IGlkPSJodG1sXzU4Y2VhYzNiN2U1MDRhOWM5Mjk1NjA1YjgyYjRjM2U2IiBzdHlsZT0id2lkdGg6IDEwMC4wJTsgaGVpZ2h0OiAxMDAuMCU7Ij5Gb29kICYgRHJpbmsgU2hvcDwvZGl2PicpWzBdOwogICAgICAgICAgICAgICAgcG9wdXBfNmViMjRkZmE5OTEyNDMzM2E0NmI1OTNkNThmNTViZWYuc2V0Q29udGVudChodG1sXzU4Y2VhYzNiN2U1MDRhOWM5Mjk1NjA1YjgyYjRjM2U2KTsKICAgICAgICAgICAgCgogICAgICAgICAgICBtYXJrZXJfN2JjODE4MDAzMTJiNDBmMWFiODVkMTJhM2ZjMDQ2MmYuYmluZFBvcHVwKHBvcHVwXzZlYjI0ZGZhOTkxMjQzMzNhNDZiNTkzZDU4ZjU1YmVmKTsKCiAgICAgICAgICAgIAogICAgICAgIAogICAgCgogICAgICAgICAgICB2YXIgbWFya2VyXzA0ODY2YzAyYmI1NjRiM2VhMTI2NWVmNjQxMzU2ZmNiID0gTC5tYXJrZXIoCiAgICAgICAgICAgICAgICBbMzcuMzcyMTM0LC0xMjEuOTA4MDMzXSwKICAgICAgICAgICAgICAgIHsKICAgICAgICAgICAgICAgICAgICBpY29uOiBuZXcgTC5JY29uLkRlZmF1bHQoKQogICAgICAgICAgICAgICAgICAgIH0KICAgICAgICAgICAgICAgICkKICAgICAgICAgICAgICAgIC5hZGRUbyhtYXBfMGQxYTYzMjNhNDAwNDBmMjg4MmYyZWNjMGU0N2Q0ZGUpOwogICAgICAgICAgICAKICAgIAogICAgICAgICAgICB2YXIgcG9wdXBfOTZiOWM4ZTM1MDE5NDNmMWI1ZmEwYTc0ZmRkNGJiZDYgPSBMLnBvcHVwKHttYXhXaWR0aDogJzMwMCd9KTsKCiAgICAgICAgICAgIAogICAgICAgICAgICAgICAgdmFyIGh0bWxfZDBkZTMxNmRkZjllNGMzOTk1MjYzY2Q5ZDUwYjk0YzYgPSAkKCc8ZGl2IGlkPSJodG1sX2QwZGUzMTZkZGY5ZTRjMzk5NTI2M2NkOWQ1MGI5NGM2IiBzdHlsZT0id2lkdGg6IDEwMC4wJTsgaGVpZ2h0OiAxMDAuMCU7Ij5BdXRvbW90aXZlIFNob3A8L2Rpdj4nKVswXTsKICAgICAgICAgICAgICAgIHBvcHVwXzk2YjljOGUzNTAxOTQzZjFiNWZhMGE3NGZkZDRiYmQ2LnNldENvbnRlbnQoaHRtbF9kMGRlMzE2ZGRmOWU0YzM5OTUyNjNjZDlkNTBiOTRjNik7CiAgICAgICAgICAgIAoKICAgICAgICAgICAgbWFya2VyXzA0ODY2YzAyYmI1NjRiM2VhMTI2NWVmNjQxMzU2ZmNiLmJpbmRQb3B1cChwb3B1cF85NmI5YzhlMzUwMTk0M2YxYjVmYTBhNzRmZGQ0YmJkNik7CgogICAgICAgICAgICAKICAgICAgICAKICAgIAoKICAgICAgICAgICAgdmFyIG1hcmtlcl9kMDRjODcxYTQ4N2E0NTg0OWNiNzc4YzU5Yzg1MTZhNSA9IEwubWFya2VyKAogICAgICAgICAgICAgICAgWzM3LjM5MjAxNCwtMTIxLjg0MjMxXSwKICAgICAgICAgICAgICAgIHsKICAgICAgICAgICAgICAgICAgICBpY29uOiBuZXcgTC5JY29uLkRlZmF1bHQoKQogICAgICAgICAgICAgICAgICAgIH0KICAgICAgICAgICAgICAgICkKICAgICAgICAgICAgICAgIC5hZGRUbyhtYXBfMGQxYTYzMjNhNDAwNDBmMjg4MmYyZWNjMGU0N2Q0ZGUpOwogICAgICAgICAgICAKICAgIAogICAgICAgICAgICB2YXIgcG9wdXBfZWYwYjMxMjRlN2IwNGNlOThjNzFmNWFhYzg2MjNmYTQgPSBMLnBvcHVwKHttYXhXaWR0aDogJzMwMCd9KTsKCiAgICAgICAgICAgIAogICAgICAgICAgICAgICAgdmFyIGh0bWxfYjc2OGM1NjljNmJjNDMzYzg3NGY2OTg3MTBlZDgxM2UgPSAkKCc8ZGl2IGlkPSJodG1sX2I3NjhjNTY5YzZiYzQzM2M4NzRmNjk4NzEwZWQ4MTNlIiBzdHlsZT0id2lkdGg6IDEwMC4wJTsgaGVpZ2h0OiAxMDAuMCU7Ij5CdWJibGUgVGVhIFNob3A8L2Rpdj4nKVswXTsKICAgICAgICAgICAgICAgIHBvcHVwX2VmMGIzMTI0ZTdiMDRjZTk4YzcxZjVhYWM4NjIzZmE0LnNldENvbnRlbnQoaHRtbF9iNzY4YzU2OWM2YmM0MzNjODc0ZjY5ODcxMGVkODEzZSk7CiAgICAgICAgICAgIAoKICAgICAgICAgICAgbWFya2VyX2QwNGM4NzFhNDg3YTQ1ODQ5Y2I3NzhjNTljODUxNmE1LmJpbmRQb3B1cChwb3B1cF9lZjBiMzEyNGU3YjA0Y2U5OGM3MWY1YWFjODYyM2ZhNCk7CgogICAgICAgICAgICAKICAgICAgICAKICAgIAoKICAgICAgICAgICAgdmFyIG1hcmtlcl85OWY5MjkyNDFmN2Y0NzczYWY1YTQ0N2FlMmFiMzlhZCA9IEwubWFya2VyKAogICAgICAgICAgICAgICAgWzM3LjQ5MzQxODk4Mjg4NTc5LC0xMjEuOTMwODg2ODYzMTQ4NDldLAogICAgICAgICAgICAgICAgewogICAgICAgICAgICAgICAgICAgIGljb246IG5ldyBMLkljb24uRGVmYXVsdCgpCiAgICAgICAgICAgICAgICAgICAgfQogICAgICAgICAgICAgICAgKQogICAgICAgICAgICAgICAgLmFkZFRvKG1hcF8wZDFhNjMyM2E0MDA0MGYyODgyZjJlY2MwZTQ3ZDRkZSk7CiAgICAgICAgICAgIAogICAgCiAgICAgICAgICAgIHZhciBwb3B1cF85ZTI5YjRhYjgyYzE0ZDIxOTkyNjg2OGY5OTliY2NjNyA9IEwucG9wdXAoe21heFdpZHRoOiAnMzAwJ30pOwoKICAgICAgICAgICAgCiAgICAgICAgICAgICAgICB2YXIgaHRtbF81OTYzYmJhYzg2NTg0ZjhjYjg0NzRiZDM3Yjg3OTI4OCA9ICQoJzxkaXYgaWQ9Imh0bWxfNTk2M2JiYWM4NjU4NGY4Y2I4NDc0YmQzN2I4NzkyODgiIHN0eWxlPSJ3aWR0aDogMTAwLjAlOyBoZWlnaHQ6IDEwMC4wJTsiPlRlYSBSb29tPC9kaXY+JylbMF07CiAgICAgICAgICAgICAgICBwb3B1cF85ZTI5YjRhYjgyYzE0ZDIxOTkyNjg2OGY5OTliY2NjNy5zZXRDb250ZW50KGh0bWxfNTk2M2JiYWM4NjU4NGY4Y2I4NDc0YmQzN2I4NzkyODgpOwogICAgICAgICAgICAKCiAgICAgICAgICAgIG1hcmtlcl85OWY5MjkyNDFmN2Y0NzczYWY1YTQ0N2FlMmFiMzlhZC5iaW5kUG9wdXAocG9wdXBfOWUyOWI0YWI4MmMxNGQyMTk5MjY4NjhmOTk5YmNjYzcpOwoKICAgICAgICAgICAgCiAgICAgICAgCiAgICAKCiAgICAgICAgICAgIHZhciBtYXJrZXJfMTcwZWVjYjVkMWY0NDVkNThlNTcxMDBiZTdmMmY1NzEgPSBMLm1hcmtlcigKICAgICAgICAgICAgICAgIFszNy4zMzcyMTE2MDg4ODY3MiwtMTIxLjg4OTI3NDU5NzE2Nzk3XSwKICAgICAgICAgICAgICAgIHsKICAgICAgICAgICAgICAgICAgICBpY29uOiBuZXcgTC5JY29uLkRlZmF1bHQoKQogICAgICAgICAgICAgICAgICAgIH0KICAgICAgICAgICAgICAgICkKICAgICAgICAgICAgICAgIC5hZGRUbyhtYXBfMGQxYTYzMjNhNDAwNDBmMjg4MmYyZWNjMGU0N2Q0ZGUpOwogICAgICAgICAgICAKICAgIAogICAgICAgICAgICB2YXIgcG9wdXBfNjdjYzI5ZWUyYjBlNGRmNzlmMWRlMjFhNDc0ZjY0NmUgPSBMLnBvcHVwKHttYXhXaWR0aDogJzMwMCd9KTsKCiAgICAgICAgICAgIAogICAgICAgICAgICAgICAgdmFyIGh0bWxfOWQ3NDhiNWM1Mjk0NGI0MTgyNDRiNjM4NDM1NDdiZjIgPSAkKCc8ZGl2IGlkPSJodG1sXzlkNzQ4YjVjNTI5NDRiNDE4MjQ0YjYzODQzNTQ3YmYyIiBzdHlsZT0id2lkdGg6IDEwMC4wJTsgaGVpZ2h0OiAxMDAuMCU7Ij5CdWJibGUgVGVhIFNob3A8L2Rpdj4nKVswXTsKICAgICAgICAgICAgICAgIHBvcHVwXzY3Y2MyOWVlMmIwZTRkZjc5ZjFkZTIxYTQ3NGY2NDZlLnNldENvbnRlbnQoaHRtbF85ZDc0OGI1YzUyOTQ0YjQxODI0NGI2Mzg0MzU0N2JmMik7CiAgICAgICAgICAgIAoKICAgICAgICAgICAgbWFya2VyXzE3MGVlY2I1ZDFmNDQ1ZDU4ZTU3MTAwYmU3ZjJmNTcxLmJpbmRQb3B1cChwb3B1cF82N2NjMjllZTJiMGU0ZGY3OWYxZGUyMWE0NzRmNjQ2ZSk7CgogICAgICAgICAgICAKICAgICAgICAKICAgIAoKICAgICAgICAgICAgdmFyIG1hcmtlcl9jZWI3YWYyYjg2NmM0ODhiOGZiZTcyZjE0ZjEwNjk2YSA9IEwubWFya2VyKAogICAgICAgICAgICAgICAgWzM3LjQ0NzMyNywtMTIyLjE1ODVdLAogICAgICAgICAgICAgICAgewogICAgICAgICAgICAgICAgICAgIGljb246IG5ldyBMLkljb24uRGVmYXVsdCgpCiAgICAgICAgICAgICAgICAgICAgfQogICAgICAgICAgICAgICAgKQogICAgICAgICAgICAgICAgLmFkZFRvKG1hcF8wZDFhNjMyM2E0MDA0MGYyODgyZjJlY2MwZTQ3ZDRkZSk7CiAgICAgICAgICAgIAogICAgCiAgICAgICAgICAgIHZhciBwb3B1cF82NDQ4MmRhNDViMzc0Y2E1OTkyZGI5ZGFhMTc2ODk1NyA9IEwucG9wdXAoe21heFdpZHRoOiAnMzAwJ30pOwoKICAgICAgICAgICAgCiAgICAgICAgICAgICAgICB2YXIgaHRtbF9iMzk3YTIxMjY0MGE0N2UzYjVkMmYwNzZkODhhNGE2MCA9ICQoJzxkaXYgaWQ9Imh0bWxfYjM5N2EyMTI2NDBhNDdlM2I1ZDJmMDc2ZDg4YTRhNjAiIHN0eWxlPSJ3aWR0aDogMTAwLjAlOyBoZWlnaHQ6IDEwMC4wJTsiPkluc3VyYW5jZSBPZmZpY2U8L2Rpdj4nKVswXTsKICAgICAgICAgICAgICAgIHBvcHVwXzY0NDgyZGE0NWIzNzRjYTU5OTJkYjlkYWExNzY4OTU3LnNldENvbnRlbnQoaHRtbF9iMzk3YTIxMjY0MGE0N2UzYjVkMmYwNzZkODhhNGE2MCk7CiAgICAgICAgICAgIAoKICAgICAgICAgICAgbWFya2VyX2NlYjdhZjJiODY2YzQ4OGI4ZmJlNzJmMTRmMTA2OTZhLmJpbmRQb3B1cChwb3B1cF82NDQ4MmRhNDViMzc0Y2E1OTkyZGI5ZGFhMTc2ODk1Nyk7CgogICAgICAgICAgICAKICAgICAgICAKICAgIAoKICAgICAgICAgICAgdmFyIG1hcmtlcl8yNTczYzc4Yjk4ZTg0N2E4YTM1ZTQ0YTBiZTc0ZWYwZCA9IEwubWFya2VyKAogICAgICAgICAgICAgICAgWzM3Ljc4MzY1Njk4MzAxMTk1LC0xMjIuNDMyNjYyMTQ5NDYyODFdLAogICAgICAgICAgICAgICAgewogICAgICAgICAgICAgICAgICAgIGljb246IG5ldyBMLkljb24uRGVmYXVsdCgpCiAgICAgICAgICAgICAgICAgICAgfQogICAgICAgICAgICAgICAgKQogICAgICAgICAgICAgICAgLmFkZFRvKG1hcF8wZDFhNjMyM2E0MDA0MGYyODgyZjJlY2MwZTQ3ZDRkZSk7CiAgICAgICAgICAgIAogICAgCiAgICAgICAgICAgIHZhciBwb3B1cF9iYzQ5MGVkNDdiZjA0NTI1ODRmY2E5ODE5MzExY2ExOCA9IEwucG9wdXAoe21heFdpZHRoOiAnMzAwJ30pOwoKICAgICAgICAgICAgCiAgICAgICAgICAgICAgICB2YXIgaHRtbF80MDQ2ODkyZjQzYWU0NTRiYTY5YjZhNDI3YjNkODNmOSA9ICQoJzxkaXYgaWQ9Imh0bWxfNDA0Njg5MmY0M2FlNDU0YmE2OWI2YTQyN2IzZDgzZjkiIHN0eWxlPSJ3aWR0aDogMTAwLjAlOyBoZWlnaHQ6IDEwMC4wJTsiPkJ1YmJsZSBUZWEgU2hvcDwvZGl2PicpWzBdOwogICAgICAgICAgICAgICAgcG9wdXBfYmM0OTBlZDQ3YmYwNDUyNTg0ZmNhOTgxOTMxMWNhMTguc2V0Q29udGVudChodG1sXzQwNDY4OTJmNDNhZTQ1NGJhNjliNmE0MjdiM2Q4M2Y5KTsKICAgICAgICAgICAgCgogICAgICAgICAgICBtYXJrZXJfMjU3M2M3OGI5OGU4NDdhOGEzNWU0NGEwYmU3NGVmMGQuYmluZFBvcHVwKHBvcHVwX2JjNDkwZWQ0N2JmMDQ1MjU4NGZjYTk4MTkzMTFjYTE4KTsKCiAgICAgICAgICAgIAogICAgICAgIAogICAgCgogICAgICAgICAgICB2YXIgbWFya2VyX2M2OTFhZThlNTc5YTQ0MmE4MmU0ZjQxOTlmYTZjYmE0ID0gTC5tYXJrZXIoCiAgICAgICAgICAgICAgICBbMzcuMzA5NTEyMzYwNzk5NDQsLTEyMS44MTM2NDczMzIxODE3Nl0sCiAgICAgICAgICAgICAgICB7CiAgICAgICAgICAgICAgICAgICAgaWNvbjogbmV3IEwuSWNvbi5EZWZhdWx0KCkKICAgICAgICAgICAgICAgICAgICB9CiAgICAgICAgICAgICAgICApCiAgICAgICAgICAgICAgICAuYWRkVG8obWFwXzBkMWE2MzIzYTQwMDQwZjI4ODJmMmVjYzBlNDdkNGRlKTsKICAgICAgICAgICAgCiAgICAKICAgICAgICAgICAgdmFyIHBvcHVwXzA3YzcyNDlmNjgwMDRjODRiZjhlMTMxNjQzZTM0MWYwID0gTC5wb3B1cCh7bWF4V2lkdGg6ICczMDAnfSk7CgogICAgICAgICAgICAKICAgICAgICAgICAgICAgIHZhciBodG1sXzc1N2UwMzMwODJhYTQ3MTg4MjM1YjMzYWNlYjAyYTljID0gJCgnPGRpdiBpZD0iaHRtbF83NTdlMDMzMDgyYWE0NzE4ODIzNWIzM2FjZWIwMmE5YyIgc3R5bGU9IndpZHRoOiAxMDAuMCU7IGhlaWdodDogMTAwLjAlOyI+QnViYmxlIFRlYSBTaG9wPC9kaXY+JylbMF07CiAgICAgICAgICAgICAgICBwb3B1cF8wN2M3MjQ5ZjY4MDA0Yzg0YmY4ZTEzMTY0M2UzNDFmMC5zZXRDb250ZW50KGh0bWxfNzU3ZTAzMzA4MmFhNDcxODgyMzViMzNhY2ViMDJhOWMpOwogICAgICAgICAgICAKCiAgICAgICAgICAgIG1hcmtlcl9jNjkxYWU4ZTU3OWE0NDJhODJlNGY0MTk5ZmE2Y2JhNC5iaW5kUG9wdXAocG9wdXBfMDdjNzI0OWY2ODAwNGM4NGJmOGUxMzE2NDNlMzQxZjApOwoKICAgICAgICAgICAgCiAgICAgICAgCiAgICAKCiAgICAgICAgICAgIHZhciBtYXJrZXJfOWViM2IzMjUyYjIzNDAyODhiMzk5MGFiNjJlM2QwM2QgPSBMLm1hcmtlcigKICAgICAgICAgICAgICAgIFszNy4yNjQxOTMsLTEyMS45Mjc1NzZdLAogICAgICAgICAgICAgICAgewogICAgICAgICAgICAgICAgICAgIGljb246IG5ldyBMLkljb24uRGVmYXVsdCgpCiAgICAgICAgICAgICAgICAgICAgfQogICAgICAgICAgICAgICAgKQogICAgICAgICAgICAgICAgLmFkZFRvKG1hcF8wZDFhNjMyM2E0MDA0MGYyODgyZjJlY2MwZTQ3ZDRkZSk7CiAgICAgICAgICAgIAogICAgCgogICAgICAgICAgICB2YXIgbWFya2VyXzZiMGMzZjY3NDM2ZTQxZDQ5NjIwMTEyOTVkZDczNWZiID0gTC5tYXJrZXIoCiAgICAgICAgICAgICAgICBbMzcuMzE5NDcsLTEyMS44MjM3Nl0sCiAgICAgICAgICAgICAgICB7CiAgICAgICAgICAgICAgICAgICAgaWNvbjogbmV3IEwuSWNvbi5EZWZhdWx0KCkKICAgICAgICAgICAgICAgICAgICB9CiAgICAgICAgICAgICAgICApCiAgICAgICAgICAgICAgICAuYWRkVG8obWFwXzBkMWE2MzIzYTQwMDQwZjI4ODJmMmVjYzBlNDdkNGRlKTsKICAgICAgICAgICAgCiAgICAKICAgICAgICAgICAgdmFyIHBvcHVwXzZmY2M0YWY0YzU2NjQ2ZGY4YWZkYTBkYzMzNjY5MmUwID0gTC5wb3B1cCh7bWF4V2lkdGg6ICczMDAnfSk7CgogICAgICAgICAgICAKICAgICAgICAgICAgICAgIHZhciBodG1sXzk0MmY3NjcwOWNmZDQ3NTA5ODE5MDE0ZThiNTFmNWQwID0gJCgnPGRpdiBpZD0iaHRtbF85NDJmNzY3MDljZmQ0NzUwOTgxOTAxNGU4YjUxZjVkMCIgc3R5bGU9IndpZHRoOiAxMDAuMCU7IGhlaWdodDogMTAwLjAlOyI+VmlldG5hbWVzZSBSZXN0YXVyYW50PC9kaXY+JylbMF07CiAgICAgICAgICAgICAgICBwb3B1cF82ZmNjNGFmNGM1NjY0NmRmOGFmZGEwZGMzMzY2OTJlMC5zZXRDb250ZW50KGh0bWxfOTQyZjc2NzA5Y2ZkNDc1MDk4MTkwMTRlOGI1MWY1ZDApOwogICAgICAgICAgICAKCiAgICAgICAgICAgIG1hcmtlcl82YjBjM2Y2NzQzNmU0MWQ0OTYyMDExMjk1ZGQ3MzVmYi5iaW5kUG9wdXAocG9wdXBfNmZjYzRhZjRjNTY2NDZkZjhhZmRhMGRjMzM2NjkyZTApOwoKICAgICAgICAgICAgCiAgICAgICAgCiAgICAKCiAgICAgICAgICAgIHZhciBtYXJrZXJfNWRjNWIyMzI5MTU1NDljYTk2Y2JlYjhiYzcxNWJkOWUgPSBMLm1hcmtlcigKICAgICAgICAgICAgICAgIFszNy4zMDk2MzQ5LC0xMjEuODEwMDcxM10sCiAgICAgICAgICAgICAgICB7CiAgICAgICAgICAgICAgICAgICAgaWNvbjogbmV3IEwuSWNvbi5EZWZhdWx0KCkKICAgICAgICAgICAgICAgICAgICB9CiAgICAgICAgICAgICAgICApCiAgICAgICAgICAgICAgICAuYWRkVG8obWFwXzBkMWE2MzIzYTQwMDQwZjI4ODJmMmVjYzBlNDdkNGRlKTsKICAgICAgICAgICAgCiAgICAKICAgICAgICAgICAgdmFyIHBvcHVwX2NkOTAwMjU4NmY3NDRhYzY5ZDVkOWVjYWNmM2I4NTVkID0gTC5wb3B1cCh7bWF4V2lkdGg6ICczMDAnfSk7CgogICAgICAgICAgICAKICAgICAgICAgICAgICAgIHZhciBodG1sXzdjZmJiOTZmMDYwNjRjNzA4NDI4OTlmYzZjYjQ4NTNlID0gJCgnPGRpdiBpZD0iaHRtbF83Y2ZiYjk2ZjA2MDY0YzcwODQyODk5ZmM2Y2I0ODUzZSIgc3R5bGU9IndpZHRoOiAxMDAuMCU7IGhlaWdodDogMTAwLjAlOyI+RGVzc2VydCBTaG9wPC9kaXY+JylbMF07CiAgICAgICAgICAgICAgICBwb3B1cF9jZDkwMDI1ODZmNzQ0YWM2OWQ1ZDllY2FjZjNiODU1ZC5zZXRDb250ZW50KGh0bWxfN2NmYmI5NmYwNjA2NGM3MDg0Mjg5OWZjNmNiNDg1M2UpOwogICAgICAgICAgICAKCiAgICAgICAgICAgIG1hcmtlcl81ZGM1YjIzMjkxNTU0OWNhOTZjYmViOGJjNzE1YmQ5ZS5iaW5kUG9wdXAocG9wdXBfY2Q5MDAyNTg2Zjc0NGFjNjlkNWQ5ZWNhY2YzYjg1NWQpOwoKICAgICAgICAgICAgCiAgICAgICAgCiAgICAKCiAgICAgICAgICAgIHZhciBtYXJrZXJfOTA3OTM3ODhkMDA3NGZhNzg2YzQzYTJlNDFhZGY5MGQgPSBMLm1hcmtlcigKICAgICAgICAgICAgICAgIFszNy4zMDk2NjMsLTEyMS44MTAxXSwKICAgICAgICAgICAgICAgIHsKICAgICAgICAgICAgICAgICAgICBpY29uOiBuZXcgTC5JY29uLkRlZmF1bHQoKQogICAgICAgICAgICAgICAgICAgIH0KICAgICAgICAgICAgICAgICkKICAgICAgICAgICAgICAgIC5hZGRUbyhtYXBfMGQxYTYzMjNhNDAwNDBmMjg4MmYyZWNjMGU0N2Q0ZGUpOwogICAgICAgICAgICAKICAgIAogICAgICAgICAgICB2YXIgcG9wdXBfOWViZDdhY2QxZmRiNDYyZWEzMzI5NTEzNDEwOWY4NmEgPSBMLnBvcHVwKHttYXhXaWR0aDogJzMwMCd9KTsKCiAgICAgICAgICAgIAogICAgICAgICAgICAgICAgdmFyIGh0bWxfYzZjZjNhNjc4NjkzNDRiNWEyNDY0MDE4ZWI5Yjg2NjIgPSAkKCc8ZGl2IGlkPSJodG1sX2M2Y2YzYTY3ODY5MzQ0YjVhMjQ2NDAxOGViOWI4NjYyIiBzdHlsZT0id2lkdGg6IDEwMC4wJTsgaGVpZ2h0OiAxMDAuMCU7Ij5CdWJibGUgVGVhIFNob3A8L2Rpdj4nKVswXTsKICAgICAgICAgICAgICAgIHBvcHVwXzllYmQ3YWNkMWZkYjQ2MmVhMzMyOTUxMzQxMDlmODZhLnNldENvbnRlbnQoaHRtbF9jNmNmM2E2Nzg2OTM0NGI1YTI0NjQwMThlYjliODY2Mik7CiAgICAgICAgICAgIAoKICAgICAgICAgICAgbWFya2VyXzkwNzkzNzg4ZDAwNzRmYTc4NmM0M2EyZTQxYWRmOTBkLmJpbmRQb3B1cChwb3B1cF85ZWJkN2FjZDFmZGI0NjJlYTMzMjk1MTM0MTA5Zjg2YSk7CgogICAgICAgICAgICAKICAgICAgICAKICAgIAoKICAgICAgICAgICAgdmFyIG1hcmtlcl9jZmM5OWFiNWYwZTc0MDFmYTRlM2IzZDQ3YjczZDI1ZCA9IEwubWFya2VyKAogICAgICAgICAgICAgICAgWzM3Ljc4OTg5OTQ0OTY1Mjc0LC0xMjIuNDA3MDc3MTMyODY3NDldLAogICAgICAgICAgICAgICAgewogICAgICAgICAgICAgICAgICAgIGljb246IG5ldyBMLkljb24uRGVmYXVsdCgpCiAgICAgICAgICAgICAgICAgICAgfQogICAgICAgICAgICAgICAgKQogICAgICAgICAgICAgICAgLmFkZFRvKG1hcF8wZDFhNjMyM2E0MDA0MGYyODgyZjJlY2MwZTQ3ZDRkZSk7CiAgICAgICAgICAgIAogICAgCiAgICAgICAgICAgIHZhciBwb3B1cF84Mzg5ZTA0ZjRkNzg0YWZkODYzYjk1MzZlYTQwYWNiZCA9IEwucG9wdXAoe21heFdpZHRoOiAnMzAwJ30pOwoKICAgICAgICAgICAgCiAgICAgICAgICAgICAgICB2YXIgaHRtbF8wOThjNGMyZjRmODA0MzhiYTQ4MGZlODU5MTIzODlkMyA9ICQoJzxkaXYgaWQ9Imh0bWxfMDk4YzRjMmY0ZjgwNDM4YmE0ODBmZTg1OTEyMzg5ZDMiIHN0eWxlPSJ3aWR0aDogMTAwLjAlOyBoZWlnaHQ6IDEwMC4wJTsiPkJ1YmJsZSBUZWEgU2hvcDwvZGl2PicpWzBdOwogICAgICAgICAgICAgICAgcG9wdXBfODM4OWUwNGY0ZDc4NGFmZDg2M2I5NTM2ZWE0MGFjYmQuc2V0Q29udGVudChodG1sXzA5OGM0YzJmNGY4MDQzOGJhNDgwZmU4NTkxMjM4OWQzKTsKICAgICAgICAgICAgCgogICAgICAgICAgICBtYXJrZXJfY2ZjOTlhYjVmMGU3NDAxZmE0ZTNiM2Q0N2I3M2QyNWQuYmluZFBvcHVwKHBvcHVwXzgzODllMDRmNGQ3ODRhZmQ4NjNiOTUzNmVhNDBhY2JkKTsKCiAgICAgICAgICAgIAogICAgICAgIAogICAgCiAgICAgICAgICAgIHZhciBmZWF0dXJlX2dyb3VwXzg1MzdmNWQzOTBjMjRhMDQ5ZGUyNWRjNDZmZTk5NDZlID0gTC5mZWF0dXJlR3JvdXAoCiAgICAgICAgICAgICAgICApLmFkZFRvKG1hcF8wZDFhNjMyM2E0MDA0MGYyODgyZjJlY2MwZTQ3ZDRkZSk7CiAgICAgICAgCiAgICAKICAgICAgICAgICAgdmFyIGNpcmNsZV9tYXJrZXJfZmY3YWE2YjE0NDA2NDUyZmI5MDc2N2NhMjRlMzMzMWYgPSBMLmNpcmNsZU1hcmtlcigKICAgICAgICAgICAgICAgIFszNy4zMzIzNjgxNzU1MzkxLC0xMjEuODg0NzMwOTIwMjE5N10sCiAgICAgICAgICAgICAgICB7CiAgImJ1YmJsaW5nTW91c2VFdmVudHMiOiB0cnVlLAogICJjb2xvciI6ICJ5ZWxsb3ciLAogICJkYXNoQXJyYXkiOiBudWxsLAogICJkYXNoT2Zmc2V0IjogbnVsbCwKICAiZmlsbCI6IHRydWUsCiAgImZpbGxDb2xvciI6ICJibHVlIiwKICAiZmlsbE9wYWNpdHkiOiAwLjYsCiAgImZpbGxSdWxlIjogImV2ZW5vZGQiLAogICJsaW5lQ2FwIjogInJvdW5kIiwKICAibGluZUpvaW4iOiAicm91bmQiLAogICJvcGFjaXR5IjogMS4wLAogICJyYWRpdXMiOiA1LAogICJzdHJva2UiOiB0cnVlLAogICJ3ZWlnaHQiOiAzCn0KICAgICAgICAgICAgICAgICkuYWRkVG8oZmVhdHVyZV9ncm91cF84NTM3ZjVkMzkwYzI0YTA0OWRlMjVkYzQ2ZmU5OTQ2ZSk7CiAgICAgICAgICAgIAogICAgCiAgICAgICAgICAgIHZhciBjaXJjbGVfbWFya2VyX2QzZDdhMTZmMzE0MzQzNGVhZTkyZDNhYzQ2ZWFmM2EwID0gTC5jaXJjbGVNYXJrZXIoCiAgICAgICAgICAgICAgICBbMzcuNDM4NDc1NTMyMDE1NjMsLTEyMi4xNTkxMjIyODg3Nzk1XSwKICAgICAgICAgICAgICAgIHsKICAiYnViYmxpbmdNb3VzZUV2ZW50cyI6IHRydWUsCiAgImNvbG9yIjogInllbGxvdyIsCiAgImRhc2hBcnJheSI6IG51bGwsCiAgImRhc2hPZmZzZXQiOiBudWxsLAogICJmaWxsIjogdHJ1ZSwKICAiZmlsbENvbG9yIjogImJsdWUiLAogICJmaWxsT3BhY2l0eSI6IDAuNiwKICAiZmlsbFJ1bGUiOiAiZXZlbm9kZCIsCiAgImxpbmVDYXAiOiAicm91bmQiLAogICJsaW5lSm9pbiI6ICJyb3VuZCIsCiAgIm9wYWNpdHkiOiAxLjAsCiAgInJhZGl1cyI6IDUsCiAgInN0cm9rZSI6IHRydWUsCiAgIndlaWdodCI6IDMKfQogICAgICAgICAgICAgICAgKS5hZGRUbyhmZWF0dXJlX2dyb3VwXzg1MzdmNWQzOTBjMjRhMDQ5ZGUyNWRjNDZmZTk5NDZlKTsKICAgICAgICAgICAgCiAgICAKICAgICAgICAgICAgdmFyIGNpcmNsZV9tYXJrZXJfOTQwOTczNTQzOGRjNDdiMDllNGQxOTQ5ZWRlOGIzYTcgPSBMLmNpcmNsZU1hcmtlcigKICAgICAgICAgICAgICAgIFszNy40MDMyMDE2ODM5NDExNSwtMTIyLjAwODkzMTQ1NDg3MDNdLAogICAgICAgICAgICAgICAgewogICJidWJibGluZ01vdXNlRXZlbnRzIjogdHJ1ZSwKICAiY29sb3IiOiAieWVsbG93IiwKICAiZGFzaEFycmF5IjogbnVsbCwKICAiZGFzaE9mZnNldCI6IG51bGwsCiAgImZpbGwiOiB0cnVlLAogICJmaWxsQ29sb3IiOiAiYmx1ZSIsCiAgImZpbGxPcGFjaXR5IjogMC42LAogICJmaWxsUnVsZSI6ICJldmVub2RkIiwKICAibGluZUNhcCI6ICJyb3VuZCIsCiAgImxpbmVKb2luIjogInJvdW5kIiwKICAib3BhY2l0eSI6IDEuMCwKICAicmFkaXVzIjogNSwKICAic3Ryb2tlIjogdHJ1ZSwKICAid2VpZ2h0IjogMwp9CiAgICAgICAgICAgICAgICApLmFkZFRvKGZlYXR1cmVfZ3JvdXBfODUzN2Y1ZDM5MGMyNGEwNDlkZTI1ZGM0NmZlOTk0NmUpOwogICAgICAgICAgICAKICAgIAogICAgICAgICAgICB2YXIgY2lyY2xlX21hcmtlcl8xNDdjYjQyZWUxNDQ0YmY2YmNhNmU1NDAyNzY1MzRlOSA9IEwuY2lyY2xlTWFya2VyKAogICAgICAgICAgICAgICAgWzM3Ljc2NjQ0NzcxNTY5OTc1LC0xMjIuMzk3MDQyMzYwNjczMDhdLAogICAgICAgICAgICAgICAgewogICJidWJibGluZ01vdXNlRXZlbnRzIjogdHJ1ZSwKICAiY29sb3IiOiAieWVsbG93IiwKICAiZGFzaEFycmF5IjogbnVsbCwKICAiZGFzaE9mZnNldCI6IG51bGwsCiAgImZpbGwiOiB0cnVlLAogICJmaWxsQ29sb3IiOiAiYmx1ZSIsCiAgImZpbGxPcGFjaXR5IjogMC42LAogICJmaWxsUnVsZSI6ICJldmVub2RkIiwKICAibGluZUNhcCI6ICJyb3VuZCIsCiAgImxpbmVKb2luIjogInJvdW5kIiwKICAib3BhY2l0eSI6IDEuMCwKICAicmFkaXVzIjogNSwKICAic3Ryb2tlIjogdHJ1ZSwKICAid2VpZ2h0IjogMwp9CiAgICAgICAgICAgICAgICApLmFkZFRvKGZlYXR1cmVfZ3JvdXBfODUzN2Y1ZDM5MGMyNGEwNDlkZTI1ZGM0NmZlOTk0NmUpOwogICAgICAgICAgICAKICAgIAogICAgICAgICAgICB2YXIgY2lyY2xlX21hcmtlcl8yZmY5YTQwYzE4ZTM0ODRiYTAyYjc4MzA2ZWQ1MGQyNyA9IEwuY2lyY2xlTWFya2VyKAogICAgICAgICAgICAgICAgWzM3LjQ1NTUyNDQ0NDU4MDA4LC0xMjEuOTEwMjMyNTQzOTQ1MzFdLAogICAgICAgICAgICAgICAgewogICJidWJibGluZ01vdXNlRXZlbnRzIjogdHJ1ZSwKICAiY29sb3IiOiAieWVsbG93IiwKICAiZGFzaEFycmF5IjogbnVsbCwKICAiZGFzaE9mZnNldCI6IG51bGwsCiAgImZpbGwiOiB0cnVlLAogICJmaWxsQ29sb3IiOiAiYmx1ZSIsCiAgImZpbGxPcGFjaXR5IjogMC42LAogICJmaWxsUnVsZSI6ICJldmVub2RkIiwKICAibGluZUNhcCI6ICJyb3VuZCIsCiAgImxpbmVKb2luIjogInJvdW5kIiwKICAib3BhY2l0eSI6IDEuMCwKICAicmFkaXVzIjogNSwKICAic3Ryb2tlIjogdHJ1ZSwKICAid2VpZ2h0IjogMwp9CiAgICAgICAgICAgICAgICApLmFkZFRvKGZlYXR1cmVfZ3JvdXBfODUzN2Y1ZDM5MGMyNGEwNDlkZTI1ZGM0NmZlOTk0NmUpOwogICAgICAgICAgICAKICAgIAogICAgICAgICAgICB2YXIgY2lyY2xlX21hcmtlcl8yY2NkYmU0ZjFmYzA0MjY5YThjYzM1ZGRmNDcyNmYzYiA9IEwuY2lyY2xlTWFya2VyKAogICAgICAgICAgICAgICAgWzM3LjUwMjgwOTg1OTE1MTAxNCwtMTIyLjI1NjkzODY4MTg1NDA1XSwKICAgICAgICAgICAgICAgIHsKICAiYnViYmxpbmdNb3VzZUV2ZW50cyI6IHRydWUsCiAgImNvbG9yIjogInllbGxvdyIsCiAgImRhc2hBcnJheSI6IG51bGwsCiAgImRhc2hPZmZzZXQiOiBudWxsLAogICJmaWxsIjogdHJ1ZSwKICAiZmlsbENvbG9yIjogImJsdWUiLAogICJmaWxsT3BhY2l0eSI6IDAuNiwKICAiZmlsbFJ1bGUiOiAiZXZlbm9kZCIsCiAgImxpbmVDYXAiOiAicm91bmQiLAogICJsaW5lSm9pbiI6ICJyb3VuZCIsCiAgIm9wYWNpdHkiOiAxLjAsCiAgInJhZGl1cyI6IDUsCiAgInN0cm9rZSI6IHRydWUsCiAgIndlaWdodCI6IDMKfQogICAgICAgICAgICAgICAgKS5hZGRUbyhmZWF0dXJlX2dyb3VwXzg1MzdmNWQzOTBjMjRhMDQ5ZGUyNWRjNDZmZTk5NDZlKTsKICAgICAgICAgICAgCiAgICAKICAgICAgICAgICAgdmFyIGNpcmNsZV9tYXJrZXJfY2IyYTk0NTM5N2I3NDg4ZDg1OTQ5N2Y0YmQ3YzRhZTIgPSBMLmNpcmNsZU1hcmtlcigKICAgICAgICAgICAgICAgIFszNy4zNTA1NTUwMzYwMzg3OSwtMTIxLjk0NDAwOTc4NDYwOTM4XSwKICAgICAgICAgICAgICAgIHsKICAiYnViYmxpbmdNb3VzZUV2ZW50cyI6IHRydWUsCiAgImNvbG9yIjogInllbGxvdyIsCiAgImRhc2hBcnJheSI6IG51bGwsCiAgImRhc2hPZmZzZXQiOiBudWxsLAogICJmaWxsIjogdHJ1ZSwKICAiZmlsbENvbG9yIjogImJsdWUiLAogICJmaWxsT3BhY2l0eSI6IDAuNiwKICAiZmlsbFJ1bGUiOiAiZXZlbm9kZCIsCiAgImxpbmVDYXAiOiAicm91bmQiLAogICJsaW5lSm9pbiI6ICJyb3VuZCIsCiAgIm9wYWNpdHkiOiAxLjAsCiAgInJhZGl1cyI6IDUsCiAgInN0cm9rZSI6IHRydWUsCiAgIndlaWdodCI6IDMKfQogICAgICAgICAgICAgICAgKS5hZGRUbyhmZWF0dXJlX2dyb3VwXzg1MzdmNWQzOTBjMjRhMDQ5ZGUyNWRjNDZmZTk5NDZlKTsKICAgICAgICAgICAgCiAgICAKICAgICAgICAgICAgdmFyIGNpcmNsZV9tYXJrZXJfNjc4YTZlYWIwOTM5NDliZmI4NmJiYjYwY2ZlMWQ1YjkgPSBMLmNpcmNsZU1hcmtlcigKICAgICAgICAgICAgICAgIFszNy4yNTM0Nzk1MzQ1MzIzNywtMTIxLjkwMTU2NjI1ODc3NjQxXSwKICAgICAgICAgICAgICAgIHsKICAiYnViYmxpbmdNb3VzZUV2ZW50cyI6IHRydWUsCiAgImNvbG9yIjogInllbGxvdyIsCiAgImRhc2hBcnJheSI6IG51bGwsCiAgImRhc2hPZmZzZXQiOiBudWxsLAogICJmaWxsIjogdHJ1ZSwKICAiZmlsbENvbG9yIjogImJsdWUiLAogICJmaWxsT3BhY2l0eSI6IDAuNiwKICAiZmlsbFJ1bGUiOiAiZXZlbm9kZCIsCiAgImxpbmVDYXAiOiAicm91bmQiLAogICJsaW5lSm9pbiI6ICJyb3VuZCIsCiAgIm9wYWNpdHkiOiAxLjAsCiAgInJhZGl1cyI6IDUsCiAgInN0cm9rZSI6IHRydWUsCiAgIndlaWdodCI6IDMKfQogICAgICAgICAgICAgICAgKS5hZGRUbyhmZWF0dXJlX2dyb3VwXzg1MzdmNWQzOTBjMjRhMDQ5ZGUyNWRjNDZmZTk5NDZlKTsKICAgICAgICAgICAgCiAgICAKICAgICAgICAgICAgdmFyIGNpcmNsZV9tYXJrZXJfNTBlMmNjOTYwNGMyNDQxZmI0N2RmZWQ5NzUzNmNhMmUgPSBMLmNpcmNsZU1hcmtlcigKICAgICAgICAgICAgICAgIFszNy43NjAwNDQsLTEyMi40MjExMDNdLAogICAgICAgICAgICAgICAgewogICJidWJibGluZ01vdXNlRXZlbnRzIjogdHJ1ZSwKICAiY29sb3IiOiAieWVsbG93IiwKICAiZGFzaEFycmF5IjogbnVsbCwKICAiZGFzaE9mZnNldCI6IG51bGwsCiAgImZpbGwiOiB0cnVlLAogICJmaWxsQ29sb3IiOiAiYmx1ZSIsCiAgImZpbGxPcGFjaXR5IjogMC42LAogICJmaWxsUnVsZSI6ICJldmVub2RkIiwKICAibGluZUNhcCI6ICJyb3VuZCIsCiAgImxpbmVKb2luIjogInJvdW5kIiwKICAib3BhY2l0eSI6IDEuMCwKICAicmFkaXVzIjogNSwKICAic3Ryb2tlIjogdHJ1ZSwKICAid2VpZ2h0IjogMwp9CiAgICAgICAgICAgICAgICApLmFkZFRvKGZlYXR1cmVfZ3JvdXBfODUzN2Y1ZDM5MGMyNGEwNDlkZTI1ZGM0NmZlOTk0NmUpOwogICAgICAgICAgICAKICAgIAogICAgICAgICAgICB2YXIgY2lyY2xlX21hcmtlcl82ODdlN2RhMGYxNDI0MDZhOTRkMjVmYWZkMjc1OGQwMSA9IEwuY2lyY2xlTWFya2VyKAogICAgICAgICAgICAgICAgWzM3LjM4NDI5NTUxNjE3OTksLTEyMS44OTc0OTU3MTE4NTczXSwKICAgICAgICAgICAgICAgIHsKICAiYnViYmxpbmdNb3VzZUV2ZW50cyI6IHRydWUsCiAgImNvbG9yIjogInllbGxvdyIsCiAgImRhc2hBcnJheSI6IG51bGwsCiAgImRhc2hPZmZzZXQiOiBudWxsLAogICJmaWxsIjogdHJ1ZSwKICAiZmlsbENvbG9yIjogImJsdWUiLAogICJmaWxsT3BhY2l0eSI6IDAuNiwKICAiZmlsbFJ1bGUiOiAiZXZlbm9kZCIsCiAgImxpbmVDYXAiOiAicm91bmQiLAogICJsaW5lSm9pbiI6ICJyb3VuZCIsCiAgIm9wYWNpdHkiOiAxLjAsCiAgInJhZGl1cyI6IDUsCiAgInN0cm9rZSI6IHRydWUsCiAgIndlaWdodCI6IDMKfQogICAgICAgICAgICAgICAgKS5hZGRUbyhmZWF0dXJlX2dyb3VwXzg1MzdmNWQzOTBjMjRhMDQ5ZGUyNWRjNDZmZTk5NDZlKTsKICAgICAgICAgICAgCiAgICAKICAgICAgICAgICAgdmFyIGNpcmNsZV9tYXJrZXJfNWE2OTVhZTg2ZTg3NDg1MTgxM2I5MTkwNGM3NDZiMWIgPSBMLmNpcmNsZU1hcmtlcigKICAgICAgICAgICAgICAgIFszNy4zMzYwNTUsLTEyMS44OTQzOTldLAogICAgICAgICAgICAgICAgewogICJidWJibGluZ01vdXNlRXZlbnRzIjogdHJ1ZSwKICAiY29sb3IiOiAieWVsbG93IiwKICAiZGFzaEFycmF5IjogbnVsbCwKICAiZGFzaE9mZnNldCI6IG51bGwsCiAgImZpbGwiOiB0cnVlLAogICJmaWxsQ29sb3IiOiAiYmx1ZSIsCiAgImZpbGxPcGFjaXR5IjogMC42LAogICJmaWxsUnVsZSI6ICJldmVub2RkIiwKICAibGluZUNhcCI6ICJyb3VuZCIsCiAgImxpbmVKb2luIjogInJvdW5kIiwKICAib3BhY2l0eSI6IDEuMCwKICAicmFkaXVzIjogNSwKICAic3Ryb2tlIjogdHJ1ZSwKICAid2VpZ2h0IjogMwp9CiAgICAgICAgICAgICAgICApLmFkZFRvKGZlYXR1cmVfZ3JvdXBfODUzN2Y1ZDM5MGMyNGEwNDlkZTI1ZGM0NmZlOTk0NmUpOwogICAgICAgICAgICAKICAgIAogICAgICAgICAgICB2YXIgY2lyY2xlX21hcmtlcl81MDVkYWVkNGJmODg0OTkwOTFkZTIxNWQ2OTE1NzJlOCA9IEwuY2lyY2xlTWFya2VyKAogICAgICAgICAgICAgICAgWzM3LjMxMDYzMiwtMTIxLjk4ODM3NF0sCiAgICAgICAgICAgICAgICB7CiAgImJ1YmJsaW5nTW91c2VFdmVudHMiOiB0cnVlLAogICJjb2xvciI6ICJ5ZWxsb3ciLAogICJkYXNoQXJyYXkiOiBudWxsLAogICJkYXNoT2Zmc2V0IjogbnVsbCwKICAiZmlsbCI6IHRydWUsCiAgImZpbGxDb2xvciI6ICJibHVlIiwKICAiZmlsbE9wYWNpdHkiOiAwLjYsCiAgImZpbGxSdWxlIjogImV2ZW5vZGQiLAogICJsaW5lQ2FwIjogInJvdW5kIiwKICAibGluZUpvaW4iOiAicm91bmQiLAogICJvcGFjaXR5IjogMS4wLAogICJyYWRpdXMiOiA1LAogICJzdHJva2UiOiB0cnVlLAogICJ3ZWlnaHQiOiAzCn0KICAgICAgICAgICAgICAgICkuYWRkVG8oZmVhdHVyZV9ncm91cF84NTM3ZjVkMzkwYzI0YTA0OWRlMjVkYzQ2ZmU5OTQ2ZSk7CiAgICAgICAgICAgIAogICAgCiAgICAgICAgICAgIHZhciBjaXJjbGVfbWFya2VyXzM2ZGIxMjdmNzJlMTQxZDY5YWEyMGZlNjkyYjAyNjg4ID0gTC5jaXJjbGVNYXJrZXIoCiAgICAgICAgICAgICAgICBbMzcuMzUxNzIxLC0xMjEuOTgxNDcyXSwKICAgICAgICAgICAgICAgIHsKICAiYnViYmxpbmdNb3VzZUV2ZW50cyI6IHRydWUsCiAgImNvbG9yIjogInllbGxvdyIsCiAgImRhc2hBcnJheSI6IG51bGwsCiAgImRhc2hPZmZzZXQiOiBudWxsLAogICJmaWxsIjogdHJ1ZSwKICAiZmlsbENvbG9yIjogImJsdWUiLAogICJmaWxsT3BhY2l0eSI6IDAuNiwKICAiZmlsbFJ1bGUiOiAiZXZlbm9kZCIsCiAgImxpbmVDYXAiOiAicm91bmQiLAogICJsaW5lSm9pbiI6ICJyb3VuZCIsCiAgIm9wYWNpdHkiOiAxLjAsCiAgInJhZGl1cyI6IDUsCiAgInN0cm9rZSI6IHRydWUsCiAgIndlaWdodCI6IDMKfQogICAgICAgICAgICAgICAgKS5hZGRUbyhmZWF0dXJlX2dyb3VwXzg1MzdmNWQzOTBjMjRhMDQ5ZGUyNWRjNDZmZTk5NDZlKTsKICAgICAgICAgICAgCiAgICAKICAgICAgICAgICAgdmFyIGNpcmNsZV9tYXJrZXJfMWMyMjg3YjliNDBhNDFkMDhkOTBiMTM1YjdmNjYxMDEgPSBMLmNpcmNsZU1hcmtlcigKICAgICAgICAgICAgICAgIFszNy4zMzUzNDYyMjE5MjM4MywtMTIxLjg4NjU1MDkwMzMyMDMxXSwKICAgICAgICAgICAgICAgIHsKICAiYnViYmxpbmdNb3VzZUV2ZW50cyI6IHRydWUsCiAgImNvbG9yIjogInllbGxvdyIsCiAgImRhc2hBcnJheSI6IG51bGwsCiAgImRhc2hPZmZzZXQiOiBudWxsLAogICJmaWxsIjogdHJ1ZSwKICAiZmlsbENvbG9yIjogImJsdWUiLAogICJmaWxsT3BhY2l0eSI6IDAuNiwKICAiZmlsbFJ1bGUiOiAiZXZlbm9kZCIsCiAgImxpbmVDYXAiOiAicm91bmQiLAogICJsaW5lSm9pbiI6ICJyb3VuZCIsCiAgIm9wYWNpdHkiOiAxLjAsCiAgInJhZGl1cyI6IDUsCiAgInN0cm9rZSI6IHRydWUsCiAgIndlaWdodCI6IDMKfQogICAgICAgICAgICAgICAgKS5hZGRUbyhmZWF0dXJlX2dyb3VwXzg1MzdmNWQzOTBjMjRhMDQ5ZGUyNWRjNDZmZTk5NDZlKTsKICAgICAgICAgICAgCiAgICAKICAgICAgICAgICAgdmFyIGNpcmNsZV9tYXJrZXJfNWZjYmZlMzA3ZTM4NDU4YjllNGVlY2ZhMTEyOTQ5YWQgPSBMLmNpcmNsZU1hcmtlcigKICAgICAgICAgICAgICAgIFszNy4zMDEzMSwtMTIxLjgyMjgyXSwKICAgICAgICAgICAgICAgIHsKICAiYnViYmxpbmdNb3VzZUV2ZW50cyI6IHRydWUsCiAgImNvbG9yIjogInllbGxvdyIsCiAgImRhc2hBcnJheSI6IG51bGwsCiAgImRhc2hPZmZzZXQiOiBudWxsLAogICJmaWxsIjogdHJ1ZSwKICAiZmlsbENvbG9yIjogImJsdWUiLAogICJmaWxsT3BhY2l0eSI6IDAuNiwKICAiZmlsbFJ1bGUiOiAiZXZlbm9kZCIsCiAgImxpbmVDYXAiOiAicm91bmQiLAogICJsaW5lSm9pbiI6ICJyb3VuZCIsCiAgIm9wYWNpdHkiOiAxLjAsCiAgInJhZGl1cyI6IDUsCiAgInN0cm9rZSI6IHRydWUsCiAgIndlaWdodCI6IDMKfQogICAgICAgICAgICAgICAgKS5hZGRUbyhmZWF0dXJlX2dyb3VwXzg1MzdmNWQzOTBjMjRhMDQ5ZGUyNWRjNDZmZTk5NDZlKTsKICAgICAgICAgICAgCiAgICAKICAgICAgICAgICAgdmFyIGNpcmNsZV9tYXJrZXJfMjAxYTkzNmEyY2FiNDU4NmI3NDY0MzMxYzVhYjBkOTIgPSBMLmNpcmNsZU1hcmtlcigKICAgICAgICAgICAgICAgIFszNy41NzU3NTI3Nzg1NTI2NCwtMTIyLjAzOTgzNzUwNzk1MDY1XSwKICAgICAgICAgICAgICAgIHsKICAiYnViYmxpbmdNb3VzZUV2ZW50cyI6IHRydWUsCiAgImNvbG9yIjogInllbGxvdyIsCiAgImRhc2hBcnJheSI6IG51bGwsCiAgImRhc2hPZmZzZXQiOiBudWxsLAogICJmaWxsIjogdHJ1ZSwKICAiZmlsbENvbG9yIjogImJsdWUiLAogICJmaWxsT3BhY2l0eSI6IDAuNiwKICAiZmlsbFJ1bGUiOiAiZXZlbm9kZCIsCiAgImxpbmVDYXAiOiAicm91bmQiLAogICJsaW5lSm9pbiI6ICJyb3VuZCIsCiAgIm9wYWNpdHkiOiAxLjAsCiAgInJhZGl1cyI6IDUsCiAgInN0cm9rZSI6IHRydWUsCiAgIndlaWdodCI6IDMKfQogICAgICAgICAgICAgICAgKS5hZGRUbyhmZWF0dXJlX2dyb3VwXzg1MzdmNWQzOTBjMjRhMDQ5ZGUyNWRjNDZmZTk5NDZlKTsKICAgICAgICAgICAgCiAgICAKICAgICAgICAgICAgdmFyIGNpcmNsZV9tYXJrZXJfYzc4OTU3MDAwN2YxNDg4MGI1NmE3NDg2ZWRhYmZkMjAgPSBMLmNpcmNsZU1hcmtlcigKICAgICAgICAgICAgICAgIFszNy4yNzk0NjgsLTEyMS44MzQwOTddLAogICAgICAgICAgICAgICAgewogICJidWJibGluZ01vdXNlRXZlbnRzIjogdHJ1ZSwKICAiY29sb3IiOiAieWVsbG93IiwKICAiZGFzaEFycmF5IjogbnVsbCwKICAiZGFzaE9mZnNldCI6IG51bGwsCiAgImZpbGwiOiB0cnVlLAogICJmaWxsQ29sb3IiOiAiYmx1ZSIsCiAgImZpbGxPcGFjaXR5IjogMC42LAogICJmaWxsUnVsZSI6ICJldmVub2RkIiwKICAibGluZUNhcCI6ICJyb3VuZCIsCiAgImxpbmVKb2luIjogInJvdW5kIiwKICAib3BhY2l0eSI6IDEuMCwKICAicmFkaXVzIjogNSwKICAic3Ryb2tlIjogdHJ1ZSwKICAid2VpZ2h0IjogMwp9CiAgICAgICAgICAgICAgICApLmFkZFRvKGZlYXR1cmVfZ3JvdXBfODUzN2Y1ZDM5MGMyNGEwNDlkZTI1ZGM0NmZlOTk0NmUpOwogICAgICAgICAgICAKICAgIAogICAgICAgICAgICB2YXIgY2lyY2xlX21hcmtlcl9kNzRkNTNhM2ZjYjY0OTU2YThjMDA2ZGE3MjA5YTE4NyA9IEwuY2lyY2xlTWFya2VyKAogICAgICAgICAgICAgICAgWzM3LjUyNjQ0OSwtMTIyLjAwMTczMV0sCiAgICAgICAgICAgICAgICB7CiAgImJ1YmJsaW5nTW91c2VFdmVudHMiOiB0cnVlLAogICJjb2xvciI6ICJ5ZWxsb3ciLAogICJkYXNoQXJyYXkiOiBudWxsLAogICJkYXNoT2Zmc2V0IjogbnVsbCwKICAiZmlsbCI6IHRydWUsCiAgImZpbGxDb2xvciI6ICJibHVlIiwKICAiZmlsbE9wYWNpdHkiOiAwLjYsCiAgImZpbGxSdWxlIjogImV2ZW5vZGQiLAogICJsaW5lQ2FwIjogInJvdW5kIiwKICAibGluZUpvaW4iOiAicm91bmQiLAogICJvcGFjaXR5IjogMS4wLAogICJyYWRpdXMiOiA1LAogICJzdHJva2UiOiB0cnVlLAogICJ3ZWlnaHQiOiAzCn0KICAgICAgICAgICAgICAgICkuYWRkVG8oZmVhdHVyZV9ncm91cF84NTM3ZjVkMzkwYzI0YTA0OWRlMjVkYzQ2ZmU5OTQ2ZSk7CiAgICAgICAgICAgIAogICAgCiAgICAgICAgICAgIHZhciBjaXJjbGVfbWFya2VyX2IxOTI3YmZkMTEyYjQ5Zjk4ZWY0N2M5NWVlZWRlZWRjID0gTC5jaXJjbGVNYXJrZXIoCiAgICAgICAgICAgICAgICBbMzcuMzcyMTM0LC0xMjEuOTA4MDMzXSwKICAgICAgICAgICAgICAgIHsKICAiYnViYmxpbmdNb3VzZUV2ZW50cyI6IHRydWUsCiAgImNvbG9yIjogInllbGxvdyIsCiAgImRhc2hBcnJheSI6IG51bGwsCiAgImRhc2hPZmZzZXQiOiBudWxsLAogICJmaWxsIjogdHJ1ZSwKICAiZmlsbENvbG9yIjogImJsdWUiLAogICJmaWxsT3BhY2l0eSI6IDAuNiwKICAiZmlsbFJ1bGUiOiAiZXZlbm9kZCIsCiAgImxpbmVDYXAiOiAicm91bmQiLAogICJsaW5lSm9pbiI6ICJyb3VuZCIsCiAgIm9wYWNpdHkiOiAxLjAsCiAgInJhZGl1cyI6IDUsCiAgInN0cm9rZSI6IHRydWUsCiAgIndlaWdodCI6IDMKfQogICAgICAgICAgICAgICAgKS5hZGRUbyhmZWF0dXJlX2dyb3VwXzg1MzdmNWQzOTBjMjRhMDQ5ZGUyNWRjNDZmZTk5NDZlKTsKICAgICAgICAgICAgCiAgICAKICAgICAgICAgICAgdmFyIGNpcmNsZV9tYXJrZXJfMDIwYjEzMmY4YzZiNGY1MmE2MTU4NjQ1ZWM2ZGY0MmIgPSBMLmNpcmNsZU1hcmtlcigKICAgICAgICAgICAgICAgIFszNy4zOTIwMTQsLTEyMS44NDIzMV0sCiAgICAgICAgICAgICAgICB7CiAgImJ1YmJsaW5nTW91c2VFdmVudHMiOiB0cnVlLAogICJjb2xvciI6ICJ5ZWxsb3ciLAogICJkYXNoQXJyYXkiOiBudWxsLAogICJkYXNoT2Zmc2V0IjogbnVsbCwKICAiZmlsbCI6IHRydWUsCiAgImZpbGxDb2xvciI6ICJibHVlIiwKICAiZmlsbE9wYWNpdHkiOiAwLjYsCiAgImZpbGxSdWxlIjogImV2ZW5vZGQiLAogICJsaW5lQ2FwIjogInJvdW5kIiwKICAibGluZUpvaW4iOiAicm91bmQiLAogICJvcGFjaXR5IjogMS4wLAogICJyYWRpdXMiOiA1LAogICJzdHJva2UiOiB0cnVlLAogICJ3ZWlnaHQiOiAzCn0KICAgICAgICAgICAgICAgICkuYWRkVG8oZmVhdHVyZV9ncm91cF84NTM3ZjVkMzkwYzI0YTA0OWRlMjVkYzQ2ZmU5OTQ2ZSk7CiAgICAgICAgICAgIAogICAgCiAgICAgICAgICAgIHZhciBjaXJjbGVfbWFya2VyXzc4MWQ0MTBiNGVjOTRlOGI5ODk5ODRiMGRhYzg3OWQ3ID0gTC5jaXJjbGVNYXJrZXIoCiAgICAgICAgICAgICAgICBbMzcuNDkzNDE4OTgyODg1NzksLTEyMS45MzA4ODY4NjMxNDg0OV0sCiAgICAgICAgICAgICAgICB7CiAgImJ1YmJsaW5nTW91c2VFdmVudHMiOiB0cnVlLAogICJjb2xvciI6ICJ5ZWxsb3ciLAogICJkYXNoQXJyYXkiOiBudWxsLAogICJkYXNoT2Zmc2V0IjogbnVsbCwKICAiZmlsbCI6IHRydWUsCiAgImZpbGxDb2xvciI6ICJibHVlIiwKICAiZmlsbE9wYWNpdHkiOiAwLjYsCiAgImZpbGxSdWxlIjogImV2ZW5vZGQiLAogICJsaW5lQ2FwIjogInJvdW5kIiwKICAibGluZUpvaW4iOiAicm91bmQiLAogICJvcGFjaXR5IjogMS4wLAogICJyYWRpdXMiOiA1LAogICJzdHJva2UiOiB0cnVlLAogICJ3ZWlnaHQiOiAzCn0KICAgICAgICAgICAgICAgICkuYWRkVG8oZmVhdHVyZV9ncm91cF84NTM3ZjVkMzkwYzI0YTA0OWRlMjVkYzQ2ZmU5OTQ2ZSk7CiAgICAgICAgICAgIAogICAgCiAgICAgICAgICAgIHZhciBjaXJjbGVfbWFya2VyXzNiMmI2YTMwY2FhMTRkOWNiZjA0ZDg5YTE2N2MzYzNjID0gTC5jaXJjbGVNYXJrZXIoCiAgICAgICAgICAgICAgICBbMzcuMzM3MjExNjA4ODg2NzIsLTEyMS44ODkyNzQ1OTcxNjc5N10sCiAgICAgICAgICAgICAgICB7CiAgImJ1YmJsaW5nTW91c2VFdmVudHMiOiB0cnVlLAogICJjb2xvciI6ICJ5ZWxsb3ciLAogICJkYXNoQXJyYXkiOiBudWxsLAogICJkYXNoT2Zmc2V0IjogbnVsbCwKICAiZmlsbCI6IHRydWUsCiAgImZpbGxDb2xvciI6ICJibHVlIiwKICAiZmlsbE9wYWNpdHkiOiAwLjYsCiAgImZpbGxSdWxlIjogImV2ZW5vZGQiLAogICJsaW5lQ2FwIjogInJvdW5kIiwKICAibGluZUpvaW4iOiAicm91bmQiLAogICJvcGFjaXR5IjogMS4wLAogICJyYWRpdXMiOiA1LAogICJzdHJva2UiOiB0cnVlLAogICJ3ZWlnaHQiOiAzCn0KICAgICAgICAgICAgICAgICkuYWRkVG8oZmVhdHVyZV9ncm91cF84NTM3ZjVkMzkwYzI0YTA0OWRlMjVkYzQ2ZmU5OTQ2ZSk7CiAgICAgICAgICAgIAogICAgCiAgICAgICAgICAgIHZhciBjaXJjbGVfbWFya2VyXzBiMjAyYzM2YWUwYjRjZjg5MzQ2OTljNDQyZWUzY2QxID0gTC5jaXJjbGVNYXJrZXIoCiAgICAgICAgICAgICAgICBbMzcuNDQ3MzI3LC0xMjIuMTU4NV0sCiAgICAgICAgICAgICAgICB7CiAgImJ1YmJsaW5nTW91c2VFdmVudHMiOiB0cnVlLAogICJjb2xvciI6ICJ5ZWxsb3ciLAogICJkYXNoQXJyYXkiOiBudWxsLAogICJkYXNoT2Zmc2V0IjogbnVsbCwKICAiZmlsbCI6IHRydWUsCiAgImZpbGxDb2xvciI6ICJibHVlIiwKICAiZmlsbE9wYWNpdHkiOiAwLjYsCiAgImZpbGxSdWxlIjogImV2ZW5vZGQiLAogICJsaW5lQ2FwIjogInJvdW5kIiwKICAibGluZUpvaW4iOiAicm91bmQiLAogICJvcGFjaXR5IjogMS4wLAogICJyYWRpdXMiOiA1LAogICJzdHJva2UiOiB0cnVlLAogICJ3ZWlnaHQiOiAzCn0KICAgICAgICAgICAgICAgICkuYWRkVG8oZmVhdHVyZV9ncm91cF84NTM3ZjVkMzkwYzI0YTA0OWRlMjVkYzQ2ZmU5OTQ2ZSk7CiAgICAgICAgICAgIAogICAgCiAgICAgICAgICAgIHZhciBjaXJjbGVfbWFya2VyXzVmNjBlZDc0ZjEzNDQ3YmRiNzBlNGEyMzMyOTA1OTIzID0gTC5jaXJjbGVNYXJrZXIoCiAgICAgICAgICAgICAgICBbMzcuNzgzNjU2OTgzMDExOTUsLTEyMi40MzI2NjIxNDk0NjI4MV0sCiAgICAgICAgICAgICAgICB7CiAgImJ1YmJsaW5nTW91c2VFdmVudHMiOiB0cnVlLAogICJjb2xvciI6ICJ5ZWxsb3ciLAogICJkYXNoQXJyYXkiOiBudWxsLAogICJkYXNoT2Zmc2V0IjogbnVsbCwKICAiZmlsbCI6IHRydWUsCiAgImZpbGxDb2xvciI6ICJibHVlIiwKICAiZmlsbE9wYWNpdHkiOiAwLjYsCiAgImZpbGxSdWxlIjogImV2ZW5vZGQiLAogICJsaW5lQ2FwIjogInJvdW5kIiwKICAibGluZUpvaW4iOiAicm91bmQiLAogICJvcGFjaXR5IjogMS4wLAogICJyYWRpdXMiOiA1LAogICJzdHJva2UiOiB0cnVlLAogICJ3ZWlnaHQiOiAzCn0KICAgICAgICAgICAgICAgICkuYWRkVG8oZmVhdHVyZV9ncm91cF84NTM3ZjVkMzkwYzI0YTA0OWRlMjVkYzQ2ZmU5OTQ2ZSk7CiAgICAgICAgICAgIAogICAgCiAgICAgICAgICAgIHZhciBjaXJjbGVfbWFya2VyXzEyYTkyM2NmMTZlMjQyMDVhNjgzZDg4MWI0MWVkOTkxID0gTC5jaXJjbGVNYXJrZXIoCiAgICAgICAgICAgICAgICBbMzcuMzA5NTEyMzYwNzk5NDQsLTEyMS44MTM2NDczMzIxODE3Nl0sCiAgICAgICAgICAgICAgICB7CiAgImJ1YmJsaW5nTW91c2VFdmVudHMiOiB0cnVlLAogICJjb2xvciI6ICJ5ZWxsb3ciLAogICJkYXNoQXJyYXkiOiBudWxsLAogICJkYXNoT2Zmc2V0IjogbnVsbCwKICAiZmlsbCI6IHRydWUsCiAgImZpbGxDb2xvciI6ICJibHVlIiwKICAiZmlsbE9wYWNpdHkiOiAwLjYsCiAgImZpbGxSdWxlIjogImV2ZW5vZGQiLAogICJsaW5lQ2FwIjogInJvdW5kIiwKICAibGluZUpvaW4iOiAicm91bmQiLAogICJvcGFjaXR5IjogMS4wLAogICJyYWRpdXMiOiA1LAogICJzdHJva2UiOiB0cnVlLAogICJ3ZWlnaHQiOiAzCn0KICAgICAgICAgICAgICAgICkuYWRkVG8oZmVhdHVyZV9ncm91cF84NTM3ZjVkMzkwYzI0YTA0OWRlMjVkYzQ2ZmU5OTQ2ZSk7CiAgICAgICAgICAgIAogICAgCiAgICAgICAgICAgIHZhciBjaXJjbGVfbWFya2VyXzcxMzU2Zjg0MTE5ZDQ3OTJhMjg1NjNkNWM3YjYyNmE4ID0gTC5jaXJjbGVNYXJrZXIoCiAgICAgICAgICAgICAgICBbMzcuMjY0MTkzLC0xMjEuOTI3NTc2XSwKICAgICAgICAgICAgICAgIHsKICAiYnViYmxpbmdNb3VzZUV2ZW50cyI6IHRydWUsCiAgImNvbG9yIjogInllbGxvdyIsCiAgImRhc2hBcnJheSI6IG51bGwsCiAgImRhc2hPZmZzZXQiOiBudWxsLAogICJmaWxsIjogdHJ1ZSwKICAiZmlsbENvbG9yIjogImJsdWUiLAogICJmaWxsT3BhY2l0eSI6IDAuNiwKICAiZmlsbFJ1bGUiOiAiZXZlbm9kZCIsCiAgImxpbmVDYXAiOiAicm91bmQiLAogICJsaW5lSm9pbiI6ICJyb3VuZCIsCiAgIm9wYWNpdHkiOiAxLjAsCiAgInJhZGl1cyI6IDUsCiAgInN0cm9rZSI6IHRydWUsCiAgIndlaWdodCI6IDMKfQogICAgICAgICAgICAgICAgKS5hZGRUbyhmZWF0dXJlX2dyb3VwXzg1MzdmNWQzOTBjMjRhMDQ5ZGUyNWRjNDZmZTk5NDZlKTsKICAgICAgICAgICAgCiAgICAKICAgICAgICAgICAgdmFyIGNpcmNsZV9tYXJrZXJfYWIwOWRhYWI0MDMwNDI5ZDljNTc1NzMzNmQyMTI2NWQgPSBMLmNpcmNsZU1hcmtlcigKICAgICAgICAgICAgICAgIFszNy4zMTk0NywtMTIxLjgyMzc2XSwKICAgICAgICAgICAgICAgIHsKICAiYnViYmxpbmdNb3VzZUV2ZW50cyI6IHRydWUsCiAgImNvbG9yIjogInllbGxvdyIsCiAgImRhc2hBcnJheSI6IG51bGwsCiAgImRhc2hPZmZzZXQiOiBudWxsLAogICJmaWxsIjogdHJ1ZSwKICAiZmlsbENvbG9yIjogImJsdWUiLAogICJmaWxsT3BhY2l0eSI6IDAuNiwKICAiZmlsbFJ1bGUiOiAiZXZlbm9kZCIsCiAgImxpbmVDYXAiOiAicm91bmQiLAogICJsaW5lSm9pbiI6ICJyb3VuZCIsCiAgIm9wYWNpdHkiOiAxLjAsCiAgInJhZGl1cyI6IDUsCiAgInN0cm9rZSI6IHRydWUsCiAgIndlaWdodCI6IDMKfQogICAgICAgICAgICAgICAgKS5hZGRUbyhmZWF0dXJlX2dyb3VwXzg1MzdmNWQzOTBjMjRhMDQ5ZGUyNWRjNDZmZTk5NDZlKTsKICAgICAgICAgICAgCiAgICAKICAgICAgICAgICAgdmFyIGNpcmNsZV9tYXJrZXJfMzg2MGY1NDNlMDc3NDdjNThmZTE3ZGU0OTU4YmRlYTIgPSBMLmNpcmNsZU1hcmtlcigKICAgICAgICAgICAgICAgIFszNy4zMDk2MzQ5LC0xMjEuODEwMDcxM10sCiAgICAgICAgICAgICAgICB7CiAgImJ1YmJsaW5nTW91c2VFdmVudHMiOiB0cnVlLAogICJjb2xvciI6ICJ5ZWxsb3ciLAogICJkYXNoQXJyYXkiOiBudWxsLAogICJkYXNoT2Zmc2V0IjogbnVsbCwKICAiZmlsbCI6IHRydWUsCiAgImZpbGxDb2xvciI6ICJibHVlIiwKICAiZmlsbE9wYWNpdHkiOiAwLjYsCiAgImZpbGxSdWxlIjogImV2ZW5vZGQiLAogICJsaW5lQ2FwIjogInJvdW5kIiwKICAibGluZUpvaW4iOiAicm91bmQiLAogICJvcGFjaXR5IjogMS4wLAogICJyYWRpdXMiOiA1LAogICJzdHJva2UiOiB0cnVlLAogICJ3ZWlnaHQiOiAzCn0KICAgICAgICAgICAgICAgICkuYWRkVG8oZmVhdHVyZV9ncm91cF84NTM3ZjVkMzkwYzI0YTA0OWRlMjVkYzQ2ZmU5OTQ2ZSk7CiAgICAgICAgICAgIAogICAgCiAgICAgICAgICAgIHZhciBjaXJjbGVfbWFya2VyX2FlNGFmYzllNTJmODQxNjE5Yzc1N2MzNTkxYzNjMDg4ID0gTC5jaXJjbGVNYXJrZXIoCiAgICAgICAgICAgICAgICBbMzcuMzA5NjYzLC0xMjEuODEwMV0sCiAgICAgICAgICAgICAgICB7CiAgImJ1YmJsaW5nTW91c2VFdmVudHMiOiB0cnVlLAogICJjb2xvciI6ICJ5ZWxsb3ciLAogICJkYXNoQXJyYXkiOiBudWxsLAogICJkYXNoT2Zmc2V0IjogbnVsbCwKICAiZmlsbCI6IHRydWUsCiAgImZpbGxDb2xvciI6ICJibHVlIiwKICAiZmlsbE9wYWNpdHkiOiAwLjYsCiAgImZpbGxSdWxlIjogImV2ZW5vZGQiLAogICJsaW5lQ2FwIjogInJvdW5kIiwKICAibGluZUpvaW4iOiAicm91bmQiLAogICJvcGFjaXR5IjogMS4wLAogICJyYWRpdXMiOiA1LAogICJzdHJva2UiOiB0cnVlLAogICJ3ZWlnaHQiOiAzCn0KICAgICAgICAgICAgICAgICkuYWRkVG8oZmVhdHVyZV9ncm91cF84NTM3ZjVkMzkwYzI0YTA0OWRlMjVkYzQ2ZmU5OTQ2ZSk7CiAgICAgICAgICAgIAogICAgCiAgICAgICAgICAgIHZhciBjaXJjbGVfbWFya2VyX2MzNzA0OGQxMWQyZDRjOTE4OWU0MGIzMjJhMDFkMDhhID0gTC5jaXJjbGVNYXJrZXIoCiAgICAgICAgICAgICAgICBbMzcuNzg5ODk5NDQ5NjUyNzQsLTEyMi40MDcwNzcxMzI4Njc0OV0sCiAgICAgICAgICAgICAgICB7CiAgImJ1YmJsaW5nTW91c2VFdmVudHMiOiB0cnVlLAogICJjb2xvciI6ICJ5ZWxsb3ciLAogICJkYXNoQXJyYXkiOiBudWxsLAogICJkYXNoT2Zmc2V0IjogbnVsbCwKICAiZmlsbCI6IHRydWUsCiAgImZpbGxDb2xvciI6ICJibHVlIiwKICAiZmlsbE9wYWNpdHkiOiAwLjYsCiAgImZpbGxSdWxlIjogImV2ZW5vZGQiLAogICJsaW5lQ2FwIjogInJvdW5kIiwKICAibGluZUpvaW4iOiAicm91bmQiLAogICJvcGFjaXR5IjogMS4wLAogICJyYWRpdXMiOiA1LAogICJzdHJva2UiOiB0cnVlLAogICJ3ZWlnaHQiOiAzCn0KICAgICAgICAgICAgICAgICkuYWRkVG8oZmVhdHVyZV9ncm91cF84NTM3ZjVkMzkwYzI0YTA0OWRlMjVkYzQ2ZmU5OTQ2ZSk7CiAgICAgICAgICAgIAo8L3NjcmlwdD4= onload=\"this.contentDocument.open();this.contentDocument.write(atob(this.getAttribute('data-html')));this.contentDocument.close();\" allowfullscreen webkitallowfullscreen mozallowfullscreen></iframe></div></div>"
      ],
      "text/plain": [
       "<folium.folium.Map at 0x7fc4638918b0>"
      ]
     },
     "execution_count": 138,
     "metadata": {},
     "output_type": "execute_result"
    }
   ],
   "source": [
    "sanjose_map = folium.Map(location=[latitude, longitude], zoom_start=12)\n",
    "\n",
    "\n",
    "incidents = folium.map.FeatureGroup()\n",
    "\n",
    "for lat, lng, in zip(df.lat, df.lng):\n",
    "    incidents.add_child(\n",
    "        folium.features.CircleMarker(\n",
    "            [lat, lng],\n",
    "            radius=5, \n",
    "            color='yellow',\n",
    "            fill=True,\n",
    "            fill_color='blue',\n",
    "            fill_opacity=0.6\n",
    "        )\n",
    "    )\n",
    "\n",
    "# add pop-up text to each marker on the map\n",
    "latitudes = df.lat\n",
    "longitudes = df.lng\n",
    "label = df.categories\n",
    "\n",
    "for lat, lng, label in zip(latitudes, longitudes, label):\n",
    "    folium.Marker([lat, lng], popup=label).add_to(sanjose_map)    \n",
    "    \n",
    "# add incidents to map\n",
    "sanjose_map.add_child(incidents)"
   ]
  },
  {
   "cell_type": "code",
   "execution_count": 139,
   "metadata": {},
   "outputs": [
    {
     "data": {
      "text/plain": [
       "Index(['name', 'categories', 'address', 'lat', 'lng', 'postalCode',\n",
       "       'formattedAddress', 'id', 'distance', 'city'],\n",
       "      dtype='object')"
      ]
     },
     "execution_count": 139,
     "metadata": {},
     "output_type": "execute_result"
    }
   ],
   "source": [
    "df.columns"
   ]
  },
  {
   "cell_type": "code",
   "execution_count": 140,
   "metadata": {},
   "outputs": [],
   "source": [
    "# set number of clusters\n",
    "kclusters = 4\n",
    "\n",
    "group_cluster = df.drop(['name', 'categories','address', 'postalCode','formattedAddress','id','distance','city'], 1)\n",
    "\n",
    "# run k-means clustering\n",
    "kmeans = KMeans(n_clusters=kclusters, random_state=0).fit(group_cluster)\n",
    "\n",
    "# check cluster labels generated for each row in the dataframe\n",
    "kmeans.labels_\n",
    "\n",
    "# Insert k cluster as column into df\n",
    "\n",
    "df.insert(0, 'cluster label', kmeans.labels_)"
   ]
  },
  {
   "cell_type": "code",
   "execution_count": null,
   "metadata": {},
   "outputs": [],
   "source": [
    "plt.plot(range(1,Kcluster),mean_acc,'g')\n"
   ]
  },
  {
   "cell_type": "code",
   "execution_count": 141,
   "metadata": {},
   "outputs": [],
   "source": [
    "map_clusters = folium.Map(location=[latitude, longitude], zoom_start=11)\n",
    "\n",
    "# set color scheme for the clusters\n",
    "x = np.arange(kclusters)\n",
    "ys = [i + x + (i*x)**2 for i in range(kclusters)]\n",
    "colors_array = cm.rainbow(np.linspace(0, 1, len(ys)))\n",
    "rainbow = [colors.rgb2hex(i) for i in colors_array]\n",
    "\n",
    "# add markers to the map\n",
    "markers_colors = []\n",
    "for lat, lon, poi, cluster in zip(df['lat'], df['lng'],df['city'],df['cluster label']):\n",
    "    label = folium.Popup(str(poi) + ' Cluster ' + str(cluster), parse_html=True)\n",
    "    folium.CircleMarker(\n",
    "        [lat, lon],\n",
    "        radius=5,\n",
    "        popup=label,\n",
    "        color=rainbow[cluster-1],\n",
    "        fill=True,\n",
    "        fill_color=rainbow[cluster-1],\n",
    "        fill_opacity=0.7).add_to(map_clusters)"
   ]
  },
  {
   "cell_type": "code",
   "execution_count": 142,
   "metadata": {},
   "outputs": [
    {
     "data": {
      "text/html": [
       "<div style=\"width:100%;\"><div style=\"position:relative;width:100%;height:0;padding-bottom:60%;\"><span style=\"color:#565656\">Make this Notebook Trusted to load map: File -> Trust Notebook</span><iframe src=\"about:blank\" style=\"position:absolute;width:100%;height:100%;left:0;top:0;border:none !important;\" data-html=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 onload=\"this.contentDocument.open();this.contentDocument.write(atob(this.getAttribute('data-html')));this.contentDocument.close();\" allowfullscreen webkitallowfullscreen mozallowfullscreen></iframe></div></div>"
      ],
      "text/plain": [
       "<folium.folium.Map at 0x7fc46463fe20>"
      ]
     },
     "execution_count": 142,
     "metadata": {},
     "output_type": "execute_result"
    }
   ],
   "source": [
    "map_clusters"
   ]
  },
  {
   "cell_type": "code",
   "execution_count": 150,
   "metadata": {},
   "outputs": [
    {
     "data": {
      "text/html": [
       "<div>\n",
       "<style scoped>\n",
       "    .dataframe tbody tr th:only-of-type {\n",
       "        vertical-align: middle;\n",
       "    }\n",
       "\n",
       "    .dataframe tbody tr th {\n",
       "        vertical-align: top;\n",
       "    }\n",
       "\n",
       "    .dataframe thead th {\n",
       "        text-align: right;\n",
       "    }\n",
       "</style>\n",
       "<table border=\"1\" class=\"dataframe\">\n",
       "  <thead>\n",
       "    <tr style=\"text-align: right;\">\n",
       "      <th></th>\n",
       "      <th>cluster label</th>\n",
       "      <th>name</th>\n",
       "      <th>categories</th>\n",
       "      <th>address</th>\n",
       "      <th>lat</th>\n",
       "      <th>lng</th>\n",
       "      <th>postalCode</th>\n",
       "      <th>formattedAddress</th>\n",
       "      <th>id</th>\n",
       "      <th>distance</th>\n",
       "      <th>city</th>\n",
       "    </tr>\n",
       "  </thead>\n",
       "  <tbody>\n",
       "    <tr>\n",
       "      <th>0</th>\n",
       "      <td>2</td>\n",
       "      <td>Boba Bar Teahouse &amp; Eatery</td>\n",
       "      <td>Bubble Tea Shop</td>\n",
       "      <td>310 S 3rd St</td>\n",
       "      <td>37.332368</td>\n",
       "      <td>-121.884731</td>\n",
       "      <td>95112</td>\n",
       "      <td>[310 S 3rd St (at E San Carlos St), San Jose, ...</td>\n",
       "      <td>53cf2ef3498e1e5b6248251d</td>\n",
       "      <td>14017</td>\n",
       "      <td>San Jose</td>\n",
       "    </tr>\n",
       "    <tr>\n",
       "      <th>6</th>\n",
       "      <td>2</td>\n",
       "      <td>Oh Boba</td>\n",
       "      <td>Bubble Tea Shop</td>\n",
       "      <td>NaN</td>\n",
       "      <td>37.350555</td>\n",
       "      <td>-121.944010</td>\n",
       "      <td>NaN</td>\n",
       "      <td>[Santa Clara, CA]</td>\n",
       "      <td>51c88905498e52a0369b41ce</td>\n",
       "      <td>8419</td>\n",
       "      <td>Santa Clara</td>\n",
       "    </tr>\n",
       "    <tr>\n",
       "      <th>7</th>\n",
       "      <td>2</td>\n",
       "      <td>Boba Pub</td>\n",
       "      <td>Coffee Shop</td>\n",
       "      <td>NaN</td>\n",
       "      <td>37.253480</td>\n",
       "      <td>-121.901566</td>\n",
       "      <td>NaN</td>\n",
       "      <td>[San Jose, CA]</td>\n",
       "      <td>541dea34498e9ab326788618</td>\n",
       "      <td>17529</td>\n",
       "      <td>San Jose</td>\n",
       "    </tr>\n",
       "    <tr>\n",
       "      <th>9</th>\n",
       "      <td>2</td>\n",
       "      <td>Bobaholics</td>\n",
       "      <td>Bubble Tea Shop</td>\n",
       "      <td>1055 E Brokaw Rd #40</td>\n",
       "      <td>37.384296</td>\n",
       "      <td>-121.897496</td>\n",
       "      <td>95131</td>\n",
       "      <td>[1055 E Brokaw Rd #40, San Jose, CA 95131]</td>\n",
       "      <td>5c05bff1b3c961002cc92c23</td>\n",
       "      <td>12403</td>\n",
       "      <td>San Jose</td>\n",
       "    </tr>\n",
       "    <tr>\n",
       "      <th>10</th>\n",
       "      <td>2</td>\n",
       "      <td>Tiger Milk Boba</td>\n",
       "      <td>Bubble Tea Shop</td>\n",
       "      <td>72 N Almaden Ave</td>\n",
       "      <td>37.336055</td>\n",
       "      <td>-121.894399</td>\n",
       "      <td>95110</td>\n",
       "      <td>[72 N Almaden Ave, San Jose, CA 95110]</td>\n",
       "      <td>5ec8592ba823280008d502fb</td>\n",
       "      <td>13080</td>\n",
       "      <td>San Jose</td>\n",
       "    </tr>\n",
       "    <tr>\n",
       "      <th>11</th>\n",
       "      <td>2</td>\n",
       "      <td>Bob &amp; Karen's</td>\n",
       "      <td>None</td>\n",
       "      <td>NaN</td>\n",
       "      <td>37.310632</td>\n",
       "      <td>-121.988374</td>\n",
       "      <td>NaN</td>\n",
       "      <td>[California]</td>\n",
       "      <td>4bb89e8f7421a593abeac140</td>\n",
       "      <td>7745</td>\n",
       "      <td>NaN</td>\n",
       "    </tr>\n",
       "    <tr>\n",
       "      <th>12</th>\n",
       "      <td>2</td>\n",
       "      <td>WeBoba</td>\n",
       "      <td>Bubble Tea Shop</td>\n",
       "      <td>3030 El Camino Real</td>\n",
       "      <td>37.351721</td>\n",
       "      <td>-121.981472</td>\n",
       "      <td>95051</td>\n",
       "      <td>[3030 El Camino Real, Santa Clara, CA 95051]</td>\n",
       "      <td>5c1716ef182223002545125c</td>\n",
       "      <td>5215</td>\n",
       "      <td>Santa Clara</td>\n",
       "    </tr>\n",
       "    <tr>\n",
       "      <th>13</th>\n",
       "      <td>2</td>\n",
       "      <td>Cafe Boba</td>\n",
       "      <td>Coffee Shop</td>\n",
       "      <td>110 E San Fernando St</td>\n",
       "      <td>37.335346</td>\n",
       "      <td>-121.886551</td>\n",
       "      <td>95112</td>\n",
       "      <td>[110 E San Fernando St, San Jose, CA 95112]</td>\n",
       "      <td>4f3262fd19836c91c7d2c424</td>\n",
       "      <td>13769</td>\n",
       "      <td>San Jose</td>\n",
       "    </tr>\n",
       "    <tr>\n",
       "      <th>14</th>\n",
       "      <td>2</td>\n",
       "      <td>Boba Fitt</td>\n",
       "      <td>Bubble Tea Shop</td>\n",
       "      <td>1051 E Capitol Expy</td>\n",
       "      <td>37.301310</td>\n",
       "      <td>-121.822820</td>\n",
       "      <td>95121</td>\n",
       "      <td>[1051 E Capitol Expy, San Jose, CA 95121]</td>\n",
       "      <td>5abc614d2c7eb9726c9ee34e</td>\n",
       "      <td>20339</td>\n",
       "      <td>San Jose</td>\n",
       "    </tr>\n",
       "    <tr>\n",
       "      <th>16</th>\n",
       "      <td>2</td>\n",
       "      <td>Boba Tea Express</td>\n",
       "      <td>Café</td>\n",
       "      <td>4100 Monterey Hwy</td>\n",
       "      <td>37.279468</td>\n",
       "      <td>-121.834097</td>\n",
       "      <td>95111</td>\n",
       "      <td>[4100 Monterey Hwy (Marina), San Jose, CA 95111]</td>\n",
       "      <td>5153a474e4b04e3a8d061b99</td>\n",
       "      <td>20481</td>\n",
       "      <td>San Jose</td>\n",
       "    </tr>\n",
       "    <tr>\n",
       "      <th>18</th>\n",
       "      <td>2</td>\n",
       "      <td>Bob &amp; Steve's Auto &amp; Truck Repair</td>\n",
       "      <td>Automotive Shop</td>\n",
       "      <td>NaN</td>\n",
       "      <td>37.372134</td>\n",
       "      <td>-121.908033</td>\n",
       "      <td>NaN</td>\n",
       "      <td>[San Jose, CA]</td>\n",
       "      <td>55df26dc498e799bb7713be0</td>\n",
       "      <td>11357</td>\n",
       "      <td>San Jose</td>\n",
       "    </tr>\n",
       "    <tr>\n",
       "      <th>19</th>\n",
       "      <td>2</td>\n",
       "      <td>Oh My Boba</td>\n",
       "      <td>Bubble Tea Shop</td>\n",
       "      <td>NaN</td>\n",
       "      <td>37.392014</td>\n",
       "      <td>-121.842310</td>\n",
       "      <td>95132</td>\n",
       "      <td>[San Jose, CA 95132]</td>\n",
       "      <td>5c99597a41b6c90026b07ee1</td>\n",
       "      <td>17356</td>\n",
       "      <td>San Jose</td>\n",
       "    </tr>\n",
       "    <tr>\n",
       "      <th>21</th>\n",
       "      <td>2</td>\n",
       "      <td>BOBATEANI</td>\n",
       "      <td>Bubble Tea Shop</td>\n",
       "      <td>75 E Santa Clara St</td>\n",
       "      <td>37.337212</td>\n",
       "      <td>-121.889275</td>\n",
       "      <td>95113</td>\n",
       "      <td>[75 E Santa Clara St, San Jose, CA 95113]</td>\n",
       "      <td>5963f134364d9774dfe2603c</td>\n",
       "      <td>13482</td>\n",
       "      <td>San Jose</td>\n",
       "    </tr>\n",
       "    <tr>\n",
       "      <th>24</th>\n",
       "      <td>2</td>\n",
       "      <td>Simply Boba</td>\n",
       "      <td>Bubble Tea Shop</td>\n",
       "      <td>3005 Silver Creek Rd Ste 192</td>\n",
       "      <td>37.309512</td>\n",
       "      <td>-121.813647</td>\n",
       "      <td>95121</td>\n",
       "      <td>[3005 Silver Creek Rd Ste 192, San Jose, CA 95...</td>\n",
       "      <td>54cbe525498e1886f9b7c459</td>\n",
       "      <td>20786</td>\n",
       "      <td>San Jose</td>\n",
       "    </tr>\n",
       "    <tr>\n",
       "      <th>25</th>\n",
       "      <td>2</td>\n",
       "      <td>Bob and Sue's</td>\n",
       "      <td>None</td>\n",
       "      <td>NaN</td>\n",
       "      <td>37.264193</td>\n",
       "      <td>-121.927576</td>\n",
       "      <td>NaN</td>\n",
       "      <td>[San Jose, CA]</td>\n",
       "      <td>513e43a8e4b099e0baf9525a</td>\n",
       "      <td>15113</td>\n",
       "      <td>San Jose</td>\n",
       "    </tr>\n",
       "    <tr>\n",
       "      <th>26</th>\n",
       "      <td>2</td>\n",
       "      <td>Pho 21 &amp; Boba 21</td>\n",
       "      <td>Vietnamese Restaurant</td>\n",
       "      <td>NaN</td>\n",
       "      <td>37.319470</td>\n",
       "      <td>-121.823760</td>\n",
       "      <td>95122</td>\n",
       "      <td>[San Jose, CA 95122]</td>\n",
       "      <td>59a10b74135b395e9dc4a1f9</td>\n",
       "      <td>19599</td>\n",
       "      <td>San Jose</td>\n",
       "    </tr>\n",
       "    <tr>\n",
       "      <th>27</th>\n",
       "      <td>2</td>\n",
       "      <td>OooH Boba Tea and Desserts</td>\n",
       "      <td>Dessert Shop</td>\n",
       "      <td>1783 E Capitol Expy</td>\n",
       "      <td>37.309635</td>\n",
       "      <td>-121.810071</td>\n",
       "      <td>95121</td>\n",
       "      <td>[1783 E Capitol Expy, San Jose, CA 95121]</td>\n",
       "      <td>5cbf455ba22db7002b5bcb91</td>\n",
       "      <td>21082</td>\n",
       "      <td>San Jose</td>\n",
       "    </tr>\n",
       "    <tr>\n",
       "      <th>28</th>\n",
       "      <td>2</td>\n",
       "      <td>Joy Boba Tea</td>\n",
       "      <td>Bubble Tea Shop</td>\n",
       "      <td>1783 E Capitol Expy</td>\n",
       "      <td>37.309663</td>\n",
       "      <td>-121.810100</td>\n",
       "      <td>95121</td>\n",
       "      <td>[1783 E Capitol Expy, San Jose, CA 95121]</td>\n",
       "      <td>596595de1fa76316a9b9a42e</td>\n",
       "      <td>21079</td>\n",
       "      <td>San Jose</td>\n",
       "    </tr>\n",
       "  </tbody>\n",
       "</table>\n",
       "</div>"
      ],
      "text/plain": [
       "    cluster label                               name             categories  \\\n",
       "0               2         Boba Bar Teahouse & Eatery        Bubble Tea Shop   \n",
       "6               2                            Oh Boba        Bubble Tea Shop   \n",
       "7               2                           Boba Pub            Coffee Shop   \n",
       "9               2                         Bobaholics        Bubble Tea Shop   \n",
       "10              2                    Tiger Milk Boba        Bubble Tea Shop   \n",
       "11              2                      Bob & Karen's                   None   \n",
       "12              2                             WeBoba        Bubble Tea Shop   \n",
       "13              2                          Cafe Boba            Coffee Shop   \n",
       "14              2                          Boba Fitt        Bubble Tea Shop   \n",
       "16              2                   Boba Tea Express                   Café   \n",
       "18              2  Bob & Steve's Auto & Truck Repair        Automotive Shop   \n",
       "19              2                         Oh My Boba        Bubble Tea Shop   \n",
       "21              2                          BOBATEANI        Bubble Tea Shop   \n",
       "24              2                        Simply Boba        Bubble Tea Shop   \n",
       "25              2                      Bob and Sue's                   None   \n",
       "26              2                   Pho 21 & Boba 21  Vietnamese Restaurant   \n",
       "27              2         OooH Boba Tea and Desserts           Dessert Shop   \n",
       "28              2                       Joy Boba Tea        Bubble Tea Shop   \n",
       "\n",
       "                         address        lat         lng postalCode  \\\n",
       "0                   310 S 3rd St  37.332368 -121.884731      95112   \n",
       "6                            NaN  37.350555 -121.944010        NaN   \n",
       "7                            NaN  37.253480 -121.901566        NaN   \n",
       "9           1055 E Brokaw Rd #40  37.384296 -121.897496      95131   \n",
       "10              72 N Almaden Ave  37.336055 -121.894399      95110   \n",
       "11                           NaN  37.310632 -121.988374        NaN   \n",
       "12           3030 El Camino Real  37.351721 -121.981472      95051   \n",
       "13         110 E San Fernando St  37.335346 -121.886551      95112   \n",
       "14           1051 E Capitol Expy  37.301310 -121.822820      95121   \n",
       "16             4100 Monterey Hwy  37.279468 -121.834097      95111   \n",
       "18                           NaN  37.372134 -121.908033        NaN   \n",
       "19                           NaN  37.392014 -121.842310      95132   \n",
       "21           75 E Santa Clara St  37.337212 -121.889275      95113   \n",
       "24  3005 Silver Creek Rd Ste 192  37.309512 -121.813647      95121   \n",
       "25                           NaN  37.264193 -121.927576        NaN   \n",
       "26                           NaN  37.319470 -121.823760      95122   \n",
       "27           1783 E Capitol Expy  37.309635 -121.810071      95121   \n",
       "28           1783 E Capitol Expy  37.309663 -121.810100      95121   \n",
       "\n",
       "                                     formattedAddress  \\\n",
       "0   [310 S 3rd St (at E San Carlos St), San Jose, ...   \n",
       "6                                   [Santa Clara, CA]   \n",
       "7                                      [San Jose, CA]   \n",
       "9          [1055 E Brokaw Rd #40, San Jose, CA 95131]   \n",
       "10             [72 N Almaden Ave, San Jose, CA 95110]   \n",
       "11                                       [California]   \n",
       "12       [3030 El Camino Real, Santa Clara, CA 95051]   \n",
       "13        [110 E San Fernando St, San Jose, CA 95112]   \n",
       "14          [1051 E Capitol Expy, San Jose, CA 95121]   \n",
       "16   [4100 Monterey Hwy (Marina), San Jose, CA 95111]   \n",
       "18                                     [San Jose, CA]   \n",
       "19                               [San Jose, CA 95132]   \n",
       "21          [75 E Santa Clara St, San Jose, CA 95113]   \n",
       "24  [3005 Silver Creek Rd Ste 192, San Jose, CA 95...   \n",
       "25                                     [San Jose, CA]   \n",
       "26                               [San Jose, CA 95122]   \n",
       "27          [1783 E Capitol Expy, San Jose, CA 95121]   \n",
       "28          [1783 E Capitol Expy, San Jose, CA 95121]   \n",
       "\n",
       "                          id  distance         city  \n",
       "0   53cf2ef3498e1e5b6248251d     14017     San Jose  \n",
       "6   51c88905498e52a0369b41ce      8419  Santa Clara  \n",
       "7   541dea34498e9ab326788618     17529     San Jose  \n",
       "9   5c05bff1b3c961002cc92c23     12403     San Jose  \n",
       "10  5ec8592ba823280008d502fb     13080     San Jose  \n",
       "11  4bb89e8f7421a593abeac140      7745          NaN  \n",
       "12  5c1716ef182223002545125c      5215  Santa Clara  \n",
       "13  4f3262fd19836c91c7d2c424     13769     San Jose  \n",
       "14  5abc614d2c7eb9726c9ee34e     20339     San Jose  \n",
       "16  5153a474e4b04e3a8d061b99     20481     San Jose  \n",
       "18  55df26dc498e799bb7713be0     11357     San Jose  \n",
       "19  5c99597a41b6c90026b07ee1     17356     San Jose  \n",
       "21  5963f134364d9774dfe2603c     13482     San Jose  \n",
       "24  54cbe525498e1886f9b7c459     20786     San Jose  \n",
       "25  513e43a8e4b099e0baf9525a     15113     San Jose  \n",
       "26  59a10b74135b395e9dc4a1f9     19599     San Jose  \n",
       "27  5cbf455ba22db7002b5bcb91     21082     San Jose  \n",
       "28  596595de1fa76316a9b9a42e     21079     San Jose  "
      ]
     },
     "execution_count": 150,
     "metadata": {},
     "output_type": "execute_result"
    }
   ],
   "source": [
    "cluster_2 = df.loc[df['cluster label'] == 2]\n",
    "cluster_2"
   ]
  },
  {
   "cell_type": "markdown",
   "metadata": {},
   "source": [
    "# Cluster result\n",
    "In comparison with other county and city within the area, We can observe San Jose attracted majority of the boba locations"
   ]
  },
  {
   "cell_type": "code",
   "execution_count": 151,
   "metadata": {},
   "outputs": [
    {
     "data": {
      "text/html": [
       "<div style=\"width:100%;\"><div style=\"position:relative;width:100%;height:0;padding-bottom:60%;\"><span style=\"color:#565656\">Make this Notebook Trusted to load map: File -> Trust Notebook</span><iframe src=\"about:blank\" style=\"position:absolute;width:100%;height:100%;left:0;top:0;border:none !important;\" data-html=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 onload=\"this.contentDocument.open();this.contentDocument.write(atob(this.getAttribute('data-html')));this.contentDocument.close();\" allowfullscreen webkitallowfullscreen mozallowfullscreen></iframe></div></div>"
      ],
      "text/plain": [
       "<folium.folium.Map at 0x7fc464734070>"
      ]
     },
     "execution_count": 151,
     "metadata": {},
     "output_type": "execute_result"
    }
   ],
   "source": [
    "sanjose_map = folium.Map(location=[latitude, longitude], zoom_start=12)\n",
    "\n",
    "\n",
    "map_feature = folium.map.FeatureGroup()\n",
    "\n",
    "for lat, lng, in zip(cluster_2.lat, cluster_2.lng):\n",
    "    map_feature.add_child(\n",
    "        folium.features.CircleMarker(\n",
    "            [lat, lng],\n",
    "            radius=5, \n",
    "            color='yellow',\n",
    "            fill=True,\n",
    "            fill_color='blue',\n",
    "            fill_opacity=0.6\n",
    "        )\n",
    "    )\n",
    "\n",
    "# add pop-up text to each marker on the map\n",
    "latitudes = list(df.lat)\n",
    "longitudes = list(df.lng)\n",
    "labels = list(df.name)\n",
    "\n",
    "for lat, lng, label in zip(cluster_2.lat,cluster_2.lng, df.categories):\n",
    "    folium.Marker([lat, lng], popup=label).add_to(sanjose_map)    \n",
    "    \n",
    "# add incidents to map\n",
    "sanjose_map.add_child(map_feature)"
   ]
  },
  {
   "cell_type": "markdown",
   "metadata": {},
   "source": [
    "# CLuster with most Boba shop and what are those shop"
   ]
  },
  {
   "cell_type": "markdown",
   "metadata": {},
   "source": [
    "#### Tiger Milk Tea"
   ]
  },
  {
   "cell_type": "code",
   "execution_count": 152,
   "metadata": {},
   "outputs": [
    {
     "name": "stdout",
     "output_type": "stream",
     "text": [
      "total like:  51\n",
      "price:  {'tier': 1, 'message': 'Cheap', 'currency': '$'}\n"
     ]
    }
   ],
   "source": [
    "venue_id = '53cf2ef3498e1e5b6248251d'\n",
    "radius = 200\n",
    "# url = 'https://api.foursquare.com/v2/venues/search?client_id={}&client_secret={}&ll={},{}&oauth_token={}&v={}&radius={}&limit={}'.format(CLIENT_ID, CLIENT_SECRET, latitude, longitude,ACCESS_TOKEN, VERSION, radius, LIMIT)\n",
    "url = 'https://api.foursquare.com/v2/venues/{}?client_id={}&client_secret={}&ll={},{}&oauth_token={}&v={}&radius={}&limit={}'.format(venue_id,CLIENT_ID, CLIENT_SECRET, latitude, longitude,ACCESS_TOKEN, VERSION, radius, LIMIT)\n",
    "\n",
    "# Get our result return from the foursqaure dbase\n",
    "results = requests.get(url).json()\n",
    "print('total like: ', results['response']['venue']['likes']['count'])\n",
    "print('price: ', results['response']['venue']['price'])"
   ]
  },
  {
   "cell_type": "code",
   "execution_count": 153,
   "metadata": {},
   "outputs": [
    {
     "name": "stdout",
     "output_type": "stream",
     "text": [
      "total like:  0\n"
     ]
    }
   ],
   "source": [
    "venue_id = '5ec8592ba823280008d502fb'\n",
    "radius = 200\n",
    "# url = 'https://api.foursquare.com/v2/venues/search?client_id={}&client_secret={}&ll={},{}&oauth_token={}&v={}&radius={}&limit={}'.format(CLIENT_ID, CLIENT_SECRET, latitude, longitude,ACCESS_TOKEN, VERSION, radius, LIMIT)\n",
    "url = 'https://api.foursquare.com/v2/venues/{}?client_id={}&client_secret={}&ll={},{}&oauth_token={}&v={}&radius={}&limit={}'.format(venue_id,CLIENT_ID, CLIENT_SECRET, latitude, longitude,ACCESS_TOKEN, VERSION, radius, LIMIT)\n",
    "\n",
    "# Get our result return from the foursqaure dbase\n",
    "results = requests.get(url).json()\n",
    "print('total like: ', results['response']['venue']['likes']['count'])"
   ]
  },
  {
   "cell_type": "markdown",
   "metadata": {},
   "source": [
    "#### The last one doesnt look too promising because it only have 2 rating"
   ]
  },
  {
   "cell_type": "code",
   "execution_count": 154,
   "metadata": {},
   "outputs": [
    {
     "data": {
      "text/plain": [
       "15"
      ]
     },
     "execution_count": 154,
     "metadata": {},
     "output_type": "execute_result"
    }
   ],
   "source": [
    "boba_shop_in_SJ = cluster_2[cluster_2['city'] == 'San Jose'].city.count()\n",
    "boba_shop_in_SJ"
   ]
  },
  {
   "cell_type": "code",
   "execution_count": 155,
   "metadata": {},
   "outputs": [
    {
     "data": {
      "text/plain": [
       "29"
      ]
     },
     "execution_count": 155,
     "metadata": {},
     "output_type": "execute_result"
    }
   ],
   "source": [
    "boba_shop_in_Bay = df.city.count()\n",
    "boba_shop_in_Bay"
   ]
  },
  {
   "cell_type": "code",
   "execution_count": 156,
   "metadata": {},
   "outputs": [
    {
     "data": {
      "text/plain": [
       "51.724137931034484"
      ]
     },
     "execution_count": 156,
     "metadata": {},
     "output_type": "execute_result"
    }
   ],
   "source": [
    "percentage_boba_sj = (boba_shop_in_SJ/boba_shop_in_Bay) * 100\n",
    "percentage_boba_sj"
   ]
  },
  {
   "cell_type": "markdown",
   "metadata": {},
   "source": [
    "## Discussion\n",
    "    By using folium and K-mean cluster analysis, we was able to figure out which region within the Bay area contain the most boba shop. We also check out two of those boba shop within the San Jose city which is a variable of cluster 0. We can see that Tiger Milk Tea have higher rating and also have more information about price.\n",
    "# Conclusion\n",
    "    There is a total of 29 boba shops in the Bay area, and 15 of these boba shops located in San Jose City. That is 52% if the boba shop locate in San Jose. SO, for those boba lover\n",
    "    considering moving to the Bay Area, I would highly recommend for you to stay near San Jose."
   ]
  },
  {
   "cell_type": "code",
   "execution_count": null,
   "metadata": {},
   "outputs": [],
   "source": []
  }
 ],
 "metadata": {
  "kernelspec": {
   "display_name": "Python 3",
   "language": "python",
   "name": "python3"
  },
  "language_info": {
   "codemirror_mode": {
    "name": "ipython",
    "version": 3
   },
   "file_extension": ".py",
   "mimetype": "text/x-python",
   "name": "python",
   "nbconvert_exporter": "python",
   "pygments_lexer": "ipython3",
   "version": "3.8.3"
  }
 },
 "nbformat": 4,
 "nbformat_minor": 4
}
